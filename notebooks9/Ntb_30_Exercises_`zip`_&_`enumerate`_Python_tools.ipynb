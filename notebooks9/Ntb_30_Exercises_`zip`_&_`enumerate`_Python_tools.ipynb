{
  "nbformat": 4,
  "nbformat_minor": 0,
  "metadata": {
    "colab": {
      "provenance": []
    },
    "kernelspec": {
      "name": "python3",
      "display_name": "Python 3"
    },
    "language_info": {
      "name": "python"
    }
  },
  "cells": [
    {
      "cell_type": "markdown",
      "source": [
        "1 - In the last class, we have used the `zip` function to iterate over two different lists. At the same occasion, we have faced questions about the `enumerate`fuction."
      ],
      "metadata": {
        "id": "3tEk8qUQOHje"
      }
    },
    {
      "cell_type": "markdown",
      "source": [
        "Today, we will see the definition of both and do some exercise about them."
      ],
      "metadata": {
        "id": "LY7m3mCjOWoK"
      }
    },
    {
      "cell_type": "markdown",
      "source": [
        "2 - ZIP & ENUMERATE definitions"
      ],
      "metadata": {
        "id": "SLC8dubTOecq"
      }
    },
    {
      "cell_type": "markdown",
      "source": [
        "The ZIP function takes iterables (like lists, tuples, etc.) and returns an iterator that aggregates elements from each of the iterables.\n",
        "It stops when the shortest input iterable is exhausted."
      ],
      "metadata": {
        "id": "k01N3Ta-O8cK"
      }
    },
    {
      "cell_type": "code",
      "source": [
        "# Using zip to combine two lists\n",
        "list1 = [10, 20, 30]\n",
        "list2 = ['A', 'B', 'C']\n",
        "\n",
        "new_zipped = zip(list1, list2)\n",
        "\n",
        "# Converting the iterator to a list\n",
        "zipped_list = list(new_zipped)\n",
        "print(zipped_list)"
      ],
      "metadata": {
        "colab": {
          "base_uri": "https://localhost:8080/"
        },
        "id": "K8FIjG6uO5No",
        "outputId": "66127cc5-356b-4bbf-81c3-7c832e43fb4b"
      },
      "execution_count": null,
      "outputs": [
        {
          "output_type": "stream",
          "name": "stdout",
          "text": [
            "[(10, 'A'), (20, 'B'), (30, 'C')]\n"
          ]
        }
      ]
    },
    {
      "cell_type": "markdown",
      "source": [
        "The ENUMERATE function adds a counter to an iterable and returns it as an enumerate object, which yields pairs of an index and the value from the iterable."
      ],
      "metadata": {
        "id": "I73bjEi8PjRu"
      }
    },
    {
      "cell_type": "code",
      "source": [
        "# Using enumerate to get index-value pairs from a list\n",
        "my_list = ['AZUL', 'ROXO', 'VERMELHO']\n",
        "\n",
        "for index, value in enumerate(my_list):\n",
        "    print(f\"Index: {index}, Value: {value}\")\n"
      ],
      "metadata": {
        "colab": {
          "base_uri": "https://localhost:8080/"
        },
        "id": "u0084ZWfPeHS",
        "outputId": "8733c664-44ad-4a01-ea37-cf69bfada4a2"
      },
      "execution_count": null,
      "outputs": [
        {
          "output_type": "stream",
          "name": "stdout",
          "text": [
            "Index: 0, Value: AZUL\n",
            "Index: 1, Value: ROXO\n",
            "Index: 2, Value: VERMELHO\n"
          ]
        }
      ]
    },
    {
      "cell_type": "markdown",
      "source": [
        "DIFFERENCES: ZIP combines elements from multiple iterables into tuples, while ENUMERATE adds an index to each element of a single iterable.\n",
        "ZIP stops when the shortest input iterable is exhausted. ENUMERATE goes through all elements of the input iterable."
      ],
      "metadata": {
        "id": "t1cEorAmQQZ2"
      }
    },
    {
      "cell_type": "markdown",
      "source": [
        "Another examples of ZIP & ENUMERATE follow:"
      ],
      "metadata": {
        "id": "gr5D8OWXRvZ8"
      }
    },
    {
      "cell_type": "code",
      "source": [
        "# Example 01 - ZIP\n",
        "list1 = [1, 2, 3]\n",
        "list2 = ['a', 'b', 'c']\n",
        "\n",
        "for num, letter in zip(list1, list2):\n",
        "    print(f\"Number: {num}, Letter: {letter}\")"
      ],
      "metadata": {
        "id": "EsA34rQ6QEnA"
      },
      "execution_count": null,
      "outputs": []
    },
    {
      "cell_type": "code",
      "source": [
        "# Example 02 - ZIP\n",
        "matrix = [\n",
        "    [1, 2, 3],\n",
        "    [4, 5, 6],\n",
        "    [7, 8, 9]\n",
        "]\n",
        "\n",
        "transposed = list(zip(*matrix))\n",
        "print(transposed)"
      ],
      "metadata": {
        "id": "Lzf256gUSA0J"
      },
      "execution_count": null,
      "outputs": []
    },
    {
      "cell_type": "code",
      "source": [
        "# Example 03 - Enumerate\n",
        "fruits = ['apple', 'banana', 'orange']\n",
        "\n",
        "for index, fruit in enumerate(fruits):\n",
        "    print(f\"Index: {index}, Fruit: {fruit}\")"
      ],
      "metadata": {
        "id": "3S7mFEK3SXsz"
      },
      "execution_count": null,
      "outputs": []
    },
    {
      "cell_type": "code",
      "source": [
        "# Example 04 - Enumerate\n",
        "colors = ['red', 'green', 'blue']\n",
        "\n",
        "color_dict = {index: color for index, color in enumerate(colors)}\n",
        "print(color_dict)"
      ],
      "metadata": {
        "id": "TOFuhwzLSe79"
      },
      "execution_count": null,
      "outputs": []
    },
    {
      "cell_type": "markdown",
      "source": [
        "Now it is your turn. Work out the exercises below."
      ],
      "metadata": {
        "id": "RAc5nNFzULKQ"
      }
    },
    {
      "cell_type": "code",
      "source": [
        "# Exercise_self_1\n",
        "def word_index(sentence, word):\n",
        "    # script here your code to fulfil the objective below\n",
        "\n",
        "sentence = \"This is a sample sentence. This sentence is just a sample.\"\n",
        "word = \"sample\"\n",
        "print(word_index(sentence, word))"
      ],
      "metadata": {
        "id": "U5UrSjX-UTvp"
      },
      "execution_count": null,
      "outputs": []
    },
    {
      "cell_type": "code",
      "source": [
        "# Exercise_self_2\n",
        "def merge_lists(list1, list2):\n",
        "    # write down your code here to provide the result below\n",
        "\n",
        "list1 = ['a', 'b', 'c']\n",
        "list2 = [1, 2, 3]\n",
        "print(merge_lists(list1, list2))\n",
        "# expected result = [(0, 'a', 1), (1, 'b', 2), (2, 'c', 3)]"
      ],
      "metadata": {
        "id": "4lJEDUCnVJ7v"
      },
      "execution_count": null,
      "outputs": []
    },
    {
      "cell_type": "markdown",
      "source": [
        "Exercise_self_3: Write a function common_elements(list1, list2) that takes two lists and returns a list of tuples containing elements that are common to both lists along with their indices. Use enumerate and zip along with conditional filtering to achieve this."
      ],
      "metadata": {
        "id": "HoP9tyeAV0EO"
      }
    },
    {
      "cell_type": "code",
      "source": [
        "def common_elements(list1, list2):\n",
        "    # Tidy your code right here\n",
        "\n",
        "list1 = ['a', 'b', 'c', 'd']\n",
        "list2 = ['b', 'c', 'e', 'f']\n",
        "print(common_elements(list1, list2))\n",
        "# expected_result = [(1, 'b'), (2, 'c')]"
      ],
      "metadata": {
        "id": "8fplP1XbVhBv"
      },
      "execution_count": null,
      "outputs": []
    },
    {
      "cell_type": "code",
      "source": [],
      "metadata": {
        "id": "0z3jrDy6VMA3"
      },
      "execution_count": null,
      "outputs": []
    }
  ]
}