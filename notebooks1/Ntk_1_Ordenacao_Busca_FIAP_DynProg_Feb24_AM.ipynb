{
  "nbformat": 4,
  "nbformat_minor": 0,
  "metadata": {
    "colab": {
      "provenance": []
    },
    "kernelspec": {
      "name": "python3",
      "display_name": "Python 3"
    },
    "language_info": {
      "name": "python"
    }
  },
  "cells": [
    {
      "cell_type": "markdown",
      "source": [
        "# **Algoritmos de Ordenação e Busca**"
      ],
      "metadata": {
        "id": "c3j8eDcYgtTZ"
      }
    },
    {
      "cell_type": "code",
      "source": [
        "\"\"\" Conceito geral: familiarizar com Google Colab e algoritmo básico de ordenação e busca. \"\"\""
      ],
      "metadata": {
        "colab": {
          "base_uri": "https://localhost:8080/",
          "height": 36
        },
        "id": "B2uzHRCXiR4T",
        "outputId": "ba63ea59-fd98-4a7b-df4c-e30cfb3d19ad"
      },
      "execution_count": 2,
      "outputs": [
        {
          "output_type": "execute_result",
          "data": {
            "text/plain": [
              "' Conceito geral: familiarizar com Google Colab e algoritmo básico de ordenação e busca. '"
            ],
            "application/vnd.google.colaboratory.intrinsic+json": {
              "type": "string"
            }
          },
          "metadata": {},
          "execution_count": 2
        }
      ]
    },
    {
      "cell_type": "markdown",
      "source": [
        "# **Básico: métodos e funções Python**"
      ],
      "metadata": {
        "id": "PpVdibdSiB9n"
      }
    },
    {
      "cell_type": "code",
      "source": [
        "15 in [3,5,6,9,12,11]"
      ],
      "metadata": {
        "id": "naTs555kgxrb"
      },
      "execution_count": null,
      "outputs": []
    },
    {
      "cell_type": "markdown",
      "source": [
        "## Instrumental: Busca sequencial em uma lista\n",
        "# lista = estrutura de dados, em uma sequencia."
      ],
      "metadata": {
        "id": "eYbbmn3XigCo"
      }
    },
    {
      "cell_type": "code",
      "source": [
        "# Busca Sequencial -- Algoritmo básico\n",
        "def sequential_search(li, item):\n",
        "    position = 0\n",
        "    is_present = False\n",
        "\n",
        "    while position < len(li) and not is_present:\n",
        "        if li[position] == item:\n",
        "            is_present = True\n",
        "        else:\n",
        "            position = position + 1\n",
        "\n",
        "    return is_present"
      ],
      "metadata": {
        "id": "R8z1PqMQg6LF"
      },
      "execution_count": null,
      "outputs": []
    },
    {
      "cell_type": "markdown",
      "source": [
        "# No código acima, quais sugestões você incorporaria ou alteraria?"
      ],
      "metadata": {
        "id": "c9o2ynblktHz"
      }
    },
    {
      "cell_type": "code",
      "source": [
        "test_array = [1,31,5,18,7,10,25]"
      ],
      "metadata": {
        "id": "b-QR44nEjkAq"
      },
      "execution_count": null,
      "outputs": []
    },
    {
      "cell_type": "markdown",
      "source": [
        "# Aplicação da função sequencial_search"
      ],
      "metadata": {
        "id": "J68fFtxvk1k-"
      }
    },
    {
      "cell_type": "code",
      "source": [
        "print(sequential_search(test_array, 2))"
      ],
      "metadata": {
        "id": "xJ2XKLnXjnsW"
      },
      "execution_count": null,
      "outputs": []
    },
    {
      "cell_type": "code",
      "source": [
        "print(sequential_search(test_array, 25))"
      ],
      "metadata": {
        "id": "oJyOdW7ojq1e"
      },
      "execution_count": null,
      "outputs": []
    },
    {
      "cell_type": "code",
      "source": [
        "# Busca Sequencial -- identifcar um item procurado -- lista deve estar ordenada\n",
        "def ordered_sequential_search(li, item):\n",
        "    position = 0\n",
        "    found = False\n",
        "    stop = False\n",
        "\n",
        "    while position < len(li) and not found and not stop:\n",
        "        if li[position] == item:\n",
        "            found == True\n",
        "        else:\n",
        "            if li[position] > item:\n",
        "                stop = True\n",
        "            else:\n",
        "                position = (position + 1)\n",
        "\n",
        "    return found"
      ],
      "metadata": {
        "id": "ZP_XbkyEhTBA"
      },
      "execution_count": null,
      "outputs": []
    },
    {
      "cell_type": "markdown",
      "source": [
        "# No código acima, quais sugestões você incorporaria ou alteraria?\n",
        "\n",
        "---\n",
        "\n"
      ],
      "metadata": {
        "id": "QqsHcewElEy0"
      }
    },
    {
      "cell_type": "code",
      "source": [
        "test_li = [0,2,3,4,5,6,7,12,15,18,23,27,45]"
      ],
      "metadata": {
        "id": "YXehrJsaj1B2"
      },
      "execution_count": null,
      "outputs": []
    },
    {
      "cell_type": "code",
      "source": [
        "print(ordered_sequential_search(test_li, 25))"
      ],
      "metadata": {
        "id": "IAXCNs1cj7oa"
      },
      "execution_count": null,
      "outputs": []
    },
    {
      "cell_type": "markdown",
      "source": [
        "# Busca Binária = conceito de dividir e se mover"
      ],
      "metadata": {
        "id": "GhUdocMvkDw3"
      }
    },
    {
      "cell_type": "code",
      "source": [
        "# Exemplo de Busca Binária\n",
        "def binary_search(li, item):\n",
        "    first = 0\n",
        "    last = (len(li) - 1)\n",
        "    found = False\n",
        "\n",
        "    while first <= last and not found:\n",
        "        midpoint = ((first + last)//2)\n",
        "        if li[midpoint] == item:\n",
        "            found = True\n",
        "        else:\n",
        "            if item < li[midpoint]:\n",
        "                last = (midpoint - 1)\n",
        "            else:\n",
        "                first = (midpoint + 1)\n",
        "    return found\n",
        "\n",
        "test_li = [0,2,3,4,5,8,10,15,17,21,25,32,42,45]\n",
        "print(binary_search(test_li, 45))"
      ],
      "metadata": {
        "id": "U5KLuYzvhckF"
      },
      "execution_count": null,
      "outputs": []
    },
    {
      "cell_type": "markdown",
      "source": [
        "# No código acima, quais sugestões você incorporaria ou alteraria?"
      ],
      "metadata": {
        "id": "ug7hC-eMlOsa"
      }
    },
    {
      "cell_type": "code",
      "source": [],
      "metadata": {
        "id": "t82Er81olPiV"
      },
      "execution_count": null,
      "outputs": []
    }
  ]
}