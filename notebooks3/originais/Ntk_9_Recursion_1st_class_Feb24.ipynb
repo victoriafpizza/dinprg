{
  "cells": [
    {
      "cell_type": "markdown",
      "metadata": {
        "id": "Q3xamlMA2i4U"
      },
      "source": [
        "**Recursão = Recursion**<p>\n",
        "This subject we saw in the couse intro class.\n",
        "\n",
        "A recursive method is a method that calls itself.  An iterative method is\n",
        "a method that uses a loop to repeat an action.  Anything that can be done\n",
        "iteratively can be done recursively, and vice versa.  Iterative algorithms\n",
        "and methods are generally more efficient than recursive algorithms. It depends on the problem´s sort.\n",
        "</p>\n",
        "\n",
        "<p>\n",
        "Recursion is based on two key problem solving concepts: divide and conquer\n",
        "and self-similarity.  A recursive solution solves a problem by solving a\n",
        "smaller instance of the same problem, which is the key factor in Dynamic Programming.\n",
        "It solves this new problem by solving\n",
        "an even smaller instance of the same problem. Eventually, the new problem will\n",
        "be so small that its solution will either be obvious or known. This solution\n",
        "will lead to the solution of the original problem.\n",
        "</p>\n",
        "\n",
        "<p>\n",
        "A recursive definition consists of two parts: a recursive part in which the\n",
        "nth value is defined in terms of the (n-1)th value, and a non recursive\n",
        "boundary case or base case which defines a limiting condition. An infinite\n",
        "repetition will result if a recursive definition is not properly bounded.\n",
        "In a recursive algorithm, each recursive call must make progress toward the\n",
        "bound, or base case.  A recursion parameter is a parameter whose value is\n",
        "used to control the progress of the recursion towards its bound.\n",
        "</p>\n",
        "\n",
        "<p>\n",
        "Function call and return in Python uses a last-in-first-out protocol. As\n",
        "each method call is made, a representation of the method call is place on\n",
        "the method call stack. When a method returns, its block is removed from the\n",
        "top of the stack.\n",
        "</p>\n",
        "\n",
        "<p>\n",
        "Use an iterative algorithm instead of a recursive algorithm\n",
        "whenever efficiency and memory usage are important design factors.  When all\n",
        "other factors are equal, choose the algorithm (recursive or iterative) that\n",
        "is easiest to understand, develop, and maintain.\n",
        "</p>\n",
        "\n",
        "\n"
      ]
    },
    {
      "cell_type": "markdown",
      "source": [
        "**Some Examples of Recursion**"
      ],
      "metadata": {
        "id": "iueDoSi83Wxk"
      }
    },
    {
      "cell_type": "markdown",
      "metadata": {
        "id": "F3nVYevN2i4Z"
      },
      "source": [
        "#### Calculatating Factorial\n",
        "\n",
        "A simple way to calculate it is using a for loop\n"
      ]
    },
    {
      "cell_type": "code",
      "execution_count": null,
      "metadata": {
        "id": "La1DvsaC2i4a",
        "outputId": "6fc32d15-c1b4-452e-ec41-e4ce92535608"
      },
      "outputs": [
        {
          "data": {
            "text/plain": [
              "3628800"
            ]
          },
          "execution_count": 1,
          "metadata": {},
          "output_type": "execute_result"
        }
      ],
      "source": [
        "# What can be improved in this script?\n",
        "# How can we measure its efficiency as a code artifact?\n",
        "def fact(n):\n",
        "    fact = 1\n",
        "    for i in range(1,n+1):\n",
        "        fact = fact * i\n",
        "    return fact\n",
        "\n",
        "# Calculate 10!\n",
        "fact(10)"
      ]
    },
    {
      "cell_type": "markdown",
      "metadata": {
        "id": "bYgl3me72i4c"
      },
      "source": [
        "Now, using recursion, the code writing changes a bit. Take a look in this example of a **recursive method**, which calculates the factorial\n",
        "of **n**.\n",
        "    \n",
        "- The base case occurs when n is equal to 0. Never forget to pick all the possibilities and their combinations.\n",
        "\n",
        "- We know that 0! is equal to 1, by definition. Otherwise we use the relationship n! = n * ( n - 1 )!\n",
        "\n",
        "- In this last statement, how have you seen the concept of recursion?\n",
        "\n"
      ]
    },
    {
      "cell_type": "code",
      "execution_count": null,
      "metadata": {
        "id": "vqmCw6nH2i4d",
        "outputId": "b9e5b498-386a-4af4-b04e-d534705d2097"
      },
      "outputs": [
        {
          "data": {
            "text/plain": [
              "3628800"
            ]
          },
          "execution_count": 2,
          "metadata": {},
          "output_type": "execute_result"
        }
      ],
      "source": [
        "# All these script lines refer to recursion?\n",
        "def fact(n):\n",
        "  if(n == 0):\n",
        "    return 1\n",
        "  else:\n",
        "    return n * fact(n - 1)\n",
        "\n",
        "# Calculate 10!\n",
        "fact(10)"
      ]
    },
    {
      "cell_type": "markdown",
      "metadata": {
        "id": "kC6-UhqL2i4d"
      },
      "source": [
        "## Fibonacci series\n",
        "\n",
        "In our first class, we have checked a practical application of the Fibonacci series, in criptology. In mathematics there are recurrence relations that are defined recursively.\n",
        "A recurrence relation defines a term in a sequence as a function of one\n",
        "or more previous terms. One of the most famous of such recurrence\n",
        "sequences is the  Fibonacci series.\n",
        "\n",
        "Think on the Fibonacci´s series definition. Could it be different? Could it be modified for a specific math application?\n",
        "\n",
        "https://en.wikipedia.org/wiki/Fibonacci_number\n",
        "\n",
        "\n",
        "Never forget to think in all possibilities. Other than the first two terms in\n",
        "this series, every term is defined as the sum of the previous two terms:\n",
        "\n",
        "<pre>\n",
        "  F(1) = 1\n",
        "  F(2) = 1\n",
        "  F(n) = F(n-1) + F(n-2) for n &gt; 2\n",
        "\n",
        "  1, 1, 2, 3, 5, 8, 13, 21, 34, 55, ...\n",
        "</pre>\n",
        "In iteractive operations, it has been quite common to use the loop for. Here is the Python code that generates this series:\n",
        "\n"
      ]
    },
    {
      "cell_type": "code",
      "execution_count": null,
      "metadata": {
        "id": "nMx2QZkP2i4e",
        "outputId": "e97511f6-ae5f-40c5-81b9-15e90a0062a1"
      },
      "outputs": [
        {
          "name": "stdout",
          "output_type": "stream",
          "text": [
            "55\n"
          ]
        }
      ],
      "source": [
        "def fibonacci(n):\n",
        "    \"\"\"Iterative Implementation of Fibonacci number\"\"\"\n",
        "    a,b = 0,1\n",
        "    for i in range(n):\n",
        "        a,b = b,a+b\n",
        "    return a\n",
        "\n",
        "print(fibonacci(10))"
      ]
    },
    {
      "cell_type": "markdown",
      "source": [
        "** Now with the application of the recursive concept, discussed above briefly.**"
      ],
      "metadata": {
        "id": "c4GXqxSN5JmI"
      }
    },
    {
      "cell_type": "code",
      "execution_count": null,
      "metadata": {
        "id": "aMcmIn7k2i4h",
        "outputId": "438c8c79-04a4-4e7b-c204-48a7658b0d0f"
      },
      "outputs": [
        {
          "data": {
            "text/plain": [
              "55"
            ]
          },
          "execution_count": 4,
          "metadata": {},
          "output_type": "execute_result"
        }
      ],
      "source": [
        "def fib(n):\n",
        "    if ((n == 1) or (n == 2)):\n",
        "        return 1\n",
        "    else:\n",
        "        return fib(n - 1) + fib (n - 2)\n",
        "\n",
        "# fib(10)\n",
        "fib(10)"
      ]
    },
    {
      "cell_type": "code",
      "execution_count": null,
      "metadata": {
        "id": "xV1mXi1B2i4h"
      },
      "outputs": [],
      "source": []
    },
    {
      "cell_type": "markdown",
      "metadata": {
        "id": "KOMifoYM2i4i"
      },
      "source": [
        "Even though the series is defined recursively, the above code is extremely\n",
        "inefficient in determining the terms in a Fibonacci series **(why?)**.\n",
        "\n",
        "An iterative solution works best in this case."
      ]
    },
    {
      "cell_type": "markdown",
      "metadata": {
        "id": "x0reqs-L2i4i"
      },
      "source": [
        "However, there are sorting algorithms that use recursion that are extremely\n",
        "efficient in what they do. One example of such a sorting algorithm is\n",
        "MergeSort. Let us say you have a list of numbers to sort.\n",
        "\n",
        "Then this algorithm can be stated as follows: Divide the list in half. Sort one\n",
        "half, sort the other half and then merge the two sorted halves. You keep\n",
        "dividing each half until you are down to one item. That item is sorted!\n",
        "\n",
        "You then merge that item with another single item and work backwards merging\n",
        "sorted sub-lists until you have the complete list.\n",
        "\n",
        "This concept is used in Divide and Conquer algorithms.  \n",
        "\n",
        "https://en.wikipedia.org/wiki/Divide-and-conquer_algorithm\n",
        "\n",
        "    "
      ]
    },
    {
      "cell_type": "markdown",
      "source": [
        "**Example:Recursion to look on paper sheet sizes**"
      ],
      "metadata": {
        "id": "tAOjERQW8EZS"
      }
    },
    {
      "cell_type": "code",
      "execution_count": null,
      "metadata": {
        "id": "jF-7DO9R2i4j"
      },
      "outputs": [],
      "source": [
        "LARGURA_A0 = 841\n",
        "ALTURA_A0 = 1189\n",
        "\n",
        "def menor_subtipo(larg_folha, alt_folha, tipo_folha, larg_retangulo, alt_retangulo):\n",
        "    \"\"\"\n",
        "    Devolve o menor subtipo da folha em que cabe o retângulo.\n",
        "    \"\"\"\n",
        "\n",
        "    # cria instância menor\n",
        "    larg_menor = alt_folha // 2\n",
        "    alt_menor = larg_folha\n",
        "    tipo_menor = tipo_folha + 1\n",
        "\n",
        "    # se não cabe na folha menor\n",
        "    if larg_retangulo > larg_menor or alt_retangulo > alt_menor:\n",
        "        return tipo_folha\n",
        "    else:\n",
        "        return menor_subtipo(larg_menor, alt_menor, tipo_menor, larg_retangulo, alt_retangulo)\n",
        "\n",
        "def main():\n",
        "    larg_retangulo = int(input(\"digite a largura do retângulo: \"))\n",
        "    alt_retangulo = int(input(\"digite a altura do retângulo: \"))\n",
        "\n",
        "    tipo = menor_subtipo(LARGURA_A0, ALTURA_A0, 0, larg_retangulo, alt_retangulo)\n",
        "\n",
        "    print(f\"Utilize um papel A{tipo}\")\n",
        "\n",
        "main()"
      ]
    },
    {
      "cell_type": "markdown",
      "source": [
        "**Wrap-up: check what the Python script below does and comment how it can be improved, in anyhow. Can you identify the recursion concept application? What´s the purpose of the main() function??**"
      ],
      "metadata": {
        "id": "kl-aV5SD9Zp4"
      }
    },
    {
      "cell_type": "code",
      "source": [
        "def multiplicar(lista, inicio, fim):\n",
        "    \"\"\"\n",
        "    Devolve o produto dos elementos de lista[inicio:fim].\n",
        "    \"\"\"\n",
        "    if inicio == fim:\n",
        "        return lista[inicio]\n",
        "    else:\n",
        "        meio = (inicio + fim) // 2\n",
        "        return (multiplicar(lista, inicio, meio) *\n",
        "                multiplicar(lista, meio + 1, fim))\n",
        "\n",
        "def main():\n",
        "    lista = [1, 2, 3, 4, 5]\n",
        "    produto = multiplicar(lista, 0, len(lista) - 1)\n",
        "    print(f\"O produto é {produto}\")\n",
        "\n",
        "main()"
      ],
      "metadata": {
        "id": "o8c0MUGk9mYI"
      },
      "execution_count": null,
      "outputs": []
    },
    {
      "cell_type": "markdown",
      "source": [],
      "metadata": {
        "id": "1-CGnbKZ9ZHK"
      }
    }
  ],
  "metadata": {
    "kernelspec": {
      "display_name": "Python 3",
      "language": "python",
      "name": "python3"
    },
    "language_info": {
      "codemirror_mode": {
        "name": "ipython",
        "version": 3
      },
      "file_extension": ".py",
      "mimetype": "text/x-python",
      "name": "python",
      "nbconvert_exporter": "python",
      "pygments_lexer": "ipython3",
      "version": "3.8.3"
    },
    "colab": {
      "provenance": []
    }
  },
  "nbformat": 4,
  "nbformat_minor": 0
}