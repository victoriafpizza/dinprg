{
  "cells": [
    {
      "cell_type": "markdown",
      "metadata": {
        "id": "Q3xamlMA2i4U"
      },
      "source": [
        "**Recursão = Recursion**<p>\n",
        "This subject we saw in the couse intro class.\n",
        "\n",
        "Um método recursivo é um método que chama a si mesmo. Um método iterativo é\n",
        "um método que usa um loop para repetir uma ação. Qualquer coisa que possa ser feita\n",
        "iterativamente pode ser feito recursivamente e vice-versa. Algoritmos iterativos\n",
        "e os métodos são geralmente mais eficientes que algoritmos recursivos. Depende do tipo do problema.\n",
        "</p>\n",
        "\n",
        "<p>\n",
        "A recursão é baseada em dois conceitos-chave de resolução de problemas: dividir e conquistar\n",
        "e auto-similaridade. Uma solução recursiva resolve um problema resolvendo um\n",
        "instância menor do mesmo problema, que é o fator chave na Programação Dinâmica.\n",
        "Ele resolve esse novo problema resolvendo\n",
        "uma instância ainda menor do mesmo problema. Eventualmente, o novo problema\n",
        "será tão pequeno que sua solução será óbvia ou conhecida. Esta solução\n",
        "levará à solução do problema original.\n",
        "</p>\n",
        "\n",
        "<p>\n",
        "Uma definição recursiva consiste em duas partes: uma parte recursiva na qual o\n",
        "o enésimo valor é definido em termos do (n-1)-ésimo valor e um valor não recursivo\n",
        "caso limite ou caso base que define uma condição limitante. Um infinito\n",
        "a repetição resultará se uma definição recursiva não for adequadamente limitada.\n",
        "Em um algoritmo recursivo, cada chamada recursiva deve progredir em direção ao\n",
        "vinculado ou caso base. Um parâmetro de recursão é um parâmetro cujo valor é\n",
        "usado para controlar o progresso da recursão em direção ao seu limite.\n",
        "</p>\n",
        "\n",
        "<p>\n",
        "A chamada e o retorno de função em Python usam um protocolo last-in-first-out. Como\n",
        "cada chamada de método é feita, uma representação da chamada de método é colocada em\n",
        "a pilha de chamadas de método. Quando um método retorna, seu bloco é removido do\n",
        "topo da pilha.\n",
        "</p>\n",
        "\n",
        "<p>\n",
        "Use um algoritmo iterativo em vez de um algoritmo recursivo\n",
        "sempre que a eficiência e o uso de memória forem fatores importantes de design. Quando tudo\n",
        "outros fatores são iguais, escolha o algoritmo (recursivo ou iterativo) que\n",
        "é mais fácil de entender, desenvolver e manter.\n",
        "</p>\n",
        "\n",
        "\n"
      ]
    },
    {
      "cell_type": "markdown",
      "metadata": {
        "id": "iueDoSi83Wxk"
      },
      "source": [
        "**Alguns Exemplos de Recursão**"
      ]
    },
    {
      "cell_type": "markdown",
      "metadata": {
        "id": "F3nVYevN2i4Z"
      },
      "source": [
        "#### Calculatating Factorial\n",
        "\n",
        "A simple way to calculate it is using a for loop\n"
      ]
    },
    {
      "cell_type": "code",
      "execution_count": null,
      "metadata": {
        "id": "La1DvsaC2i4a",
        "outputId": "6fc32d15-c1b4-452e-ec41-e4ce92535608"
      },
      "outputs": [
        {
          "data": {
            "text/plain": [
              "3628800"
            ]
          },
          "execution_count": 1,
          "metadata": {},
          "output_type": "execute_result"
        }
      ],
      "source": [
        "# What can be improved in this script?\n",
        "# How can we measure its efficiency as a code artifact?\n",
        "def fact(n):\n",
        "    fact = 1\n",
        "    for i in range(1,n+1):\n",
        "        fact = fact * i\n",
        "    return fact\n",
        "\n",
        "# Calculate 10!\n",
        "fact(10)"
      ]
    },
    {
      "cell_type": "code",
      "execution_count": null,
      "metadata": {},
      "outputs": [],
      "source": [
        "def fact(n):\n",
        "    if n == 0:\n",
        "        return 1\n",
        "    else:\n",
        "        return n * fact(n-1)\n",
        "\n",
        "# Calcular o fatorial de 10\n",
        "fact(10)"
      ]
    },
    {
      "cell_type": "markdown",
      "metadata": {},
      "source": [
        "O fatorial é o produto de todos os números inteiros positivos de 1 até o número em questão"
      ]
    },
    {
      "cell_type": "markdown",
      "metadata": {
        "id": "bYgl3me72i4c"
      },
      "source": [
        "Agora, usando recursão, a escrita do código muda um pouco. Dê uma olhada neste exemplo de um **método recursivo**, que calcula o fatorial\n",
        "of **n**.\n",
        "    \n",
        "- O caso base ocorre quando n é igual a 0. Nunca se esqueça de escolher todas as possibilidades e suas combinações.\n",
        "- Nós sabemos disso 0! é igual a 1, por definição. Caso contrário, usamos a relação n! = n * ( n - 1 )!\n",
        "- Nesta última afirmação, como você viu o conceito de recursão?\n"
      ]
    },
    {
      "cell_type": "code",
      "execution_count": null,
      "metadata": {
        "id": "vqmCw6nH2i4d",
        "outputId": "b9e5b498-386a-4af4-b04e-d534705d2097"
      },
      "outputs": [
        {
          "data": {
            "text/plain": [
              "3628800"
            ]
          },
          "execution_count": 2,
          "metadata": {},
          "output_type": "execute_result"
        }
      ],
      "source": [
        "# All these script lines refer to recursion?\n",
        "def fact(n):\n",
        "  if(n == 0):\n",
        "    return 1\n",
        "  else:\n",
        "    return n * fact(n - 1)\n",
        "# Calculate 10!\n",
        "fact(10)"
      ]
    },
    {
      "cell_type": "markdown",
      "metadata": {},
      "source": [
        "Pode ter o desempenho inferior em relação à versão iterativa para valores muito grandes de n, devido à pilha de chamadas recursivas"
      ]
    },
    {
      "cell_type": "markdown",
      "metadata": {
        "id": "kC6-UhqL2i4d"
      },
      "source": [
        "## Fibonacci series\n",
        "\n",
        "Em nossa primeira aula, verificamos uma aplicação prática da série Fibonacci, em criptologia. Em matemática existem relações de recorrência que são definidas recursivamente.\n",
        "Uma relação de recorrência define um termo em uma sequência como uma função de um\n",
        "ou mais termos anteriores. Um dos mais famosos dessa recorrência\n",
        "sequências é a série de Fibonacci.\n",
        "\n",
        "Pense na definição da série de Fibonacci. Poderia ser diferente? Poderia ser modificado para uma aplicação matemática específica?\n",
        "\n",
        "https://en.wikipedia.org/wiki/Fibonacci_number\n",
        "\n",
        "Nunca se esqueça de pensar em todas as possibilidades. Além dos dois primeiros termos em nesta série, cada termo é definido como a soma dos dois termos anteriores:\n",
        "\n",
        "<pre>\n",
        "  F(1) = 1\n",
        "  F(2) = 1\n",
        "  F(n) = F(n-1) + F(n-2) for n &gt; 2\n",
        "\n",
        "  1, 1, 2, 3, 5, 8, 13, 21, 34, 55, ...\n",
        "</pre>\n",
        "\n",
        "Em operações iterativas, tem sido bastante comum utilizar o loop for. Aqui está o código Python que gera esta série:\n"
      ]
    },
    {
      "cell_type": "code",
      "execution_count": null,
      "metadata": {
        "id": "nMx2QZkP2i4e",
        "outputId": "e97511f6-ae5f-40c5-81b9-15e90a0062a1"
      },
      "outputs": [
        {
          "name": "stdout",
          "output_type": "stream",
          "text": [
            "55\n"
          ]
        }
      ],
      "source": [
        "def fibonacci(n):\n",
        "    \"\"\"Iterative Implementation of Fibonacci number\"\"\"\n",
        "    a,b = 0,1\n",
        "    for i in range(n):\n",
        "        a,b = b,a+b\n",
        "    return a\n",
        "\n",
        "print(fibonacci(10))"
      ]
    },
    {
      "cell_type": "markdown",
      "metadata": {
        "id": "c4GXqxSN5JmI"
      },
      "source": [
        "**Agora com a aplicação do conceito recursivo, discutido brevemente acima.**"
      ]
    },
    {
      "cell_type": "code",
      "execution_count": null,
      "metadata": {
        "id": "aMcmIn7k2i4h",
        "outputId": "438c8c79-04a4-4e7b-c204-48a7658b0d0f"
      },
      "outputs": [
        {
          "data": {
            "text/plain": [
              "55"
            ]
          },
          "execution_count": 4,
          "metadata": {},
          "output_type": "execute_result"
        }
      ],
      "source": [
        "def fib(n):\n",
        "    if ((n == 1) or (n == 2)):\n",
        "        return 1\n",
        "    else:\n",
        "        return fib(n - 1) + fib (n - 2)\n",
        "\n",
        "# fib(10)\n",
        "fib(10)"
      ]
    },
    {
      "cell_type": "markdown",
      "metadata": {
        "id": "KOMifoYM2i4i"
      },
      "source": [
        "Embora a série seja definida recursivamente, o código acima é extremamente\n",
        "ineficiente na determinação dos termos de uma série de Fibonacci **(por quê?)**.\n",
        "\n",
        "Resposta: Repetição de cálculos desnecessários. Na função fib, quando chamamos fib(n), a função faz duas chamadas recursivas para fib(n-1) e fib(n-2). Essas chamadas, por sua vez, fazem chamadas recursivas adicionais, resultando em uma árvore de chamadas recursivas. Isso resulta em uma quantidade exponencial de chamadas recursivas e cálculos repetidos, o que torna o código ineficiente\n",
        "\n",
        "Uma solução iterativa funciona melhor neste caso."
      ]
    },
    {
      "cell_type": "markdown",
      "metadata": {
        "id": "x0reqs-L2i4i"
      },
      "source": [
        "No entanto, existem algoritmos de classificação que usam recursão que são extremamente\n",
        "eficientes no que fazem. Um exemplo de tal algoritmo de classificação é\n",
        "MesclarClassificação. Digamos que você tenha uma lista de números para classificar.\n",
        "\n",
        "Então este algoritmo pode ser declarado da seguinte forma: Divida a lista ao meio. Classifique um\n",
        "metade, classifique a outra metade e depois mescle as duas metades classificadas. Você mantêm\n",
        "dividindo cada metade até chegar a um item. Esse item está classificado!\n",
        "\n",
        "Em seguida, você mescla esse item com outro item único e trabalha na mesclagem reversa\n",
        "sublistas classificadas até ter a lista completa.\n",
        "\n",
        "Este conceito é usado em algoritmos Divide and Conquer.\n",
        "\n",
        "https://en.wikipedia.org/wiki/Divide-and-conquer_algorithm"
      ]
    },
    {
      "cell_type": "markdown",
      "metadata": {
        "id": "tAOjERQW8EZS"
      },
      "source": [
        "**Exemplo: Recursão para procurar tamanhos de folhas de papel**"
      ]
    },
    {
      "cell_type": "code",
      "execution_count": null,
      "metadata": {
        "id": "jF-7DO9R2i4j"
      },
      "outputs": [],
      "source": [
        "LARGURA_A0 = 841\n",
        "ALTURA_A0 = 1189\n",
        "\n",
        "def menor_subtipo(larg_folha, alt_folha, tipo_folha, larg_retangulo, alt_retangulo):\n",
        "    \"\"\"\n",
        "    Devolve o menor subtipo da folha em que cabe o retângulo.\n",
        "    \"\"\"\n",
        "\n",
        "    # cria instância menor\n",
        "    larg_menor = alt_folha // 2\n",
        "    alt_menor = larg_folha\n",
        "    tipo_menor = tipo_folha + 1\n",
        "\n",
        "    # se não cabe na folha menor\n",
        "    if larg_retangulo > larg_menor or alt_retangulo > alt_menor:\n",
        "        return tipo_folha\n",
        "    else:\n",
        "        return menor_subtipo(larg_menor, alt_menor, tipo_menor, larg_retangulo, alt_retangulo)\n",
        "\n",
        "def main():\n",
        "    larg_retangulo = int(input(\"digite a largura do retângulo: \"))\n",
        "    alt_retangulo = int(input(\"digite a altura do retângulo: \"))\n",
        "\n",
        "    tipo = menor_subtipo(LARGURA_A0, ALTURA_A0, 0, larg_retangulo, alt_retangulo)\n",
        "\n",
        "    print(f\"Utilize um papel A{tipo}\")\n",
        "\n",
        "main()"
      ]
    },
    {
      "cell_type": "markdown",
      "metadata": {
        "id": "kl-aV5SD9Zp4"
      },
      "source": [
        "**Conclusão: confira o que o script Python abaixo faz e comente como ele pode ser melhorado de alguma forma. Você consegue identificar a aplicação do conceito de recursão? Qual é o propósito da função main()??**"
      ]
    },
    {
      "cell_type": "code",
      "execution_count": null,
      "metadata": {
        "id": "o8c0MUGk9mYI"
      },
      "outputs": [],
      "source": [
        "def multiplicar(lista, inicio, fim): # recebe uma lista, um índice de início e um índice de fim. RECURSÃO\n",
        "    \"\"\"\n",
        "    Devolve o produto dos elementos de lista[inicio:fim].\n",
        "    \"\"\"\n",
        "    if inicio == fim:\n",
        "        return lista[inicio]\n",
        "    else:\n",
        "        meio = (inicio + fim) // 2 #Ela divide a lista em duas partes, calcula recursivamente o produto das duas partes e retorna o produto final\n",
        "        return (multiplicar(lista, inicio, meio) *\n",
        "                multiplicar(lista, meio + 1, fim))\n",
        "\n",
        "def main(): # é responsável por chamar a função multiplicar com os parâmetros adequados e imprimir o resultado.\n",
        "    lista = [1, 2, 3, 4, 5]\n",
        "    produto = multiplicar(lista, 0, len(lista) - 1)\n",
        "    print(f\"O produto é {produto}\")\n",
        "\n",
        "main()"
      ]
    },
    {
      "cell_type": "markdown",
      "metadata": {},
      "source": [
        "Resposta: calcular o produto dos elementos de uma lista utilizando recursão. O conceito de recursão é aplicado na função multiplicar. Ela chama a si mesma para calcular o produto das duas metades da lista, dividindo-a em partes menores até chegar a um caso base (quando inicio é igual a fim)"
      ]
    },
    {
      "cell_type": "markdown",
      "metadata": {
        "id": "1-CGnbKZ9ZHK"
      },
      "source": []
    }
  ],
  "metadata": {
    "colab": {
      "provenance": []
    },
    "kernelspec": {
      "display_name": "Python 3",
      "language": "python",
      "name": "python3"
    },
    "language_info": {
      "codemirror_mode": {
        "name": "ipython",
        "version": 3
      },
      "file_extension": ".py",
      "mimetype": "text/x-python",
      "name": "python",
      "nbconvert_exporter": "python",
      "pygments_lexer": "ipython3",
      "version": "3.8.3"
    }
  },
  "nbformat": 4,
  "nbformat_minor": 0
}
