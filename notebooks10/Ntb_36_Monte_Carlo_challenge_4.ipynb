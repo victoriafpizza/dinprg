{
  "nbformat": 4,
  "nbformat_minor": 0,
  "metadata": {
    "colab": {
      "provenance": []
    },
    "kernelspec": {
      "name": "python3",
      "display_name": "Python 3"
    },
    "language_info": {
      "name": "python"
    }
  },
  "cells": [
    {
      "cell_type": "markdown",
      "source": [
        "## One way to learn the Monte Carlo algorithm consists to check code already done, and improving it. The example below deals with Bank operations. After checking the code itself, draft a way to use it to simulate and give an overview of its application. Try to improve the code, adding Code Quality indicators. Think on other users to present your insights."
      ],
      "metadata": {
        "id": "CqeARuN3wFbx"
      }
    },
    {
      "cell_type": "markdown",
      "source": [
        "### PS = if necessary, make assumptions or approximations. Talk to your colleagues, who work in Banks, to seek some help."
      ],
      "metadata": {
        "id": "_JC-zwbpxWs9"
      }
    },
    {
      "cell_type": "code",
      "source": [
        "import numpy as np\n",
        "\n",
        "# Define parameters\n",
        "num_simulations =  # Number of simulations\n",
        "num_assets =   # Number of assets in the portfolio (stocks and bonds). Assets = tipos de investimento.\n",
        "initial_investment =   # Initial investment amount in Money Units\n",
        "\n",
        "# Mean returns and standard deviations for stocks and bonds\n",
        "mean_returns = np.array([   ,   ])  # Mean returns ( XX% for stocks, YY% for bonds)\n",
        "std_dev_returns = np.array([   ,    ])  # Standard deviations of returns (ooo% for stocks, xxx% for bonds)\n",
        "\n",
        "# Generate random samples from a normal distribution for returns of each asset\n",
        "returns = np.random.normal(mean_returns, std_dev_returns, size=(num_simulations, num_assets))\n",
        "\n",
        "# Generate random weights for the portfolio\n",
        "weights = np.random.random((num_simulations, num_assets))\n",
        "weights /= np.sum(weights, axis=1)[:, np.newaxis]\n",
        "\n",
        "# Calculate portfolio returns for each simulation\n",
        "portfolio_returns = np.sum(returns * weights, axis=1)\n",
        "\n",
        "# Calculate portfolio values at the end of the simulation period\n",
        "portfolio_values = initial_investment * (1 + portfolio_returns)\n",
        "\n",
        "# Calculate mean and standard deviation of portfolio returns and values\n",
        "mean_portfolio_return = np.mean(portfolio_returns)\n",
        "std_dev_portfolio_return = np.std(portfolio_returns)\n",
        "mean_portfolio_value = np.mean(portfolio_values)\n",
        "std_dev_portfolio_value = np.std(portfolio_values)\n",
        "\n",
        "print(\"Mean portfolio return:\", round(mean_portfolio_return * 100, 2), \"%\")\n",
        "print(\"Standard deviation of portfolio return:\", round(std_dev_portfolio_return * 100, 2), \"%\")\n",
        "print(\"Mean portfolio value at the end of the simulation period:\", round(mean_portfolio_value, 2), \"USD\")\n",
        "print(\"Standard deviation of portfolio value at the end of the simulation period:\", round(std_dev_portfolio_value, 2), \"USD\")\n"
      ],
      "metadata": {
        "id": "mdFHtFbfwqf-"
      },
      "execution_count": null,
      "outputs": []
    }
  ]
}