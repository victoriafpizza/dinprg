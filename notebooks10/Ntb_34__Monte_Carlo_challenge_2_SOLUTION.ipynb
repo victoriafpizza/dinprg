{
  "nbformat": 4,
  "nbformat_minor": 0,
  "metadata": {
    "colab": {
      "provenance": []
    },
    "kernelspec": {
      "name": "python3",
      "display_name": "Python 3"
    },
    "language_info": {
      "name": "python"
    }
  },
  "cells": [
    {
      "cell_type": "markdown",
      "source": [
        "#### In a project, there are 8 tasks, with different conditions, and all them have a minimum & maximum costs, distributed in specific shapes.."
      ],
      "metadata": {
        "id": "LY7m3mCjOWoK"
      }
    },
    {
      "cell_type": "markdown",
      "source": [
        "### This challenge deals with forecasting. The subject aims to know the total cost of a project."
      ],
      "metadata": {
        "id": "3tEk8qUQOHje"
      }
    },
    {
      "cell_type": "markdown",
      "source": [
        "## Problem = estimate the total project cost, assuming the tasks are independent among them."
      ],
      "metadata": {
        "id": "SLC8dubTOecq"
      }
    },
    {
      "cell_type": "markdown",
      "source": [
        "#### Task rules: the cost distribution of tasks A, C and D follow a normal distribution. All other tasks follow an uniform distribution."
      ],
      "metadata": {
        "id": "zqs7dZuzUP2x"
      }
    },
    {
      "cell_type": "markdown",
      "source": [
        "#### Minimum & Maximum values: Task A (5500 - 15400), Task B (4300 - 89000), Task C (4500 - 57000), Task D (32000 - 56000), Task E (2200 - 7800), Task F (1200 - 15700), Task G (4500 - 65000), and H (3400 - 8000)."
      ],
      "metadata": {
        "id": "hgnrbzA8UqLQ"
      }
    },
    {
      "cell_type": "markdown",
      "source": [
        "## Challenge tasks: read the problem statement and sketch how to use the Monte Carlo technique to answer the main question. Use a task flow diagram addressing: inputs, actions and outcomes. Use Python coding to make a algorithm to forecast the total cost of the project, under the assumptions."
      ],
      "metadata": {
        "id": "QrPKx3PhW3a5"
      }
    },
    {
      "cell_type": "markdown",
      "source": [
        "### Hints: evaluate how the cost may be computed, which is a function of the tasks values. This parameter is random in the end."
      ],
      "metadata": {
        "id": "YbgLm833XVyW"
      }
    },
    {
      "cell_type": "markdown",
      "source": [
        "### Guidance: make the assumptions with a Python function, set the number and value of the sells with a random command, simulate it several times, show the results by a graphic way."
      ],
      "metadata": {
        "id": "vCM1Shd0X723"
      }
    },
    {
      "cell_type": "markdown",
      "source": [
        "#### Grades: 30% for the task flow diagram. 60% for the Python code. 10% for the graphic output."
      ],
      "metadata": {
        "id": "ud3p52m6ZYOc"
      }
    },
    {
      "cell_type": "markdown",
      "source": [
        "+++++++++++++++++++++++++++++++++++++++++++++++++"
      ],
      "metadata": {
        "id": "JFhw5qwtR9ab"
      }
    },
    {
      "cell_type": "markdown",
      "source": [
        "## SOLUTION"
      ],
      "metadata": {
        "id": "z7Fd_xbmSBGx"
      }
    },
    {
      "cell_type": "markdown",
      "source": [
        "### Reference"
      ],
      "metadata": {
        "id": "yO3zBJv5E-fH"
      }
    },
    {
      "cell_type": "markdown",
      "source": [
        "##### https://medium.com/@polanitzer/monte-carlo-simulation-in-python-estimate-the-total-cost-of-a-project-a3298a0372e8"
      ],
      "metadata": {
        "id": "UhA63T1VT2Nc"
      }
    },
    {
      "cell_type": "markdown",
      "source": [
        "## Import Libraries"
      ],
      "metadata": {
        "id": "68l13gisFBNy"
      }
    },
    {
      "cell_type": "code",
      "source": [
        "import numpy as np\n",
        "import pandas as pd\n",
        "from scipy import stats\n",
        "from matplotlib import pyplot as plt\n",
        "from numpy import random as rn\n",
        "from scipy.stats import norm, kurtosis, skew\n",
        "from numpy import random as rn\n",
        "from numpy.random import seed\n",
        "from numpy.random import rand\n",
        "import seaborn as sns\n",
        "import time\n",
        "%matplotlib inline"
      ],
      "metadata": {
        "id": "9tEtAnIsicbG"
      },
      "execution_count": null,
      "outputs": []
    },
    {
      "cell_type": "markdown",
      "source": [
        "## Functions_Definition"
      ],
      "metadata": {
        "id": "t0ljbtbgFQ0E"
      }
    },
    {
      "cell_type": "code",
      "source": [
        "# Function to generate a uniform distribution for Z numbers, between 0 and 1\n",
        "def rand_u(Z):\n",
        " d = rn.uniform(0, 1, Z) #[0]\n",
        " return (d)"
      ],
      "metadata": {
        "id": "mSMa9RXKSYva"
      },
      "execution_count": null,
      "outputs": []
    },
    {
      "cell_type": "code",
      "source": [
        "# Function to generate a Normal distribution for Z numbers, between low and high, with mean and std\n",
        "def rand_N(low,high,mean,std,Z):\n",
        "  w = stats.truncnorm.rvs(low, high, loc = mean, scale = std, size = Z)\n",
        "  return (w)"
      ],
      "metadata": {
        "id": "QLAN3ZKsG0Ei"
      },
      "execution_count": null,
      "outputs": []
    },
    {
      "cell_type": "code",
      "source": [
        "def stdevp(data):\n",
        "  # data = simulated data\n",
        "  n = len(data) # Number of observations\n",
        "  mean = sum(data) / n # Mean of the data\n",
        "  deviations = [(x - mean) ** 2 for x in data]   # Square deviations\n",
        "  stdevp = (sum(deviations) / n)**0.5   # Variance\n",
        "  return stdevp"
      ],
      "metadata": {
        "id": "-hRlQLFzSpQE"
      },
      "execution_count": null,
      "outputs": []
    },
    {
      "cell_type": "code",
      "source": [
        "START = time.time()"
      ],
      "metadata": {
        "id": "dzOWLOgAeBXB"
      },
      "execution_count": null,
      "outputs": []
    },
    {
      "cell_type": "markdown",
      "source": [
        "## Data Input"
      ],
      "metadata": {
        "id": "E1csE0pDYKCk"
      }
    },
    {
      "cell_type": "code",
      "source": [
        "Amin = 5500\n",
        "Amax = 15400\n",
        "Bmin = 4300\n",
        "Bmax = 89000\n",
        "Cmin = 4500\n",
        "Cmax = 57000\n",
        "Dmin = 32000\n",
        "Dmax = 56000\n",
        "Emin = 2200\n",
        "Emax = 7800\n",
        "Fmin = 1200\n",
        "Fmax = 15700\n",
        "Gmin = 4500\n",
        "Gmax = 65000\n",
        "Hmin = 3400\n",
        "Hmax = 8000\n",
        "# Dataframe\n",
        "df = pd.DataFrame()\n",
        "df['A'] = [Amin,Amax]\n",
        "df['B'] = [Bmin,Bmax]\n",
        "df['C'] = [Cmin,Cmax]\n",
        "df['D'] = [Dmin,Dmax]\n",
        "df['E'] = [Emin,Emax]\n",
        "df['F'] = [Fmin,Fmax]\n",
        "df['G'] = [Gmin,Gmax]\n",
        "df['H'] = [Hmin,Hmax]\n",
        "df.index = ['Minimo','Maximo']"
      ],
      "metadata": {
        "id": "5nM1pR4_SFPH"
      },
      "execution_count": null,
      "outputs": []
    },
    {
      "cell_type": "code",
      "source": [
        "df"
      ],
      "metadata": {
        "colab": {
          "base_uri": "https://localhost:8080/",
          "height": 125
        },
        "id": "juNOv6B0OHey",
        "outputId": "529ce822-9804-45ce-bf2d-e319e73b5b5b"
      },
      "execution_count": null,
      "outputs": [
        {
          "output_type": "execute_result",
          "data": {
            "text/plain": [
              "            A      B      C      D     E      F      G     H\n",
              "Minimo   5500   4300   4500  32000  2200   1200   4500  3400\n",
              "Maximo  15400  89000  57000  56000  7800  15700  65000  8000"
            ],
            "text/html": [
              "\n",
              "  <div id=\"df-4fd93522-a4b9-40d2-891f-d4088a7c937b\" class=\"colab-df-container\">\n",
              "    <div>\n",
              "<style scoped>\n",
              "    .dataframe tbody tr th:only-of-type {\n",
              "        vertical-align: middle;\n",
              "    }\n",
              "\n",
              "    .dataframe tbody tr th {\n",
              "        vertical-align: top;\n",
              "    }\n",
              "\n",
              "    .dataframe thead th {\n",
              "        text-align: right;\n",
              "    }\n",
              "</style>\n",
              "<table border=\"1\" class=\"dataframe\">\n",
              "  <thead>\n",
              "    <tr style=\"text-align: right;\">\n",
              "      <th></th>\n",
              "      <th>A</th>\n",
              "      <th>B</th>\n",
              "      <th>C</th>\n",
              "      <th>D</th>\n",
              "      <th>E</th>\n",
              "      <th>F</th>\n",
              "      <th>G</th>\n",
              "      <th>H</th>\n",
              "    </tr>\n",
              "  </thead>\n",
              "  <tbody>\n",
              "    <tr>\n",
              "      <th>Minimo</th>\n",
              "      <td>5500</td>\n",
              "      <td>4300</td>\n",
              "      <td>4500</td>\n",
              "      <td>32000</td>\n",
              "      <td>2200</td>\n",
              "      <td>1200</td>\n",
              "      <td>4500</td>\n",
              "      <td>3400</td>\n",
              "    </tr>\n",
              "    <tr>\n",
              "      <th>Maximo</th>\n",
              "      <td>15400</td>\n",
              "      <td>89000</td>\n",
              "      <td>57000</td>\n",
              "      <td>56000</td>\n",
              "      <td>7800</td>\n",
              "      <td>15700</td>\n",
              "      <td>65000</td>\n",
              "      <td>8000</td>\n",
              "    </tr>\n",
              "  </tbody>\n",
              "</table>\n",
              "</div>\n",
              "    <div class=\"colab-df-buttons\">\n",
              "\n",
              "  <div class=\"colab-df-container\">\n",
              "    <button class=\"colab-df-convert\" onclick=\"convertToInteractive('df-4fd93522-a4b9-40d2-891f-d4088a7c937b')\"\n",
              "            title=\"Convert this dataframe to an interactive table.\"\n",
              "            style=\"display:none;\">\n",
              "\n",
              "  <svg xmlns=\"http://www.w3.org/2000/svg\" height=\"24px\" viewBox=\"0 -960 960 960\">\n",
              "    <path d=\"M120-120v-720h720v720H120Zm60-500h600v-160H180v160Zm220 220h160v-160H400v160Zm0 220h160v-160H400v160ZM180-400h160v-160H180v160Zm440 0h160v-160H620v160ZM180-180h160v-160H180v160Zm440 0h160v-160H620v160Z\"/>\n",
              "  </svg>\n",
              "    </button>\n",
              "\n",
              "  <style>\n",
              "    .colab-df-container {\n",
              "      display:flex;\n",
              "      gap: 12px;\n",
              "    }\n",
              "\n",
              "    .colab-df-convert {\n",
              "      background-color: #E8F0FE;\n",
              "      border: none;\n",
              "      border-radius: 50%;\n",
              "      cursor: pointer;\n",
              "      display: none;\n",
              "      fill: #1967D2;\n",
              "      height: 32px;\n",
              "      padding: 0 0 0 0;\n",
              "      width: 32px;\n",
              "    }\n",
              "\n",
              "    .colab-df-convert:hover {\n",
              "      background-color: #E2EBFA;\n",
              "      box-shadow: 0px 1px 2px rgba(60, 64, 67, 0.3), 0px 1px 3px 1px rgba(60, 64, 67, 0.15);\n",
              "      fill: #174EA6;\n",
              "    }\n",
              "\n",
              "    .colab-df-buttons div {\n",
              "      margin-bottom: 4px;\n",
              "    }\n",
              "\n",
              "    [theme=dark] .colab-df-convert {\n",
              "      background-color: #3B4455;\n",
              "      fill: #D2E3FC;\n",
              "    }\n",
              "\n",
              "    [theme=dark] .colab-df-convert:hover {\n",
              "      background-color: #434B5C;\n",
              "      box-shadow: 0px 1px 3px 1px rgba(0, 0, 0, 0.15);\n",
              "      filter: drop-shadow(0px 1px 2px rgba(0, 0, 0, 0.3));\n",
              "      fill: #FFFFFF;\n",
              "    }\n",
              "  </style>\n",
              "\n",
              "    <script>\n",
              "      const buttonEl =\n",
              "        document.querySelector('#df-4fd93522-a4b9-40d2-891f-d4088a7c937b button.colab-df-convert');\n",
              "      buttonEl.style.display =\n",
              "        google.colab.kernel.accessAllowed ? 'block' : 'none';\n",
              "\n",
              "      async function convertToInteractive(key) {\n",
              "        const element = document.querySelector('#df-4fd93522-a4b9-40d2-891f-d4088a7c937b');\n",
              "        const dataTable =\n",
              "          await google.colab.kernel.invokeFunction('convertToInteractive',\n",
              "                                                    [key], {});\n",
              "        if (!dataTable) return;\n",
              "\n",
              "        const docLinkHtml = 'Like what you see? Visit the ' +\n",
              "          '<a target=\"_blank\" href=https://colab.research.google.com/notebooks/data_table.ipynb>data table notebook</a>'\n",
              "          + ' to learn more about interactive tables.';\n",
              "        element.innerHTML = '';\n",
              "        dataTable['output_type'] = 'display_data';\n",
              "        await google.colab.output.renderOutput(dataTable, element);\n",
              "        const docLink = document.createElement('div');\n",
              "        docLink.innerHTML = docLinkHtml;\n",
              "        element.appendChild(docLink);\n",
              "      }\n",
              "    </script>\n",
              "  </div>\n",
              "\n",
              "\n",
              "<div id=\"df-341220ce-36dd-454c-be0a-d37e53158e11\">\n",
              "  <button class=\"colab-df-quickchart\" onclick=\"quickchart('df-341220ce-36dd-454c-be0a-d37e53158e11')\"\n",
              "            title=\"Suggest charts\"\n",
              "            style=\"display:none;\">\n",
              "\n",
              "<svg xmlns=\"http://www.w3.org/2000/svg\" height=\"24px\"viewBox=\"0 0 24 24\"\n",
              "     width=\"24px\">\n",
              "    <g>\n",
              "        <path d=\"M19 3H5c-1.1 0-2 .9-2 2v14c0 1.1.9 2 2 2h14c1.1 0 2-.9 2-2V5c0-1.1-.9-2-2-2zM9 17H7v-7h2v7zm4 0h-2V7h2v10zm4 0h-2v-4h2v4z\"/>\n",
              "    </g>\n",
              "</svg>\n",
              "  </button>\n",
              "\n",
              "<style>\n",
              "  .colab-df-quickchart {\n",
              "      --bg-color: #E8F0FE;\n",
              "      --fill-color: #1967D2;\n",
              "      --hover-bg-color: #E2EBFA;\n",
              "      --hover-fill-color: #174EA6;\n",
              "      --disabled-fill-color: #AAA;\n",
              "      --disabled-bg-color: #DDD;\n",
              "  }\n",
              "\n",
              "  [theme=dark] .colab-df-quickchart {\n",
              "      --bg-color: #3B4455;\n",
              "      --fill-color: #D2E3FC;\n",
              "      --hover-bg-color: #434B5C;\n",
              "      --hover-fill-color: #FFFFFF;\n",
              "      --disabled-bg-color: #3B4455;\n",
              "      --disabled-fill-color: #666;\n",
              "  }\n",
              "\n",
              "  .colab-df-quickchart {\n",
              "    background-color: var(--bg-color);\n",
              "    border: none;\n",
              "    border-radius: 50%;\n",
              "    cursor: pointer;\n",
              "    display: none;\n",
              "    fill: var(--fill-color);\n",
              "    height: 32px;\n",
              "    padding: 0;\n",
              "    width: 32px;\n",
              "  }\n",
              "\n",
              "  .colab-df-quickchart:hover {\n",
              "    background-color: var(--hover-bg-color);\n",
              "    box-shadow: 0 1px 2px rgba(60, 64, 67, 0.3), 0 1px 3px 1px rgba(60, 64, 67, 0.15);\n",
              "    fill: var(--button-hover-fill-color);\n",
              "  }\n",
              "\n",
              "  .colab-df-quickchart-complete:disabled,\n",
              "  .colab-df-quickchart-complete:disabled:hover {\n",
              "    background-color: var(--disabled-bg-color);\n",
              "    fill: var(--disabled-fill-color);\n",
              "    box-shadow: none;\n",
              "  }\n",
              "\n",
              "  .colab-df-spinner {\n",
              "    border: 2px solid var(--fill-color);\n",
              "    border-color: transparent;\n",
              "    border-bottom-color: var(--fill-color);\n",
              "    animation:\n",
              "      spin 1s steps(1) infinite;\n",
              "  }\n",
              "\n",
              "  @keyframes spin {\n",
              "    0% {\n",
              "      border-color: transparent;\n",
              "      border-bottom-color: var(--fill-color);\n",
              "      border-left-color: var(--fill-color);\n",
              "    }\n",
              "    20% {\n",
              "      border-color: transparent;\n",
              "      border-left-color: var(--fill-color);\n",
              "      border-top-color: var(--fill-color);\n",
              "    }\n",
              "    30% {\n",
              "      border-color: transparent;\n",
              "      border-left-color: var(--fill-color);\n",
              "      border-top-color: var(--fill-color);\n",
              "      border-right-color: var(--fill-color);\n",
              "    }\n",
              "    40% {\n",
              "      border-color: transparent;\n",
              "      border-right-color: var(--fill-color);\n",
              "      border-top-color: var(--fill-color);\n",
              "    }\n",
              "    60% {\n",
              "      border-color: transparent;\n",
              "      border-right-color: var(--fill-color);\n",
              "    }\n",
              "    80% {\n",
              "      border-color: transparent;\n",
              "      border-right-color: var(--fill-color);\n",
              "      border-bottom-color: var(--fill-color);\n",
              "    }\n",
              "    90% {\n",
              "      border-color: transparent;\n",
              "      border-bottom-color: var(--fill-color);\n",
              "    }\n",
              "  }\n",
              "</style>\n",
              "\n",
              "  <script>\n",
              "    async function quickchart(key) {\n",
              "      const quickchartButtonEl =\n",
              "        document.querySelector('#' + key + ' button');\n",
              "      quickchartButtonEl.disabled = true;  // To prevent multiple clicks.\n",
              "      quickchartButtonEl.classList.add('colab-df-spinner');\n",
              "      try {\n",
              "        const charts = await google.colab.kernel.invokeFunction(\n",
              "            'suggestCharts', [key], {});\n",
              "      } catch (error) {\n",
              "        console.error('Error during call to suggestCharts:', error);\n",
              "      }\n",
              "      quickchartButtonEl.classList.remove('colab-df-spinner');\n",
              "      quickchartButtonEl.classList.add('colab-df-quickchart-complete');\n",
              "    }\n",
              "    (() => {\n",
              "      let quickchartButtonEl =\n",
              "        document.querySelector('#df-341220ce-36dd-454c-be0a-d37e53158e11 button');\n",
              "      quickchartButtonEl.style.display =\n",
              "        google.colab.kernel.accessAllowed ? 'block' : 'none';\n",
              "    })();\n",
              "  </script>\n",
              "</div>\n",
              "\n",
              "  <div id=\"id_bd729512-dcef-4882-b031-ef23ba284a0c\">\n",
              "    <style>\n",
              "      .colab-df-generate {\n",
              "        background-color: #E8F0FE;\n",
              "        border: none;\n",
              "        border-radius: 50%;\n",
              "        cursor: pointer;\n",
              "        display: none;\n",
              "        fill: #1967D2;\n",
              "        height: 32px;\n",
              "        padding: 0 0 0 0;\n",
              "        width: 32px;\n",
              "      }\n",
              "\n",
              "      .colab-df-generate:hover {\n",
              "        background-color: #E2EBFA;\n",
              "        box-shadow: 0px 1px 2px rgba(60, 64, 67, 0.3), 0px 1px 3px 1px rgba(60, 64, 67, 0.15);\n",
              "        fill: #174EA6;\n",
              "      }\n",
              "\n",
              "      [theme=dark] .colab-df-generate {\n",
              "        background-color: #3B4455;\n",
              "        fill: #D2E3FC;\n",
              "      }\n",
              "\n",
              "      [theme=dark] .colab-df-generate:hover {\n",
              "        background-color: #434B5C;\n",
              "        box-shadow: 0px 1px 3px 1px rgba(0, 0, 0, 0.15);\n",
              "        filter: drop-shadow(0px 1px 2px rgba(0, 0, 0, 0.3));\n",
              "        fill: #FFFFFF;\n",
              "      }\n",
              "    </style>\n",
              "    <button class=\"colab-df-generate\" onclick=\"generateWithVariable('df')\"\n",
              "            title=\"Generate code using this dataframe.\"\n",
              "            style=\"display:none;\">\n",
              "\n",
              "  <svg xmlns=\"http://www.w3.org/2000/svg\" height=\"24px\"viewBox=\"0 0 24 24\"\n",
              "       width=\"24px\">\n",
              "    <path d=\"M7,19H8.4L18.45,9,17,7.55,7,17.6ZM5,21V16.75L18.45,3.32a2,2,0,0,1,2.83,0l1.4,1.43a1.91,1.91,0,0,1,.58,1.4,1.91,1.91,0,0,1-.58,1.4L9.25,21ZM18.45,9,17,7.55Zm-12,3A5.31,5.31,0,0,0,4.9,8.1,5.31,5.31,0,0,0,1,6.5,5.31,5.31,0,0,0,4.9,4.9,5.31,5.31,0,0,0,6.5,1,5.31,5.31,0,0,0,8.1,4.9,5.31,5.31,0,0,0,12,6.5,5.46,5.46,0,0,0,6.5,12Z\"/>\n",
              "  </svg>\n",
              "    </button>\n",
              "    <script>\n",
              "      (() => {\n",
              "      const buttonEl =\n",
              "        document.querySelector('#id_bd729512-dcef-4882-b031-ef23ba284a0c button.colab-df-generate');\n",
              "      buttonEl.style.display =\n",
              "        google.colab.kernel.accessAllowed ? 'block' : 'none';\n",
              "\n",
              "      buttonEl.onclick = () => {\n",
              "        google.colab.notebook.generateWithVariable('df');\n",
              "      }\n",
              "      })();\n",
              "    </script>\n",
              "  </div>\n",
              "\n",
              "    </div>\n",
              "  </div>\n"
            ],
            "application/vnd.google.colaboratory.intrinsic+json": {
              "type": "dataframe",
              "variable_name": "df",
              "summary": "{\n  \"name\": \"df\",\n  \"rows\": 2,\n  \"fields\": [\n    {\n      \"column\": \"A\",\n      \"properties\": {\n        \"dtype\": \"number\",\n        \"std\": 7000,\n        \"min\": 5500,\n        \"max\": 15400,\n        \"num_unique_values\": 2,\n        \"samples\": [\n          15400,\n          5500\n        ],\n        \"semantic_type\": \"\",\n        \"description\": \"\"\n      }\n    },\n    {\n      \"column\": \"B\",\n      \"properties\": {\n        \"dtype\": \"number\",\n        \"std\": 59891,\n        \"min\": 4300,\n        \"max\": 89000,\n        \"num_unique_values\": 2,\n        \"samples\": [\n          89000,\n          4300\n        ],\n        \"semantic_type\": \"\",\n        \"description\": \"\"\n      }\n    },\n    {\n      \"column\": \"C\",\n      \"properties\": {\n        \"dtype\": \"number\",\n        \"std\": 37123,\n        \"min\": 4500,\n        \"max\": 57000,\n        \"num_unique_values\": 2,\n        \"samples\": [\n          57000,\n          4500\n        ],\n        \"semantic_type\": \"\",\n        \"description\": \"\"\n      }\n    },\n    {\n      \"column\": \"D\",\n      \"properties\": {\n        \"dtype\": \"number\",\n        \"std\": 16970,\n        \"min\": 32000,\n        \"max\": 56000,\n        \"num_unique_values\": 2,\n        \"samples\": [\n          56000,\n          32000\n        ],\n        \"semantic_type\": \"\",\n        \"description\": \"\"\n      }\n    },\n    {\n      \"column\": \"E\",\n      \"properties\": {\n        \"dtype\": \"number\",\n        \"std\": 3959,\n        \"min\": 2200,\n        \"max\": 7800,\n        \"num_unique_values\": 2,\n        \"samples\": [\n          7800,\n          2200\n        ],\n        \"semantic_type\": \"\",\n        \"description\": \"\"\n      }\n    },\n    {\n      \"column\": \"F\",\n      \"properties\": {\n        \"dtype\": \"number\",\n        \"std\": 10253,\n        \"min\": 1200,\n        \"max\": 15700,\n        \"num_unique_values\": 2,\n        \"samples\": [\n          15700,\n          1200\n        ],\n        \"semantic_type\": \"\",\n        \"description\": \"\"\n      }\n    },\n    {\n      \"column\": \"G\",\n      \"properties\": {\n        \"dtype\": \"number\",\n        \"std\": 42779,\n        \"min\": 4500,\n        \"max\": 65000,\n        \"num_unique_values\": 2,\n        \"samples\": [\n          65000,\n          4500\n        ],\n        \"semantic_type\": \"\",\n        \"description\": \"\"\n      }\n    },\n    {\n      \"column\": \"H\",\n      \"properties\": {\n        \"dtype\": \"number\",\n        \"std\": 3252,\n        \"min\": 3400,\n        \"max\": 8000,\n        \"num_unique_values\": 2,\n        \"samples\": [\n          8000,\n          3400\n        ],\n        \"semantic_type\": \"\",\n        \"description\": \"\"\n      }\n    }\n  ]\n}"
            }
          },
          "metadata": {},
          "execution_count": 303
        }
      ]
    },
    {
      "cell_type": "code",
      "source": [
        "df.rename_axis('Task/Tarefa', inplace=True)\n",
        "df['Total']=0\n",
        "for i in range(0,df.shape[0]):\n",
        " df['Total'][i]=df.sum(axis=1)[i]\n",
        "df.T"
      ],
      "metadata": {
        "colab": {
          "base_uri": "https://localhost:8080/",
          "height": 331
        },
        "id": "JlPVqhJOMniU",
        "outputId": "75420f13-8e54-40e9-c95d-90d2acdabdec"
      },
      "execution_count": null,
      "outputs": [
        {
          "output_type": "execute_result",
          "data": {
            "text/plain": [
              "Task/Tarefa  Minimo  Maximo\n",
              "A              5500   15400\n",
              "B              4300   89000\n",
              "C              4500   57000\n",
              "D             32000   56000\n",
              "E              2200    7800\n",
              "F              1200   15700\n",
              "G              4500   65000\n",
              "H              3400    8000\n",
              "Total         57600  313900"
            ],
            "text/html": [
              "\n",
              "  <div id=\"df-aaa35f53-8208-4391-933b-5f598e24c93a\" class=\"colab-df-container\">\n",
              "    <div>\n",
              "<style scoped>\n",
              "    .dataframe tbody tr th:only-of-type {\n",
              "        vertical-align: middle;\n",
              "    }\n",
              "\n",
              "    .dataframe tbody tr th {\n",
              "        vertical-align: top;\n",
              "    }\n",
              "\n",
              "    .dataframe thead th {\n",
              "        text-align: right;\n",
              "    }\n",
              "</style>\n",
              "<table border=\"1\" class=\"dataframe\">\n",
              "  <thead>\n",
              "    <tr style=\"text-align: right;\">\n",
              "      <th>Task/Tarefa</th>\n",
              "      <th>Minimo</th>\n",
              "      <th>Maximo</th>\n",
              "    </tr>\n",
              "  </thead>\n",
              "  <tbody>\n",
              "    <tr>\n",
              "      <th>A</th>\n",
              "      <td>5500</td>\n",
              "      <td>15400</td>\n",
              "    </tr>\n",
              "    <tr>\n",
              "      <th>B</th>\n",
              "      <td>4300</td>\n",
              "      <td>89000</td>\n",
              "    </tr>\n",
              "    <tr>\n",
              "      <th>C</th>\n",
              "      <td>4500</td>\n",
              "      <td>57000</td>\n",
              "    </tr>\n",
              "    <tr>\n",
              "      <th>D</th>\n",
              "      <td>32000</td>\n",
              "      <td>56000</td>\n",
              "    </tr>\n",
              "    <tr>\n",
              "      <th>E</th>\n",
              "      <td>2200</td>\n",
              "      <td>7800</td>\n",
              "    </tr>\n",
              "    <tr>\n",
              "      <th>F</th>\n",
              "      <td>1200</td>\n",
              "      <td>15700</td>\n",
              "    </tr>\n",
              "    <tr>\n",
              "      <th>G</th>\n",
              "      <td>4500</td>\n",
              "      <td>65000</td>\n",
              "    </tr>\n",
              "    <tr>\n",
              "      <th>H</th>\n",
              "      <td>3400</td>\n",
              "      <td>8000</td>\n",
              "    </tr>\n",
              "    <tr>\n",
              "      <th>Total</th>\n",
              "      <td>57600</td>\n",
              "      <td>313900</td>\n",
              "    </tr>\n",
              "  </tbody>\n",
              "</table>\n",
              "</div>\n",
              "    <div class=\"colab-df-buttons\">\n",
              "\n",
              "  <div class=\"colab-df-container\">\n",
              "    <button class=\"colab-df-convert\" onclick=\"convertToInteractive('df-aaa35f53-8208-4391-933b-5f598e24c93a')\"\n",
              "            title=\"Convert this dataframe to an interactive table.\"\n",
              "            style=\"display:none;\">\n",
              "\n",
              "  <svg xmlns=\"http://www.w3.org/2000/svg\" height=\"24px\" viewBox=\"0 -960 960 960\">\n",
              "    <path d=\"M120-120v-720h720v720H120Zm60-500h600v-160H180v160Zm220 220h160v-160H400v160Zm0 220h160v-160H400v160ZM180-400h160v-160H180v160Zm440 0h160v-160H620v160ZM180-180h160v-160H180v160Zm440 0h160v-160H620v160Z\"/>\n",
              "  </svg>\n",
              "    </button>\n",
              "\n",
              "  <style>\n",
              "    .colab-df-container {\n",
              "      display:flex;\n",
              "      gap: 12px;\n",
              "    }\n",
              "\n",
              "    .colab-df-convert {\n",
              "      background-color: #E8F0FE;\n",
              "      border: none;\n",
              "      border-radius: 50%;\n",
              "      cursor: pointer;\n",
              "      display: none;\n",
              "      fill: #1967D2;\n",
              "      height: 32px;\n",
              "      padding: 0 0 0 0;\n",
              "      width: 32px;\n",
              "    }\n",
              "\n",
              "    .colab-df-convert:hover {\n",
              "      background-color: #E2EBFA;\n",
              "      box-shadow: 0px 1px 2px rgba(60, 64, 67, 0.3), 0px 1px 3px 1px rgba(60, 64, 67, 0.15);\n",
              "      fill: #174EA6;\n",
              "    }\n",
              "\n",
              "    .colab-df-buttons div {\n",
              "      margin-bottom: 4px;\n",
              "    }\n",
              "\n",
              "    [theme=dark] .colab-df-convert {\n",
              "      background-color: #3B4455;\n",
              "      fill: #D2E3FC;\n",
              "    }\n",
              "\n",
              "    [theme=dark] .colab-df-convert:hover {\n",
              "      background-color: #434B5C;\n",
              "      box-shadow: 0px 1px 3px 1px rgba(0, 0, 0, 0.15);\n",
              "      filter: drop-shadow(0px 1px 2px rgba(0, 0, 0, 0.3));\n",
              "      fill: #FFFFFF;\n",
              "    }\n",
              "  </style>\n",
              "\n",
              "    <script>\n",
              "      const buttonEl =\n",
              "        document.querySelector('#df-aaa35f53-8208-4391-933b-5f598e24c93a button.colab-df-convert');\n",
              "      buttonEl.style.display =\n",
              "        google.colab.kernel.accessAllowed ? 'block' : 'none';\n",
              "\n",
              "      async function convertToInteractive(key) {\n",
              "        const element = document.querySelector('#df-aaa35f53-8208-4391-933b-5f598e24c93a');\n",
              "        const dataTable =\n",
              "          await google.colab.kernel.invokeFunction('convertToInteractive',\n",
              "                                                    [key], {});\n",
              "        if (!dataTable) return;\n",
              "\n",
              "        const docLinkHtml = 'Like what you see? Visit the ' +\n",
              "          '<a target=\"_blank\" href=https://colab.research.google.com/notebooks/data_table.ipynb>data table notebook</a>'\n",
              "          + ' to learn more about interactive tables.';\n",
              "        element.innerHTML = '';\n",
              "        dataTable['output_type'] = 'display_data';\n",
              "        await google.colab.output.renderOutput(dataTable, element);\n",
              "        const docLink = document.createElement('div');\n",
              "        docLink.innerHTML = docLinkHtml;\n",
              "        element.appendChild(docLink);\n",
              "      }\n",
              "    </script>\n",
              "  </div>\n",
              "\n",
              "\n",
              "<div id=\"df-bd2388ae-efab-481f-8ff7-85ec5d8cd2ec\">\n",
              "  <button class=\"colab-df-quickchart\" onclick=\"quickchart('df-bd2388ae-efab-481f-8ff7-85ec5d8cd2ec')\"\n",
              "            title=\"Suggest charts\"\n",
              "            style=\"display:none;\">\n",
              "\n",
              "<svg xmlns=\"http://www.w3.org/2000/svg\" height=\"24px\"viewBox=\"0 0 24 24\"\n",
              "     width=\"24px\">\n",
              "    <g>\n",
              "        <path d=\"M19 3H5c-1.1 0-2 .9-2 2v14c0 1.1.9 2 2 2h14c1.1 0 2-.9 2-2V5c0-1.1-.9-2-2-2zM9 17H7v-7h2v7zm4 0h-2V7h2v10zm4 0h-2v-4h2v4z\"/>\n",
              "    </g>\n",
              "</svg>\n",
              "  </button>\n",
              "\n",
              "<style>\n",
              "  .colab-df-quickchart {\n",
              "      --bg-color: #E8F0FE;\n",
              "      --fill-color: #1967D2;\n",
              "      --hover-bg-color: #E2EBFA;\n",
              "      --hover-fill-color: #174EA6;\n",
              "      --disabled-fill-color: #AAA;\n",
              "      --disabled-bg-color: #DDD;\n",
              "  }\n",
              "\n",
              "  [theme=dark] .colab-df-quickchart {\n",
              "      --bg-color: #3B4455;\n",
              "      --fill-color: #D2E3FC;\n",
              "      --hover-bg-color: #434B5C;\n",
              "      --hover-fill-color: #FFFFFF;\n",
              "      --disabled-bg-color: #3B4455;\n",
              "      --disabled-fill-color: #666;\n",
              "  }\n",
              "\n",
              "  .colab-df-quickchart {\n",
              "    background-color: var(--bg-color);\n",
              "    border: none;\n",
              "    border-radius: 50%;\n",
              "    cursor: pointer;\n",
              "    display: none;\n",
              "    fill: var(--fill-color);\n",
              "    height: 32px;\n",
              "    padding: 0;\n",
              "    width: 32px;\n",
              "  }\n",
              "\n",
              "  .colab-df-quickchart:hover {\n",
              "    background-color: var(--hover-bg-color);\n",
              "    box-shadow: 0 1px 2px rgba(60, 64, 67, 0.3), 0 1px 3px 1px rgba(60, 64, 67, 0.15);\n",
              "    fill: var(--button-hover-fill-color);\n",
              "  }\n",
              "\n",
              "  .colab-df-quickchart-complete:disabled,\n",
              "  .colab-df-quickchart-complete:disabled:hover {\n",
              "    background-color: var(--disabled-bg-color);\n",
              "    fill: var(--disabled-fill-color);\n",
              "    box-shadow: none;\n",
              "  }\n",
              "\n",
              "  .colab-df-spinner {\n",
              "    border: 2px solid var(--fill-color);\n",
              "    border-color: transparent;\n",
              "    border-bottom-color: var(--fill-color);\n",
              "    animation:\n",
              "      spin 1s steps(1) infinite;\n",
              "  }\n",
              "\n",
              "  @keyframes spin {\n",
              "    0% {\n",
              "      border-color: transparent;\n",
              "      border-bottom-color: var(--fill-color);\n",
              "      border-left-color: var(--fill-color);\n",
              "    }\n",
              "    20% {\n",
              "      border-color: transparent;\n",
              "      border-left-color: var(--fill-color);\n",
              "      border-top-color: var(--fill-color);\n",
              "    }\n",
              "    30% {\n",
              "      border-color: transparent;\n",
              "      border-left-color: var(--fill-color);\n",
              "      border-top-color: var(--fill-color);\n",
              "      border-right-color: var(--fill-color);\n",
              "    }\n",
              "    40% {\n",
              "      border-color: transparent;\n",
              "      border-right-color: var(--fill-color);\n",
              "      border-top-color: var(--fill-color);\n",
              "    }\n",
              "    60% {\n",
              "      border-color: transparent;\n",
              "      border-right-color: var(--fill-color);\n",
              "    }\n",
              "    80% {\n",
              "      border-color: transparent;\n",
              "      border-right-color: var(--fill-color);\n",
              "      border-bottom-color: var(--fill-color);\n",
              "    }\n",
              "    90% {\n",
              "      border-color: transparent;\n",
              "      border-bottom-color: var(--fill-color);\n",
              "    }\n",
              "  }\n",
              "</style>\n",
              "\n",
              "  <script>\n",
              "    async function quickchart(key) {\n",
              "      const quickchartButtonEl =\n",
              "        document.querySelector('#' + key + ' button');\n",
              "      quickchartButtonEl.disabled = true;  // To prevent multiple clicks.\n",
              "      quickchartButtonEl.classList.add('colab-df-spinner');\n",
              "      try {\n",
              "        const charts = await google.colab.kernel.invokeFunction(\n",
              "            'suggestCharts', [key], {});\n",
              "      } catch (error) {\n",
              "        console.error('Error during call to suggestCharts:', error);\n",
              "      }\n",
              "      quickchartButtonEl.classList.remove('colab-df-spinner');\n",
              "      quickchartButtonEl.classList.add('colab-df-quickchart-complete');\n",
              "    }\n",
              "    (() => {\n",
              "      let quickchartButtonEl =\n",
              "        document.querySelector('#df-bd2388ae-efab-481f-8ff7-85ec5d8cd2ec button');\n",
              "      quickchartButtonEl.style.display =\n",
              "        google.colab.kernel.accessAllowed ? 'block' : 'none';\n",
              "    })();\n",
              "  </script>\n",
              "</div>\n",
              "\n",
              "    </div>\n",
              "  </div>\n"
            ],
            "application/vnd.google.colaboratory.intrinsic+json": {
              "type": "dataframe",
              "summary": "{\n  \"name\": \"df\",\n  \"rows\": 9,\n  \"fields\": [\n    {\n      \"column\": \"Minimo\",\n      \"properties\": {\n        \"dtype\": \"number\",\n        \"std\": 19281,\n        \"min\": 1200,\n        \"max\": 57600,\n        \"num_unique_values\": 8,\n        \"samples\": [\n          4300,\n          1200,\n          5500\n        ],\n        \"semantic_type\": \"\",\n        \"description\": \"\"\n      }\n    },\n    {\n      \"column\": \"Maximo\",\n      \"properties\": {\n        \"dtype\": \"number\",\n        \"std\": 96099,\n        \"min\": 7800,\n        \"max\": 313900,\n        \"num_unique_values\": 9,\n        \"samples\": [\n          8000,\n          89000,\n          15700\n        ],\n        \"semantic_type\": \"\",\n        \"description\": \"\"\n      }\n    }\n  ]\n}"
            }
          },
          "metadata": {},
          "execution_count": 304
        }
      ]
    },
    {
      "cell_type": "code",
      "source": [
        "Avg = int(round(np.mean(df['Total']),0))\n",
        "print(\"\\033[1m The average TOTAL COST of the project =\", \"${:,}\".format(Avg))"
      ],
      "metadata": {
        "colab": {
          "base_uri": "https://localhost:8080/"
        },
        "id": "HmPhKWtHMng6",
        "outputId": "f99c7bce-37bb-41b7-d3f5-f412096fa589"
      },
      "execution_count": null,
      "outputs": [
        {
          "output_type": "stream",
          "name": "stdout",
          "text": [
            "\u001b[1m The average TOTAL COST of the project = $185,750\n"
          ]
        }
      ]
    },
    {
      "cell_type": "code",
      "source": [
        "sigma = int(round(stdevp([df['Total'][0],df['Total'][1],Avg]),0))\n",
        "print(\"\\033[1m The upper bound of SIGMA =\", \"${:,}\".format(sigma))"
      ],
      "metadata": {
        "colab": {
          "base_uri": "https://localhost:8080/"
        },
        "id": "N4PCx9SEHZNg",
        "outputId": "e5fafeec-42d6-4bde-fb88-de794b9ecd27"
      },
      "execution_count": null,
      "outputs": [
        {
          "output_type": "stream",
          "name": "stdout",
          "text": [
            "\u001b[1m The upper bound of SIGMA = $104,634\n"
          ]
        }
      ]
    },
    {
      "cell_type": "code",
      "source": [
        "Loss = 0.02 # accepted error\n",
        "error = int(round(Avg*Loss,0))\n",
        "print('\\033[1m The absolute error [Loss] =', '${:,}'.format(error))"
      ],
      "metadata": {
        "id": "q8E84QBmSwC3",
        "colab": {
          "base_uri": "https://localhost:8080/"
        },
        "outputId": "19a91323-ba2e-4638-91b3-3c670381160e"
      },
      "execution_count": null,
      "outputs": [
        {
          "output_type": "stream",
          "name": "stdout",
          "text": [
            "\u001b[1m The absolute error [Loss] = $3,715\n"
          ]
        }
      ]
    },
    {
      "cell_type": "code",
      "source": [
        "N = int(round((3*sigma/error)**2,0))\n",
        "print ('\\033[1m The number of simulations to obtain a result with an error of less [Loss] =', N)"
      ],
      "metadata": {
        "id": "VqFIiOC1S1Vc",
        "colab": {
          "base_uri": "https://localhost:8080/"
        },
        "outputId": "23c12293-5434-4b71-afa5-6a138d6a4eea"
      },
      "execution_count": null,
      "outputs": [
        {
          "output_type": "stream",
          "name": "stdout",
          "text": [
            "\u001b[1m The number of simulations to obtain a result with an error of less [Loss] = 7140\n"
          ]
        }
      ]
    },
    {
      "cell_type": "code",
      "source": [
        "# seed random number generator\n",
        "seed()\n",
        "M = 10000\n",
        "MEAN = 0.5\n",
        "STD = 0.1\n",
        "# generate random numbers between 0-1 -- CHECK EACH DATA DISTRIBUTION\n",
        "A_rand = rand_N(0,1,MEAN,STD,M)\n",
        "B_rand = rand_u(M)\n",
        "C_rand = rand_N(0,1,MEAN,STD,M)\n",
        "D_rand = rand_N(0,1,MEAN,STD,M)\n",
        "E_rand = rand_u(M)\n",
        "F_rand = rand_u(M)\n",
        "G_rand = rand_u(M)\n",
        "H_rand = rand_u(M)"
      ],
      "metadata": {
        "id": "x4ICP0kWS4zZ"
      },
      "execution_count": null,
      "outputs": []
    },
    {
      "cell_type": "code",
      "source": [
        "# A_rand"
      ],
      "metadata": {
        "id": "-OAs04OVQY4x"
      },
      "execution_count": null,
      "outputs": []
    },
    {
      "cell_type": "code",
      "source": [
        "# Create arrays with specific format, based on ONEs (1)\n",
        "A = 1*np.ones((M,1))\n",
        "B = 1*np.ones((M,1))\n",
        "C = 1*np.ones((M,1))\n",
        "D = 1*np.ones((M,1))\n",
        "E = 1*np.ones((M,1))\n",
        "F = 1*np.ones((M,1))\n",
        "G = 1*np.ones((M,1))\n",
        "H = 1*np.ones((M,1))"
      ],
      "metadata": {
        "id": "GCM9nNuvS-IA"
      },
      "execution_count": null,
      "outputs": []
    },
    {
      "cell_type": "code",
      "source": [
        "# Random costs generation, based on the data distributions\n",
        "for i in range(0,M):\n",
        " A[i]=A_rand[i]*(Amax-Amin)+Amin\n",
        " B[i]=B_rand[i]*(Bmax-Bmin)+Bmin\n",
        " C[i]=C_rand[i]*(Cmax-Cmin)+Cmin\n",
        " D[i]=D_rand[i]*(Dmax-Dmin)+Dmin\n",
        " E[i]=E_rand[i]*(Emax-Emin)+Emin\n",
        " F[i]=F_rand[i]*(Fmax-Amin)+Fmin\n",
        " G[i]=G_rand[i]*(Gmax-Gmin)+Gmin\n",
        " H[i]=H_rand[i]*(Hmax-Hmin)+Hmin"
      ],
      "metadata": {
        "id": "hLacRGXUTB_0"
      },
      "execution_count": null,
      "outputs": []
    },
    {
      "cell_type": "code",
      "source": [
        "Total = 1*np.ones((M,1))"
      ],
      "metadata": {
        "id": "7gjbrMUgTG0L"
      },
      "execution_count": null,
      "outputs": []
    },
    {
      "cell_type": "code",
      "source": [
        "for i in range(0,M):\n",
        " Total[i]=A[i]+B[i]+C[i]+D[i]+E[i]+F[i]+G[i]+H[i]\n",
        "Total = Total.round(2)\n",
        "print(Total[0],Total[3],Total[10])"
      ],
      "metadata": {
        "id": "g_UHLmn0TL71",
        "colab": {
          "base_uri": "https://localhost:8080/"
        },
        "outputId": "b1e9506e-c3b2-4966-9976-681aca94314f"
      },
      "execution_count": null,
      "outputs": [
        {
          "output_type": "stream",
          "name": "stdout",
          "text": [
            "[191304.81] [213575.34] [156898.25]\n"
          ]
        }
      ]
    },
    {
      "cell_type": "markdown",
      "source": [
        "## OUTPUTS"
      ],
      "metadata": {
        "id": "pZSYCaSvd2PR"
      }
    },
    {
      "cell_type": "code",
      "source": [
        "Expected_Value1 = int(np.mean(Total))\n",
        "print('\\033[1m The expected value of the total cost of the project =', '${:,}'.format(Expected_Value1))"
      ],
      "metadata": {
        "id": "_B9AkWbuTPwB",
        "colab": {
          "base_uri": "https://localhost:8080/"
        },
        "outputId": "80bb539c-2baa-442b-9d0f-813a5ce595f1"
      },
      "execution_count": null,
      "outputs": [
        {
          "output_type": "stream",
          "name": "stdout",
          "text": [
            "\u001b[1m The expected value of the total cost of the project = $187,285\n"
          ]
        }
      ]
    },
    {
      "cell_type": "code",
      "source": [
        "Median1 = int(np.median(Total))\n",
        "print('\\033[1m The median of the total cost of the project =', '${:,}'.format(Median1))"
      ],
      "metadata": {
        "id": "rW_FaGE2TUI9",
        "colab": {
          "base_uri": "https://localhost:8080/"
        },
        "outputId": "8cae4f9b-da14-4f3e-ee91-cd9499dbaa48"
      },
      "execution_count": null,
      "outputs": [
        {
          "output_type": "stream",
          "name": "stdout",
          "text": [
            "\u001b[1m The median of the total cost of the project = $187,031\n"
          ]
        }
      ]
    },
    {
      "cell_type": "code",
      "source": [
        "diff1 = (Median1/Expected_Value1)-1\n",
        "print('\\033[1m A difference of only:', '{:.2%}'.format(abs(diff1)))"
      ],
      "metadata": {
        "id": "6G910-B9TYqS",
        "colab": {
          "base_uri": "https://localhost:8080/"
        },
        "outputId": "38a9f325-cdbd-431c-99d1-d28cf1f7472a"
      },
      "execution_count": null,
      "outputs": [
        {
          "output_type": "stream",
          "name": "stdout",
          "text": [
            "\u001b[1m A difference of only: 0.14%\n"
          ]
        }
      ]
    },
    {
      "cell_type": "code",
      "source": [
        "sigma1 = int(stdevp(Total))\n",
        "print('\\033[1m The standard deviation of the total cost of the project =', '${:,}'.format(sigma1))"
      ],
      "metadata": {
        "id": "dWrCRTJWTeYG",
        "colab": {
          "base_uri": "https://localhost:8080/"
        },
        "outputId": "465f5c6c-35b4-438c-a18c-3f4884e44d9a"
      },
      "execution_count": null,
      "outputs": [
        {
          "output_type": "stream",
          "name": "stdout",
          "text": [
            "\u001b[1m The standard deviation of the total cost of the project = $30,213\n"
          ]
        },
        {
          "output_type": "stream",
          "name": "stderr",
          "text": [
            "<ipython-input-318-d1d93da76305>:1: DeprecationWarning: Conversion of an array with ndim > 0 to a scalar is deprecated, and will error in future. Ensure you extract a single element from your array before performing this operation. (Deprecated NumPy 1.25.)\n",
            "  sigma1 = int(stdevp(Total))\n"
          ]
        }
      ]
    },
    {
      "cell_type": "code",
      "source": [
        "TrueError1 = int(3*sigma1/np.sqrt(N))\n",
        "print('\\033[1m The true error of the estimate =', '${:,}'.format(TrueError1))"
      ],
      "metadata": {
        "id": "yMaLW_p6Ti6a",
        "colab": {
          "base_uri": "https://localhost:8080/"
        },
        "outputId": "21fdbc5b-c703-4b54-9174-dfd4ba604f83"
      },
      "execution_count": null,
      "outputs": [
        {
          "output_type": "stream",
          "name": "stdout",
          "text": [
            "\u001b[1m The true error of the estimate = $1,072\n"
          ]
        }
      ]
    },
    {
      "cell_type": "code",
      "source": [
        "STOP = time.time()"
      ],
      "metadata": {
        "id": "dN9hj4SYJJG7"
      },
      "execution_count": null,
      "outputs": []
    },
    {
      "cell_type": "code",
      "source": [
        "TIME_DURATION = round(STOP - START,2)\n",
        "TIME_DURATION"
      ],
      "metadata": {
        "colab": {
          "base_uri": "https://localhost:8080/"
        },
        "id": "AgBDFG9ueN1j",
        "outputId": "6ed46ad2-20e3-4456-a1f0-93c194a99e78"
      },
      "execution_count": null,
      "outputs": [
        {
          "output_type": "execute_result",
          "data": {
            "text/plain": [
              "0.48"
            ]
          },
          "metadata": {},
          "execution_count": 321
        }
      ]
    }
  ]
}