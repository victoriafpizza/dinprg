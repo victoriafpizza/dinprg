{
  "nbformat": 4,
  "nbformat_minor": 0,
  "metadata": {
    "colab": {
      "provenance": []
    },
    "kernelspec": {
      "name": "python3",
      "display_name": "Python 3"
    },
    "language_info": {
      "name": "python"
    }
  },
  "cells": [
    {
      "cell_type": "markdown",
      "source": [
        "## One application of recursion is the inversion of a Binary Tree. In this case, the root node remains the same, and all other swap the position from left to right and the other way respectively."
      ],
      "metadata": {
        "id": "pUz-uFiCFBpp"
      }
    },
    {
      "cell_type": "markdown",
      "source": [
        "## Let'start with a function to define the nodes: root, right and left. Remember, it is a binary tree, only two nodes from each predecessor node."
      ],
      "metadata": {
        "id": "61fXgsq5FcvT"
      }
    },
    {
      "cell_type": "code",
      "source": [
        "class Node:\n",
        "    def __init__(self, data): # this function deals with the node definition (right and left)\n",
        "        self.left = self.right = None\n",
        "        self.data = data\n",
        "    def __repr__(self): # this function deals with the declaration of a string, because we will not do aritmetic operations.\n",
        "        return repr(self.data)"
      ],
      "metadata": {
        "id": "N8sBmkBDFavG"
      },
      "execution_count": 3,
      "outputs": []
    },
    {
      "cell_type": "markdown",
      "source": [
        "## Now let's concentrate on the recursion to invert the nodes."
      ],
      "metadata": {
        "id": "Qe795nHgGYrz"
      }
    },
    {
      "cell_type": "code",
      "execution_count": 4,
      "metadata": {
        "id": "jpLthGWoE2R_"
      },
      "outputs": [],
      "source": [
        "\n",
        "\n",
        "def invert(root): # remember: the root node does not change, because it is unique.\n",
        "    left, right = root.left, root.right # root is a position (number) treated here as a string.\n",
        "    print(['visiting', root, 'swapping', left, right]) # comment line to explain what's going on.\n",
        "    root.left, root.right = right, left # change the left to the right, and vice-versa, these nodes are not the root one.\n",
        "    if left: invert(left) # this command is to invert the node, which is not the root node and it is on the left.\n",
        "    if right: invert(right) # this command is to invert the node, not being the root node, which is on the right."
      ]
    },
    {
      "cell_type": "markdown",
      "source": [
        "## The two final lines represented the recursion, used to change the node with children.\n",
        "Let's make an example. First, define the binary tree, starting with the root node. After that, the other nodes (left, right) and their two children (maximum)."
      ],
      "metadata": {
        "id": "Bx-qgX_eHWPR"
      }
    },
    {
      "cell_type": "code",
      "source": [
        "root = Node(5)\n",
        "root.left = node3 = Node(3)\n",
        "root.right = node7 = Node(7)\n",
        "node3.left = Node(1)\n",
        "node3.right = Node(4)\n",
        "node7.left = Node(6)"
      ],
      "metadata": {
        "id": "2eeZCjBOHT-c"
      },
      "execution_count": 5,
      "outputs": []
    },
    {
      "cell_type": "markdown",
      "source": [
        "## Now, apply the function to invert the Binary Tree defined already."
      ],
      "metadata": {
        "id": "EAR4JkcWHruY"
      }
    },
    {
      "cell_type": "code",
      "source": [
        "invert(root)"
      ],
      "metadata": {
        "colab": {
          "base_uri": "https://localhost:8080/"
        },
        "id": "AOt5ZnlGHzBl",
        "outputId": "e56c0f25-3249-4163-e8d4-54f33a3e2712"
      },
      "execution_count": 6,
      "outputs": [
        {
          "output_type": "stream",
          "name": "stdout",
          "text": [
            "['visiting', 5, 'swapping', 3, 7]\n",
            "['visiting', 3, 'swapping', 1, 4]\n",
            "['visiting', 1, 'swapping', None, None]\n",
            "['visiting', 4, 'swapping', None, None]\n",
            "['visiting', 7, 'swapping', 6, None]\n",
            "['visiting', 6, 'swapping', None, None]\n"
          ]
        }
      ]
    }
  ]
}