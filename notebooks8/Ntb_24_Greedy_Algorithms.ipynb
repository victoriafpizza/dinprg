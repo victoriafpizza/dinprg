{
  "nbformat": 4,
  "nbformat_minor": 0,
  "metadata": {
    "colab": {
      "provenance": []
    },
    "kernelspec": {
      "name": "python3",
      "display_name": "Python 3"
    },
    "language_info": {
      "name": "python"
    }
  },
  "cells": [
    {
      "cell_type": "markdown",
      "source": [
        "## 1 - Introduction: in this notebook, Greedy Algorithms are presented in a simple way. Greedy = Ambicioso. The algorithms´ essence is to find a solution, quick and simple, no matter being an optimal one.\n",
        "\n"
      ],
      "metadata": {
        "id": "DSI5EKSKEGv-"
      }
    },
    {
      "cell_type": "markdown",
      "source": [
        "## 2 - There are many problems where Greedy Algorithms work well, even not reaching the best answer. Let´s take the simple problem to make a change with a specific set of coins. As we know, coin values are not continuous, rather they are limited: 1,2,5,10,25,50 cents. It depends on the country monetary policy."
      ],
      "metadata": {
        "id": "LAfFbyIwFoPJ"
      }
    },
    {
      "cell_type": "markdown",
      "source": [
        "## 2 - Google_drive_module"
      ],
      "metadata": {
        "id": "GkrLDQw4ShQx"
      }
    },
    {
      "cell_type": "code",
      "source": [
        "from google.colab import drive # make the Google drive as the data warehouse\n",
        "drive.mount('/content/drive')"
      ],
      "metadata": {
        "colab": {
          "base_uri": "https://localhost:8080/"
        },
        "id": "-pe4KQPdSXTe",
        "outputId": "1615e8b4-fcf8-4cd3-c74e-f40d0ffb463b"
      },
      "execution_count": 1,
      "outputs": [
        {
          "output_type": "stream",
          "name": "stdout",
          "text": [
            "Mounted at /content/drive\n"
          ]
        }
      ]
    },
    {
      "cell_type": "markdown",
      "source": [
        "## 3 - Libraries_load_up"
      ],
      "metadata": {
        "id": "KSRAAo3QEQ0k"
      }
    },
    {
      "cell_type": "code",
      "source": [
        "pip install engineering_notation # to operate with numbers within the engineering notation"
      ],
      "metadata": {
        "colab": {
          "base_uri": "https://localhost:8080/"
        },
        "id": "QXlaGMHNzGre",
        "outputId": "590b45bd-5e0c-4e74-ae74-6a62c99a523f"
      },
      "execution_count": 2,
      "outputs": [
        {
          "output_type": "stream",
          "name": "stdout",
          "text": [
            "Collecting engineering_notation\n",
            "  Downloading engineering_notation-0.10.0-py3-none-any.whl (6.8 kB)\n",
            "Installing collected packages: engineering_notation\n",
            "Successfully installed engineering_notation-0.10.0\n"
          ]
        }
      ]
    },
    {
      "cell_type": "code",
      "execution_count": 3,
      "metadata": {
        "id": "sWXDcGELD2hI"
      },
      "outputs": [],
      "source": [
        "import pandas as pd\n",
        "import numpy as np\n",
        "import csv\n",
        "import datetime as dt\n",
        "import random\n",
        "import tracemalloc\n",
        "import time\n",
        "\n",
        "# generate random integer values\n",
        "from numpy.random import seed\n",
        "from numpy.random import randint\n",
        "# libraries for memory track\n",
        "import psutil\n",
        "import os\n",
        "# library to use numeric engineering notation\n",
        "from engineering_notation import EngNumber"
      ]
    },
    {
      "cell_type": "markdown",
      "source": [
        "### 4 - Function to set the amount of coins to be picked-up for a change return. Suppose we need to return a certain amount $$ as change. Change = troco. How many coins do we need to separate to return?"
      ],
      "metadata": {
        "id": "zrsfJg3qpFP2"
      }
    },
    {
      "cell_type": "code",
      "source": [
        "def greedy_coin_change(amount, values):\n",
        "  # amount = change value to be returned\n",
        "  # values = possible coin values - provided by the National Federal Bank\n",
        "    values.sort(reverse=True)  # Sort denominations in descending order\n",
        "    # This is better to do: start with higher coin values, to dim the quantity of coins to make-up the cnange.\n",
        "    coins_used = [] # empty list to operate with\n",
        "\n",
        "    for coin in values:\n",
        "        while amount >= coin: # raw comparison between the max quantity of coins to be used\n",
        "            coins_used.append(coin) # collect the coin value to reach the change.\n",
        "            amount -= coin # subtract the coin value from the total change.\n",
        "\n",
        "    return coins_used # set of coins used to make-up the change"
      ],
      "metadata": {
        "id": "C1ZBq6FqGUsz"
      },
      "execution_count": 4,
      "outputs": []
    },
    {
      "cell_type": "code",
      "source": [
        "def tempo(A):\n",
        "  inic = time.time()\n",
        "  A\n",
        "  fini = time.time()\n",
        "  dif = EngNumber(fini - inic)\n",
        "  return dif"
      ],
      "metadata": {
        "id": "AZlxy7wLCKGL"
      },
      "execution_count": 7,
      "outputs": []
    },
    {
      "cell_type": "markdown",
      "source": [
        "### Example #1"
      ],
      "metadata": {
        "id": "YXn0o7zSGsda"
      }
    },
    {
      "cell_type": "code",
      "source": [
        "# Example usage:\n",
        "start = time.time()\n",
        "amount_to_change_1 = 35 # value to be returned as change\n",
        "amount_to_change_2 = 263\n",
        "amount_to_change_3 = 758\n",
        "amount_to_change_4 = 2577\n",
        "amount_to_change_5 = 4339\n",
        "coin_values = [1, 2, 5, 10, 20, 50] # possible coin values from the National Federal Bank\n",
        "\n",
        "result_1 = greedy_coin_change(amount_to_change_1, coin_values)\n",
        "result_2 = greedy_coin_change(amount_to_change_2, coin_values)\n",
        "result_3 = greedy_coin_change(amount_to_change_3, coin_values)\n",
        "result_4 = greedy_coin_change(amount_to_change_4, coin_values)\n",
        "result_5 = greedy_coin_change(amount_to_change_5, coin_values)\n",
        "\n",
        "stop = time.time()\n",
        "dif = EngNumber(stop - start)\n",
        "A = tempo(result_1)\n",
        "B = tempo(result_2)\n",
        "C = tempo(result_3)\n",
        "D = tempo(result_4)\n",
        "E = tempo(result_5)\n",
        "\n",
        "print(\"Case1 - Coins Used_1:\", result_1, \"Total_coins_1=\",len(result_1), \"Process_time\",A)\n",
        "print(\"Case2 - Coins Used_2:\", result_2, \"Total_coins_2=\",len(result_2), \"Process_time\",B)\n",
        "print(\"Case3 - Coins Used_3:\", result_3, \"Total_coins_3=\",len(result_3), \"Process_time\",C)\n",
        "print(\"Case4 - Coins Used_4:\", result_4, \"Total_coins_4=\",len(result_4), \"Process_time\",D)\n",
        "print(\"Case5 - Coins Used_5:\", result_5, \"Total_coins_5=\",len(result_5), \"Process_time\",E)\n",
        "\n",
        "print(\"Total processing time (s)= \", dif)"
      ],
      "metadata": {
        "colab": {
          "base_uri": "https://localhost:8080/"
        },
        "id": "LVmOOku_Gq13",
        "outputId": "2b7f5966-2444-4a0c-af5a-08cc0726314c"
      },
      "execution_count": 19,
      "outputs": [
        {
          "output_type": "stream",
          "name": "stdout",
          "text": [
            "Case1 - Coins Used_1: [20, 10, 5] Total_coins_1= 3 Process_time 238.42n\n",
            "Case2 - Coins Used_2: [50, 50, 50, 50, 50, 10, 2, 1] Total_coins_2= 8 Process_time 238.42n\n",
            "Case3 - Coins Used_3: [50, 50, 50, 50, 50, 50, 50, 50, 50, 50, 50, 50, 50, 50, 50, 5, 2, 1] Total_coins_3= 18 Process_time 238.42n\n",
            "Case4 - Coins Used_4: [50, 50, 50, 50, 50, 50, 50, 50, 50, 50, 50, 50, 50, 50, 50, 50, 50, 50, 50, 50, 50, 50, 50, 50, 50, 50, 50, 50, 50, 50, 50, 50, 50, 50, 50, 50, 50, 50, 50, 50, 50, 50, 50, 50, 50, 50, 50, 50, 50, 50, 50, 20, 5, 2] Total_coins_4= 54 Process_time 238.42n\n",
            "Case5 - Coins Used_5: [50, 50, 50, 50, 50, 50, 50, 50, 50, 50, 50, 50, 50, 50, 50, 50, 50, 50, 50, 50, 50, 50, 50, 50, 50, 50, 50, 50, 50, 50, 50, 50, 50, 50, 50, 50, 50, 50, 50, 50, 50, 50, 50, 50, 50, 50, 50, 50, 50, 50, 50, 50, 50, 50, 50, 50, 50, 50, 50, 50, 50, 50, 50, 50, 50, 50, 50, 50, 50, 50, 50, 50, 50, 50, 50, 50, 50, 50, 50, 50, 50, 50, 50, 50, 50, 50, 20, 10, 5, 2, 2] Total_coins_5= 91 Process_time 238.42n\n",
            "Total processing time (s)=  959.87u\n"
          ]
        }
      ]
    },
    {
      "cell_type": "code",
      "source": [],
      "metadata": {
        "id": "0mOhSUD9G2jC"
      },
      "execution_count": null,
      "outputs": []
    },
    {
      "cell_type": "markdown",
      "source": [
        "## 5 - Problems of quantities and volumes/weights. Sometimes, we have a specific volume available to carry goods and things. It´s the case of the cargo ships: their size is fixed. Thus, the problem is to maximize the amount of goods to be loaded and transported, following the price or economic value of the good or thing."
      ],
      "metadata": {
        "id": "d-wRStOeKYqQ"
      }
    },
    {
      "cell_type": "markdown",
      "source": [
        "### Each good or thing has a volume and price. Therefore, the goal is carry the largest amount of thins with the highest individual value as possible. We need to maximize the product things x values, within the boundary condition of the total volume. Boundary condition = condição de contorno, ou limite físico para algo."
      ],
      "metadata": {
        "id": "BW0qAAgGKVMe"
      }
    },
    {
      "cell_type": "markdown",
      "source": [
        "### Let´s take the following data:\n",
        "## item 01 - weight = 10 kg, value = R$50.  |item 02 - weight = 20 kg, value = R$60. |item 03 - weight = 60 kg, value = R$90."
      ],
      "metadata": {
        "id": "O6NrPskLJsk-"
      }
    },
    {
      "cell_type": "markdown",
      "source": [
        "## ## Our problem deals with to maximize the transported value. There is a maximum quantity of items to be carried, like in airplanes, cars, trucks etc, due to volume or weight constraints."
      ],
      "metadata": {
        "id": "oFLiFua7ALau"
      }
    },
    {
      "cell_type": "code",
      "source": [
        "def item_carry(capacity, weights, values):\n",
        "  # capacity = maximum number of items to be carried\n",
        "  # weights = list - weights related to the items to be carried\n",
        "  # values = list - associated $$ to the items to be carried\n",
        "    n = len(weights) # quantity of weights or goods to be carried\n",
        "    ratios = [(values[i] / weights[i], weights[i], values[i], i) for i in range(n)]\n",
        "    # characterization of the items to be carried\n",
        "    ratios.sort(reverse=True, key=lambda x: x[0]) # sorting to consider the largest first\n",
        "\n",
        "    total_value = 0 # counter related to the total_value\n",
        "    carry = [0] * n # number of items insided the carry container\n",
        "\n",
        "    for ratio, weight, value, index in ratios:\n",
        "        if capacity >= weight:\n",
        "          # in this condition, there is no trouble to carry the weight\n",
        "            carry[index] = 1 # we can put one item inside the carry container\n",
        "            total_value += value # the valued carried is upgraded\n",
        "            capacity -= weight # the capacity left comes from this subtraction\n",
        "        else:\n",
        "            fraction = capacity / weight # this is close to the final case\n",
        "            carry[index] = fraction\n",
        "            total_value += fraction * value # it contains the total value transported\n",
        "            break # interruption\n",
        "\n",
        "    return total_value, carry # it provides the total value carried and items in it."
      ],
      "metadata": {
        "id": "FGsACktXMvzt"
      },
      "execution_count": 21,
      "outputs": []
    },
    {
      "cell_type": "markdown",
      "source": [
        "## Example of the transport problem"
      ],
      "metadata": {
        "id": "0He5cjZvDZL-"
      }
    },
    {
      "cell_type": "code",
      "source": [
        "carry_capacity = 100 # maximum space or weight to be carried by the container\n",
        "item_weights_1 = [10, 25, 30] # list -- the possible weights\n",
        "item_values_1 = [50, 65, 140] # list -- the values of each one of the 3 items\n",
        "\n",
        "item_weights_2 = [2, 26, 58]\n",
        "item_values_2 = [50, 67, 43]\n",
        "\n",
        "Start = time.time()\n",
        "star1 = time.time()\n",
        "max_total_value_1, selected_items_1 = item_carry(carry_capacity,\n",
        "                                                 item_weights_1, item_values_1)\n",
        "stop1 = time.time()\n",
        "dif1 = EngNumber(stop1 - star1)\n",
        "\n",
        "star2 = time.time()\n",
        "max_total_value_2, selected_items_2 = item_carry(carry_capacity,\n",
        "                                                 item_weights_2, item_values_2)\n",
        "stop2 = time.time()\n",
        "dif2 = EngNumber(stop2 - star2)\n",
        "\n",
        "Stop = time.time()\n",
        "\n",
        "difT = EngNumber(Stop - Start)\n",
        "print(\"Maximum Total Value-1:\", max_total_value_1,\n",
        "      \"Selected Items-1 (fractions):\", selected_items_1,\n",
        "      \"Process_time_1\", dif1)\n",
        "print(\"Maximum Total Value-2:\", max_total_value_2,\n",
        "      \"Selected Items-2 (fractions):\", selected_items_2,\n",
        "      \"Process_time_2\", dif2)\n",
        "print(\"Total_proc time =\", difT,\"s\")"
      ],
      "metadata": {
        "colab": {
          "base_uri": "https://localhost:8080/"
        },
        "id": "nDbHtWIUDYMe",
        "outputId": "6832ab80-5670-4028-bc81-8585cc34e1fe"
      },
      "execution_count": 25,
      "outputs": [
        {
          "output_type": "stream",
          "name": "stdout",
          "text": [
            "Maximum Total Value-1: 255 Selected Items-1 (fractions): [1, 1, 1] Process_time_1 122.55u\n",
            "Maximum Total Value-2: 160 Selected Items-2 (fractions): [1, 1, 1] Process_time_2 114.20u\n",
            "Total_proc time = 550.75u s\n"
          ]
        }
      ]
    },
    {
      "cell_type": "markdown",
      "source": [
        "## 6 - Overlapping activities. In project management, sometimes, it does not sound good to have many tasks done in parallel, for some specific reason. Thus, there must be an algorithm capable to dim the quantity of overlap tasks. Every task has a start and finish date, and then an associated duration. They shall be arranged in series or in parallel, to maximize the number of tasks done, with no or the minimum of overlapping."
      ],
      "metadata": {
        "id": "kEOLTOADFtHb"
      }
    },
    {
      "cell_type": "code",
      "source": [
        "def activity_selection(start_times, finish_times):\n",
        "  # start_times = list with the beginning dates\n",
        "  # finish_times = list with the ending dates\n",
        "    n = len(start_times) # or the number of tasks to be managed\n",
        "    activities = list(zip(start_times, finish_times))\n",
        "    # it will work with both lists at the same time, but item by item, linked two by two sequentially.\n",
        "    activities.sort(key=lambda x: x[1])  # Sort activities by finish time\n",
        "    print(\"the activities are =\", activities)\n",
        "\n",
        "    selected_activities = [activities[0]]\n",
        "    print (\"the selected_activities are =\",selected_activities)\n",
        "    last_finish_time = activities[0][1]\n",
        "    print(\"the last_finish_time is =\", last_finish_time)\n",
        "\n",
        "    for i in range(1, n):\n",
        "        current_start, current_finish = activities[i]\n",
        "        print(current_start, current_finish)\n",
        "        if current_start >= last_finish_time:\n",
        "            selected_activities.append(activities[i])\n",
        "            last_finish_time = current_finish\n",
        "            print (last_finish_time)\n",
        "\n",
        "    return selected_activities"
      ],
      "metadata": {
        "id": "Gia_BjpQGkJh"
      },
      "execution_count": 26,
      "outputs": []
    },
    {
      "cell_type": "code",
      "source": [
        "# Example usage:\n",
        "start_times = [1, 3, 0, 5, 7, 8]\n",
        "finish_times = [2, 4, 6, 10, 9, 10]\n",
        "start = time.time()\n",
        "selected_activities = activity_selection(start_times, finish_times)\n",
        "stop = time.time()\n",
        "dif = stop - start\n",
        "dif = EngNumber(dif)\n",
        "print(\"Selected Activities:\", selected_activities)\n",
        "print(\"Execution_time(s) =\", dif)"
      ],
      "metadata": {
        "colab": {
          "base_uri": "https://localhost:8080/"
        },
        "id": "2c1DUu01Imk4",
        "outputId": "3a363e2e-0e17-4284-902c-e71b37235f2d"
      },
      "execution_count": 29,
      "outputs": [
        {
          "output_type": "stream",
          "name": "stdout",
          "text": [
            "the activities are = [(1, 2), (3, 4), (0, 6), (7, 9), (5, 10), (8, 10)]\n",
            "the selected_activities are = [(1, 2)]\n",
            "the last_finish_time is = 2\n",
            "3 4\n",
            "4\n",
            "0 6\n",
            "7 9\n",
            "9\n",
            "5 10\n",
            "8 10\n",
            "Selected Activities: [(1, 2), (3, 4), (7, 9)]\n",
            "Execution_time(s) = 2.34m\n"
          ]
        }
      ]
    }
  ]
}