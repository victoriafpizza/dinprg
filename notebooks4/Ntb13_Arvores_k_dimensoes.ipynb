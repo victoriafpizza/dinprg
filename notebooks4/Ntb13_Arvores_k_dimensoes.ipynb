{
  "nbformat": 4,
  "nbformat_minor": 0,
  "metadata": {
    "colab": {
      "provenance": []
    },
    "kernelspec": {
      "name": "python3",
      "display_name": "Python 3"
    }
  },
  "cells": [
    {
      "metadata": {
        "id": "5_s1_j_PR5UZ"
      },
      "cell_type": "markdown",
      "source": [
        "# Introdução"
      ]
    },
    {
      "metadata": {
        "id": "QzcSWnUKkoxe"
      },
      "cell_type": "markdown",
      "source": [
        "## KdTree\n",
        "\n",
        "\n",
        " ---      \n",
        "       \n",
        "       KdTree ou árvore com kd(k-dimensões), é uma estrutura de dados que particiona e organiza pontos em um k-dimensional para responder rapidamente consultas dos pontos vizinhos mais próximos no espaço. Uma 'árvore kd' genérica pode suportar qualquer número de dimensões e pode retornar o vizinho mais próximo, ou um conjunto de N vizinhos mais próximos.\n",
        "       \n",
        "       Os algoritmos mais comuns constroem 'árvore kds' dividindo os conjuntos de pontos. Cada nó na árvore está definido em um plano por uma das dimensões das partições do conjunto de pontos em esquerda/direita, cada um com a metade dos pontos do nó pai. Os filhos são divididos novamente ao meio, usando planos com dimensão diferente. A técnica se aproxima de uma busca binárias.\n",
        "---"
      ]
    },
    {
      "metadata": {
        "id": "v9IcnmsckjtK"
      },
      "cell_type": "markdown",
      "source": [
        "#Estrutura"
      ]
    },
    {
      "metadata": {
        "id": "452d_NF-MZDy"
      },
      "cell_type": "markdown",
      "source": [
        "### Antes de começarmos o nosso código, incluir as seguintes ferramentas:"
      ]
    },
    {
      "metadata": {
        "id": "BC3UxDgtmh9E"
      },
      "cell_type": "code",
      "source": [
        "#importando o numpy e transformando em np\n",
        "import numpy as np\n",
        "#vai nos possibilitar de usar a função KdTree\n",
        "from scipy import spatial"
      ],
      "execution_count": null,
      "outputs": []
    },
    {
      "metadata": {
        "id": "MQ8-lKztVY0p"
      },
      "cell_type": "markdown",
      "source": [
        "###Construindo uma árvore com duas dimensões:"
      ]
    },
    {
      "cell_type": "markdown",
      "source": [
        "https://docs.scipy.org/doc/scipy/reference/spatial.html"
      ],
      "metadata": {
        "id": "3Iz4N4wT9EWV"
      }
    },
    {
      "metadata": {
        "id": "ROCLw1vB6gTI",
        "colab": {
          "base_uri": "https://localhost:8080/"
        },
        "outputId": "89efbadd-d323-4be4-b49a-41d74b186536"
      },
      "cell_type": "code",
      "source": [
        "import numpy as np\n",
        "from scipy import spatial\n",
        "\n",
        "\n",
        "#Fazer uma matriz variando o indice, ex.: [x:y] vai variar de x ate y-1\n",
        "#A distância desses índices representa a quantidade de linhas e colunas\n",
        "#O primeiro argumento representa as linhas e o segundo as colunas\n",
        "x,y = np.mgrid[5:10,3:6]\n",
        "#print('x: \\n %s \\n y: \\n %s \\n' % (x,y))\n",
        "\n",
        "\n",
        "#Faz uma lista com os pares do zip\n",
        "#Monta as coordenadas com o zip(forma pares dois a dois (coordenadas)) e coloca na lista\n",
        "pontos = list(zip(x.ravel(), y.ravel()))\n",
        "print('os pontos da árvre: \\n %s \\n' % (pontos))\n",
        "\n",
        "\n",
        "#Faz a montagem da árvore(tree)\n",
        "tree = spatial.KDTree(pontos)\n",
        "#imprime todos os pontos\n",
        "print('árvore tree: \\n %s' % (tree.data))\n",
        "\n"
      ],
      "execution_count": null,
      "outputs": [
        {
          "output_type": "stream",
          "name": "stdout",
          "text": [
            "os pontos da árvre: \n",
            " [(5, 3), (5, 4), (5, 5), (6, 3), (6, 4), (6, 5), (7, 3), (7, 4), (7, 5), (8, 3), (8, 4), (8, 5), (9, 3), (9, 4), (9, 5)] \n",
            "\n",
            "árvore tree: \n",
            " [[5. 3.]\n",
            " [5. 4.]\n",
            " [5. 5.]\n",
            " [6. 3.]\n",
            " [6. 4.]\n",
            " [6. 5.]\n",
            " [7. 3.]\n",
            " [7. 4.]\n",
            " [7. 5.]\n",
            " [8. 3.]\n",
            " [8. 4.]\n",
            " [8. 5.]\n",
            " [9. 3.]\n",
            " [9. 4.]\n",
            " [9. 5.]]\n"
          ]
        }
      ]
    },
    {
      "cell_type": "markdown",
      "source": [],
      "metadata": {
        "id": "0Nzb9aZL7vIG"
      }
    },
    {
      "metadata": {
        "id": "BrluavvIOyuE"
      },
      "cell_type": "markdown",
      "source": [
        "###Árvore com três:"
      ]
    },
    {
      "metadata": {
        "id": "8-_mTM6IOz_V"
      },
      "cell_type": "code",
      "source": [
        "x,y,z = np.mgrid[2:5,3:6,1:5]\n",
        "#print('x: \\n %s \\n y: \\n %s \\n z: \\n %s' % (x,y,z))\n",
        "\n",
        "pontos = list(zip(x.ravel(), y.ravel(), z.ravel()))\n",
        "print('os pontos da árvre maokai: \\n %s \\n' % (pontos))\n",
        "maokai = spatial.KDTree(pontos)\n",
        "\n",
        "#print('árvore maokai: \\n %s' % (maokai.data)) #pode usar esse tbm\n",
        "\n",
        "#imprime pontos com os ids\n",
        "i = 0\n",
        "for val in pontos:\n",
        "    print(i,\" (\",val[0],\",\",val[1],\",\",val[2],\")\")\n",
        "    i = i+1\n",
        "#segue o mesmo raciocinio para uma arvorede k-dimencional :)"
      ],
      "execution_count": null,
      "outputs": []
    },
    {
      "metadata": {
        "id": "CQJETuYzOkus"
      },
      "cell_type": "markdown",
      "source": [
        "###Funções usadas\n",
        "\n",
        "**np.mgrid**\n",
        "\n",
        "    § Função que cria uma \"malha\" de números a partir do range informado quando chamada, onde a primeira \"malha\" de números terá suas linhas com números iguais e a segunda com as colunas com números iguais. Essa função é muito usada em Ciência de Dados, para montar datasets espaciais e no tempo.\n",
        "\n",
        "**.ravel()**\n",
        "   \n",
        "    § A função ravel tem o objetivo de pegar os números obitidos pela \"malha\" (np.mgrid) e \"desfia-los\" e \"trasforma-lo num array\".\n",
        "    Essa função é muito útil em Redes Neurais - Deep Learning.\n",
        "\n",
        "**zip()**\n",
        "   \n",
        "    § No código ele irá junta um valor do x.ravel com um valor do y.ravel para formar pontos. Também muito útil para processar dados de forma simultânea.\n",
        "\n",
        "**list()**\n",
        "   \n",
        "     § Faz uma lista com todos os pontos obtidos após a função zip."
      ]
    },
    {
      "metadata": {
        "id": "9LM-vKkuBkpD"
      },
      "cell_type": "markdown",
      "source": [
        "#Algumas funcionalidades"
      ]
    },
    {
      "metadata": {
        "id": "7GrA1m3rB7v6"
      },
      "cell_type": "markdown",
      "source": [
        "    Query = consulta ou busca.\n",
        "    \n",
        "    query_ball_point(ponto, raio)-> encontra o(s) ponto(s) que estão no raio. Retorna ao(s) id(s).\n",
        "\n",
        "    query([ponto(s)]) -> consulta os vizinhos mais próximos. Retorna a (distancia(s), id(s) do(s) ponto(s)).\n",
        "\n",
        "\n"
      ]
    },
    {
      "metadata": {
        "id": "pQpcB0ZCEk_e"
      },
      "cell_type": "markdown",
      "source": [
        "###Demonstrações:"
      ]
    },
    {
      "metadata": {
        "id": "IBxmCa87SsDk"
      },
      "cell_type": "markdown",
      "source": [
        "**Query_ball_point: **"
      ]
    },
    {
      "metadata": {
        "id": "9WVo9C-9Mnli"
      },
      "cell_type": "code",
      "source": [
        "import numpy as np\n",
        "from scipy import spatial\n",
        "\n",
        "y,x = np.mgrid[0:5,2:8]\n",
        "pontos = list(zip(x.ravel(), y.ravel()))\n",
        "cruz = spatial.KDTree(pontos)\n",
        "#print('árvore: \\n %s ' % (cruz.data))\n",
        "i = 0\n",
        "print(\"árvore cruz:\")\n",
        "for val in pontos:\n",
        "    print(i,\" (\",val[0],\",\",val[1],\")\")\n",
        "    i = i+1\n",
        "\n",
        "print('ids dos pontos vizinhos: \\n %s' % (cruz.query_ball_point([2,0],1)))\n",
        "\n",
        "# o gráfico com o resultado do query_ball_point\n",
        "listPoint = vore.query_ball_point([2,0],1)\n",
        "\n",
        "x=[]\n",
        "y=[]\n",
        "for ids in listPoint :\n",
        "  x.append(vore.data[ids][0])\n",
        "  y.append(vore.data[ids][1])\n",
        "\n",
        "plt.plot( x,y, 'o', color='#ff00ff')\n",
        "plt.title(\"Grafico Query ball point\")\n",
        "\n",
        "plt.grid(True)\n",
        "plt.xlabel(\"X\")\n",
        "plt.ylabel(\"Y\")\n",
        "print(\"Grafico de Query_ball_point do ponto [2,0]e distancia 1:\\n\")\n",
        "plt.show()"
      ],
      "execution_count": null,
      "outputs": []
    },
    {
      "metadata": {
        "id": "wojU65FhTUvW"
      },
      "cell_type": "markdown",
      "source": [
        "**Query:**"
      ]
    },
    {
      "metadata": {
        "id": "r7VxNlZEM_Lo"
      },
      "cell_type": "code",
      "source": [
        "import numpy as np\n",
        "from scipy import spatial\n",
        "import matplotlib.pyplot as plt\n",
        "\n",
        "y,x = np.mgrid[0:5,1:8]\n",
        "pontos = list(zip(x.ravel(), y.ravel()))\n",
        "arbol = spatial.KDTree(pontos)\n",
        "\n",
        "\n",
        "print(arbol.query([0,1]))\n",
        "\n",
        "#para mostrar os ids e os pontos\n",
        "i = 0\n",
        "for val in pontos:\n",
        "    print(i,\" (\",val[0],\",\",val[1],\")\")\n",
        "    i = i+1\n",
        "\n",
        "#grafico\n",
        "plt.plot( z,w, 'o', color='#ff00ff') # green bolinha4\n",
        "plt.title(\"Grafico Query\")\n",
        "\n",
        "plt.grid(True)\n",
        "plt.xlabel(\"X\")\n",
        "plt.ylabel(\"Y\")\n",
        "plt.show()\n"
      ],
      "execution_count": null,
      "outputs": []
    },
    {
      "metadata": {
        "id": "6QtSP9wL67Q4"
      },
      "cell_type": "markdown",
      "source": [
        "# Práticas"
      ]
    },
    {
      "metadata": {
        "id": "FVUE9QLVCBzO"
      },
      "cell_type": "markdown",
      "source": [
        ">1.Aproveitando a árvore criada anteriormente, determine os pontos com raio de no máximo 2 do ponto [2, 4], para isso utilize o query_ball_point para os índices e o .data para mostrar os pontos.\n",
        "\n",
        "\n",
        "\n"
      ]
    },
    {
      "metadata": {
        "id": "VnYZB98yCxQc"
      },
      "cell_type": "code",
      "source": [
        "ejjiej"
      ],
      "execution_count": null,
      "outputs": []
    },
    {
      "metadata": {
        "id": "r_C6SUx2Cx9W"
      },
      "cell_type": "markdown",
      "source": [
        "2. Utilizando a função query, me indique o ponto mais próximo de [3, 7] e sua distância até esse ponto."
      ]
    },
    {
      "metadata": {
        "id": "p5gdAOiJDTNu"
      },
      "cell_type": "code",
      "source": [],
      "execution_count": null,
      "outputs": []
    },
    {
      "metadata": {
        "id": "J03koMpKDXCV"
      },
      "cell_type": "markdown",
      "source": [
        "3. Encontre os pontos mais próximos do ponto [5, 2] de raio 3."
      ]
    },
    {
      "metadata": {
        "id": "9uVGSn3VDlRd"
      },
      "cell_type": "code",
      "source": [],
      "execution_count": null,
      "outputs": []
    },
    {
      "metadata": {
        "id": "VXcethYvid0q"
      },
      "cell_type": "markdown",
      "source": [
        "*Dica : (nome da arvore).(função)*"
      ]
    },
    {
      "metadata": {
        "id": "BUVcX44gmss4"
      },
      "cell_type": "markdown",
      "source": [
        "#Exercícios avançados"
      ]
    },
    {
      "metadata": {
        "id": "RmbVw-Ea7nY6"
      },
      "cell_type": "markdown",
      "source": [
        "01. Após observar no mapa de seu bairro, joãozinho percebe que os locais das casas de seus amigos podem ser representados por uma árvore de duas dimensões com linhas e colunas variando de 0:5. Crie para joãozinho uma árvore com essas características mostrando seus pontos e o gráfico formado."
      ]
    },
    {
      "metadata": {
        "id": "LRs-ZBqV8GsG"
      },
      "cell_type": "code",
      "source": [],
      "execution_count": null,
      "outputs": []
    },
    {
      "metadata": {
        "id": "lFJQ8XQm8H21"
      },
      "cell_type": "markdown",
      "source": [
        "02. Apos visualizar o gráfico, joãozinho percebe que sua casa esta localizada no ponto de índice 4. Animado pela sua descoberta, ele decide visitar seu amigos mais próximos (com distância de 1). Mostre para joãozinho as opções de pontos que ele tem com essa distância."
      ]
    },
    {
      "metadata": {
        "id": "ioT0glrg8mYW"
      },
      "cell_type": "code",
      "source": [],
      "execution_count": null,
      "outputs": []
    },
    {
      "metadata": {
        "id": "sqDQ4XJg8nFb"
      },
      "cell_type": "markdown",
      "source": [
        "3. Joãozinho e amigos querem ir para uma festa e planejam voltar todos para casa mais próxima para dormir. Para saber qual a melhor casa, joãozinho percebe que mapeando a cidade a festa se localizaria no ponto [16,9]. Determine para ele, qual as melhores casas e a distância dela para a festa."
      ]
    },
    {
      "metadata": {
        "id": "L9hLwIS686I_"
      },
      "cell_type": "code",
      "source": [],
      "execution_count": null,
      "outputs": []
    },
    {
      "metadata": {
        "id": "1YGF8Cz-N91B"
      },
      "cell_type": "markdown",
      "source": [
        "4. Joãozinho, malandramente, percebe que as casas com índices impares são de amigos que moram no primeiro andar. Para isso joãozinho decide criar uma árvore com 3 dimensões seguindo os mesmo parâmetros da anterior, só que para as casas pares denomina o eixo z = 0 e para as impares (primeiro andar) z = 1. Crie essa árvore de 3 dimensões para joãozinho."
      ]
    },
    {
      "metadata": {
        "id": "i_nrMLqqA_0F"
      },
      "cell_type": "code",
      "source": [],
      "execution_count": null,
      "outputs": []
    }
  ]
}