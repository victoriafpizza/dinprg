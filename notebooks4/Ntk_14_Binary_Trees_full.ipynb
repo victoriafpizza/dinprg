{
  "cells": [
    {
      "cell_type": "markdown",
      "metadata": {
        "id": "j_jNw4P8XmXr"
      },
      "source": [
        "# Binary_Trees = Árvores_Binárias\n",
        "\n",
        "\n",
        "#### Este notebook descreve a construção de árvore binária.\n",
        "#### Ele mostra como se pode caminhar em uma árvore binária, pela ordem dos nós. Pode ser da raiz para o final, ou o contrário.\n",
        "#### Além disso, podemos caminhar entre os nós que estão no mesmo grau (horizontal)."
      ]
    },
    {
      "cell_type": "markdown",
      "metadata": {
        "id": "nSKoqm0uXmXv"
      },
      "source": [
        "## Introduction\n",
        "\n",
        "A binary tree is a tree with 2 degrees: left and right (sides).\n",
        "The knot (nó) may have two possibilities then: right or left.\n",
        "It may also have just one knot.\n",
        "If there is no longer a subsequent knot, then the tree is done."
      ]
    },
    {
      "cell_type": "markdown",
      "metadata": {
        "id": "IuoSOE5QXmXx"
      },
      "source": [
        "Binary trees may have different structures or logic. The simplest is the binary, where the lowest value goes to the left."
      ]
    },
    {
      "cell_type": "markdown",
      "metadata": {
        "id": "QyRJJjOwXmXx"
      },
      "source": [
        "#### Let´s work, step on it. Start with the knot definition.\n"
      ]
    },
    {
      "cell_type": "code",
      "execution_count": 2,
      "metadata": {
        "id": "n2gE74ZMXmXy"
      },
      "outputs": [],
      "source": [
        "class Knot:\n",
        "    def __init__(self,val):\n",
        "        self.label = val\n",
        "        self.left = None\n",
        "        self.right = None\n",
        "\n",
        "    def __str__(self):\n",
        "        return \"{}\".format(self.label)"
      ]
    },
    {
      "cell_type": "markdown",
      "metadata": {
        "id": "WRgEZ7S8XmXz"
      },
      "source": [
        "A binary tree has no more than two branches from a knot.\n",
        "A binary tree drawn by hand shall look like:"
      ]
    },
    {
      "cell_type": "code",
      "execution_count": 3,
      "metadata": {
        "id": "MR0NZInWXmX0"
      },
      "outputs": [],
      "source": [
        "root  = a = Knot('A'); a.left = b = Knot('B')\n",
        "a.right = c = Knot('C'); b.left = d = Knot('D')\n",
        "b.right = e = Knot('E'); c.left = f = Knot('F')"
      ]
    },
    {
      "cell_type": "markdown",
      "metadata": {
        "id": "PZoWcXJsh7qg"
      },
      "source": [
        "The root is 'A', which is followed by two possibilities: 'B' and 'C'.\n",
        "'B' has two possibilities: 'D' and 'E'. Etc...\n",
        "'C' has only one after knot, the other possible knot does not exist."
      ]
    },
    {
      "cell_type": "markdown",
      "metadata": {
        "id": "GWX1HhZ0XmX1"
      },
      "source": [
        "Absent knots have the label =  ⌀."
      ]
    },
    {
      "cell_type": "markdown",
      "metadata": {
        "id": "8QUCscorXmX2"
      },
      "source": [
        "Full binary tree build-up. Check the recursion application."
      ]
    },
    {
      "cell_type": "code",
      "execution_count": 4,
      "metadata": {
        "id": "IiZYCKk5XmX3"
      },
      "outputs": [],
      "source": [
        "def build_full(R,degree):\n",
        "  # degree = grau. It deals with the size/dimension of the binary tree\n",
        "    if R:\n",
        "        print('\\t'*degree,R) # to draw the binary tree, with characters and spaces.\n",
        "        for r in ( R.left, R.right):\n",
        "            build_full(r,degree+1)\n",
        "    else:\n",
        "        print('\\t'*degree,\"-\")"
      ]
    },
    {
      "cell_type": "code",
      "execution_count": 5,
      "metadata": {
        "colab": {
          "base_uri": "https://localhost:8080/"
        },
        "id": "WOVksqT5XmX3",
        "outputId": "5d484fac-d3e9-4864-d9e2-df3e6f6c1b80"
      },
      "outputs": [
        {
          "name": "stdout",
          "output_type": "stream",
          "text": [
            " A\n",
            "\t B\n",
            "\t\t D\n",
            "\t\t\t -\n",
            "\t\t\t -\n",
            "\t\t E\n",
            "\t\t\t -\n",
            "\t\t\t -\n",
            "\t C\n",
            "\t\t F\n",
            "\t\t\t -\n",
            "\t\t\t -\n",
            "\t\t -\n"
          ]
        }
      ],
      "source": [
        "build_full(root,0)"
      ]
    },
    {
      "cell_type": "markdown",
      "metadata": {
        "id": "iDzLXQnEFsjW"
      },
      "source": [
        "#### Now, a simple way to draw the binary tree above, smaller.\n",
        "#### Check again the recursion application."
      ]
    },
    {
      "cell_type": "code",
      "execution_count": 6,
      "metadata": {
        "id": "Upkd08sEXmX4"
      },
      "outputs": [],
      "source": [
        "def build_simple(R,degree):\n",
        "    if R:\n",
        "        print('\\t'*degree,R)\n",
        "        if R.left or R.right:\n",
        "            for r in ( R.left, R.right):\n",
        "                build_simple(r,degree+1)\n",
        "    else:\n",
        "        print('\\t'*degree,\"-\")"
      ]
    },
    {
      "cell_type": "code",
      "execution_count": 7,
      "metadata": {
        "colab": {
          "base_uri": "https://localhost:8080/"
        },
        "id": "7TkNA0r_XmX4",
        "outputId": "42a753d5-8fb3-4021-aa1c-b775555b3d68"
      },
      "outputs": [
        {
          "name": "stdout",
          "output_type": "stream",
          "text": [
            " A\n",
            "\t B\n",
            "\t\t D\n",
            "\t\t E\n",
            "\t C\n",
            "\t\t F\n",
            "\t\t -\n"
          ]
        }
      ],
      "source": [
        "build_simple(root,0) # short binary tree = smaller tree."
      ]
    },
    {
      "cell_type": "markdown",
      "metadata": {
        "id": "enN5qYlbXmX4"
      },
      "source": [
        "# Walk through in depth (vertical way)\n",
        "\n",
        "Definition of 3 ways of walk: 'before', 'between', 'after', with recursive function. It has a link with the go through the binary tree, from the root till the end of the tree, or following a specific order."
      ]
    },
    {
      "cell_type": "code",
      "execution_count": 8,
      "metadata": {
        "id": "YjS_u_spXmX5"
      },
      "outputs": [],
      "source": [
        "def walk_before_order(R,fn): # R = root, fn = function\n",
        "    if R:\n",
        "        fn(R) # fn is a function operating with the root 'R'\n",
        "        walk_before_order(R.left) # first take all the elements on the left\n",
        "        walk_before_order(R.right) # after that, take the elements on the right.\n",
        "\n",
        "def walk_symetric(R,fn):\n",
        "    if R:\n",
        "        walk_symetric(R.left)\n",
        "        fn(R) # it deals with the root Knot\n",
        "        walk_symetric(R.right)\n",
        "\n",
        "def walk_after_order(R,fn):\n",
        "    if R:\n",
        "        walk_after_order(R.left)\n",
        "        walk_after_order(R.right)\n",
        "        fn(R)"
      ]
    },
    {
      "cell_type": "markdown",
      "metadata": {
        "id": "jrjFwncXXmX5"
      },
      "source": [
        "Another way  means to define a sole function with 3 input parameters, for the vertical walk through."
      ]
    },
    {
      "cell_type": "code",
      "execution_count": 9,
      "metadata": {
        "id": "Fffn72ztXmX5"
      },
      "outputs": [],
      "source": [
        "def walk_vertical(R,pre,sym,post):\n",
        "    if R:\n",
        "        pre(R)\n",
        "        walk_vertical(R.left,pre,sym,post)\n",
        "        sym(R)\n",
        "        walk_vertical(R.right,pre,sym,post)\n",
        "        post(R)"
      ]
    },
    {
      "cell_type": "markdown",
      "metadata": {
        "id": "X43Qqz0DXmX6"
      },
      "source": [
        "The walk throughs before order, symetric and after order follow:"
      ]
    },
    {
      "cell_type": "code",
      "execution_count": 22,
      "metadata": {
        "id": "Z0uQPHhZXmX6"
      },
      "outputs": [],
      "source": [
        "def no_op(R): pass\n",
        "\n",
        "def walk_before_order(R,fn):\n",
        "    walk_vertical(R,fn,no_op,no_op)\n",
        "\n",
        "def walk_symetric(R,fn):\n",
        "    walk_vertical(R,no_op,fn,no_op)\n",
        "\n",
        "def walk_after_order(R,fn):\n",
        "    walk_vertical(R,no_op,no_op,fn)"
      ]
    },
    {
      "cell_type": "code",
      "execution_count": 23,
      "metadata": {
        "colab": {
          "base_uri": "https://localhost:8080/"
        },
        "id": "FYrg0UnwXmX7",
        "outputId": "06c80028-1f8a-4fd0-8458-dc7cfea7a3b2"
      },
      "outputs": [
        {
          "name": "stdout",
          "output_type": "stream",
          "text": [
            "A B D E C F "
          ]
        }
      ],
      "source": [
        "def Knot_fix(R): print(R,end = \" \")\n",
        "walk_before_order(root, Knot_fix)"
      ]
    },
    {
      "cell_type": "markdown",
      "metadata": {
        "id": "wHOaQ6PuIBpP"
      },
      "source": [
        "#### The sequence above followed the order defined previously.\n",
        "#### The next order goes backwards, following the same logic: first left and then right."
      ]
    },
    {
      "cell_type": "code",
      "execution_count": 24,
      "metadata": {
        "colab": {
          "base_uri": "https://localhost:8080/"
        },
        "id": "vtS00J1jXmX8",
        "outputId": "81106016-a7a1-4c2f-9f75-26742b2b2748"
      },
      "outputs": [
        {
          "name": "stdout",
          "output_type": "stream",
          "text": [
            "D B E A F C "
          ]
        }
      ],
      "source": [
        "walk_symetric(root, Knot_fix)"
      ]
    },
    {
      "cell_type": "markdown",
      "metadata": {
        "id": "yxOZFxZoImXd"
      },
      "source": [
        "#### Check it starts on the left, then right till the root. It continues till the basic root."
      ]
    },
    {
      "cell_type": "markdown",
      "metadata": {
        "id": "aY5Nz58sJI89"
      },
      "source": [
        "#### In this other way, it starts in the final knots and reaches the basic root in the end. It seems to be the logic to be followed (backwards)."
      ]
    },
    {
      "cell_type": "code",
      "execution_count": 18,
      "metadata": {
        "colab": {
          "base_uri": "https://localhost:8080/"
        },
        "id": "eWy79hYpXmX8",
        "outputId": "bea527f2-09f8-4b2e-d83c-24ff96a95800"
      },
      "outputs": [
        {
          "name": "stdout",
          "output_type": "stream",
          "text": [
            "D E B F C A "
          ]
        }
      ],
      "source": [
        "walk_after_order(root, Knot_fix)"
      ]
    },
    {
      "cell_type": "markdown",
      "metadata": {
        "id": "fYk01cR0XmX8"
      },
      "source": [
        "## Walk_through horizontal (lateral)\n",
        "#### in this way, the knots are seen horizontally, at each degree of the binary tree."
      ]
    },
    {
      "cell_type": "code",
      "execution_count": 19,
      "metadata": {
        "id": "_T51mXp9XmX9"
      },
      "outputs": [],
      "source": [
        "from queue import Queue # what does this function?\n",
        "\n",
        "def walk_horizontal(R):\n",
        "    Q = Queue()\n",
        "    Q.put(R)\n",
        "    while not Q.empty():\n",
        "        n = Q.get()\n",
        "        if n:\n",
        "            print(n, end=\" \")\n",
        "            Q.put(n.left)\n",
        "            Q.put(n.right)"
      ]
    },
    {
      "cell_type": "code",
      "execution_count": 21,
      "metadata": {
        "colab": {
          "base_uri": "https://localhost:8080/"
        },
        "id": "xXA4OliCXmX9",
        "outputId": "cf333d30-a61e-41d1-bae2-7972cfb68685"
      },
      "outputs": [
        {
          "name": "stdout",
          "output_type": "stream",
          "text": [
            "A B C D E F "
          ]
        }
      ],
      "source": [
        "walk_horizontal(root)"
      ]
    }
  ],
  "metadata": {
    "celltoolbar": "Slideshow",
    "colab": {
      "provenance": []
    },
    "kernelspec": {
      "display_name": "Python 3",
      "language": "python",
      "name": "python3"
    },
    "language_info": {
      "codemirror_mode": {
        "name": "ipython",
        "version": 3
      },
      "file_extension": ".py",
      "mimetype": "text/x-python",
      "name": "python",
      "nbconvert_exporter": "python",
      "pygments_lexer": "ipython3",
      "version": "3.6.5"
    }
  },
  "nbformat": 4,
  "nbformat_minor": 0
}
