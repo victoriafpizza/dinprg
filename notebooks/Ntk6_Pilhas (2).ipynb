{
 "cells": [
  {
   "cell_type": "markdown",
   "metadata": {
    "id": "2WrGReSHNepQ"
   },
   "source": [
    "## Pilhas: conceitos iniciais"
   ]
  },
  {
   "cell_type": "markdown",
   "metadata": {
    "id": "z2JdSK3GJY00"
   },
   "source": [
    "Uma **pilha** é um tipo de dado abstrato muito utilizado em computação, principalmente no gerenciamento de memórias de computadores, sendo análogo a pilhas de objetos no mundo real. Uma pilha de cartas, onde uma nova carta adicionada é **sempre adicionada ao topo da pilha**, e qualquer carta que venha a ser retirada é **sempre retirada do topo da pilha**.\n",
    "\n",
    "Pensando em uma pilha vertical, aproxima-se assim de lista dinâmica em que as** operações são realizadas sempre no topo** (na mesma extremidade). Assim, temos algo como **último elemento inserido é o primeiro a ser removido**. Essa estrutura também é conhecida como** LIFO**, do inglês last-in first-out. \n",
    "\n",
    "Há outros tipos como FIFO = first in e possíveis combinações a serem vistas depois.\n",
    "\n",
    "Observação TAD = Tipo Abstrato de Dados."
   ]
  },
  {
   "cell_type": "markdown",
   "metadata": {
    "id": "iF3ODX8eFEDt"
   },
   "source": [
    "## Pilhas em Python\n"
   ]
  },
  {
   "cell_type": "markdown",
   "metadata": {
    "id": "S954EGRXGIbW"
   },
   "source": [
    "#### Pilhas Usando listas"
   ]
  },
  {
   "cell_type": "markdown",
   "metadata": {
    "id": "iGD5XQYLl_zA"
   },
   "source": [
    "\n",
    "Na linguagem Python, implementa-se uma pilha usando uma lista, pois essa estrutura de dados nos oferece métodos diversos, tais como:\n",
    "\n",
    "* list.**append(x)** : adicina um item no final da lista, onde x = item a ser adicionado.\n",
    "* list.**pop()**: remove um item do final da lista.\n",
    "* list**[-1]**: acessa o item que esta no final da lista(topo da pilha).\n",
    "* **len(lista)**: retorna o tamanho atual da lista."
   ]
  },
  {
   "cell_type": "markdown",
   "metadata": {
    "id": "jtAHjoXyJeIq"
   },
   "source": [
    "Criando e adicionando itens a pilha."
   ]
  },
  {
   "cell_type": "code",
   "execution_count": null,
   "metadata": {
    "colab": {
     "base_uri": "https://localhost:8080/",
     "height": 34
    },
    "id": "vRZHq3GTGmPh",
    "outputId": "4c10e549-4e51-46f6-9905-5fb0ed177ee7"
   },
   "outputs": [
    {
     "name": "stdout",
     "output_type": "stream",
     "text": [
      "[1, 2]\n"
     ]
    }
   ],
   "source": [
    "pilha = [] #criando uma lista/pilha vazia.\n",
    "pilha.append(1) #adiciona um item no final da lista/topo da pilha\n",
    "pilha.append(2) #adiciona um item no final da lista/topo da pilha\n",
    "print(pilha)"
   ]
  },
  {
   "cell_type": "markdown",
   "metadata": {
    "id": "qsAYb1rpJlA1"
   },
   "source": [
    "Removendo itens do topo da pilha -- usar o conceito de índice, ou indicador de posição na fila."
   ]
  },
  {
   "cell_type": "code",
   "execution_count": null,
   "metadata": {
    "colab": {
     "base_uri": "https://localhost:8080/",
     "height": 51
    },
    "id": "vTi4vXoZJr9L",
    "outputId": "bdc37390-8714-4b3a-c584-e61e6a318842"
   },
   "outputs": [
    {
     "name": "stdout",
     "output_type": "stream",
     "text": [
      "Pilha antes da remoção:  [1, 2]\n",
      "Pilha depois da remoção:  [1]\n"
     ]
    }
   ],
   "source": [
    "print(\"Pilha antes da remoção: \", pilha)\n",
    "pilha.pop() #removendo item do topo da pilha\n",
    "print(\"Pilha depois da remoção: \", pilha)"
   ]
  },
  {
   "cell_type": "markdown",
   "metadata": {
    "id": "1Kuxen25KfF7"
   },
   "source": [
    "Acessando o item que esta no topo da pilha."
   ]
  },
  {
   "cell_type": "code",
   "execution_count": null,
   "metadata": {
    "colab": {
     "base_uri": "https://localhost:8080/",
     "height": 34
    },
    "id": "Phfee2J7KmH6",
    "outputId": "5f5bf730-8920-441b-9591-e8b0740c283d"
   },
   "outputs": [
    {
     "name": "stdout",
     "output_type": "stream",
     "text": [
      "3\n"
     ]
    }
   ],
   "source": [
    "pilha.append(3)\n",
    "print(pilha[-1])#Acessando o item do topo da pilha"
   ]
  },
  {
   "cell_type": "markdown",
   "metadata": {
    "id": "5LbB9fazKwg9"
   },
   "source": [
    "Verificando o tamanho da pilha."
   ]
  },
  {
   "cell_type": "code",
   "execution_count": null,
   "metadata": {
    "colab": {
     "base_uri": "https://localhost:8080/",
     "height": 34
    },
    "id": "5-rUaLCiK3Pk",
    "outputId": "6b2b32f7-039b-4645-a37b-078d0bd16bd6"
   },
   "outputs": [
    {
     "name": "stdout",
     "output_type": "stream",
     "text": [
      "2\n"
     ]
    }
   ],
   "source": [
    "print(len(pilha)) # lembre-se length = extensão ou comprimento linear, ou \"len\""
   ]
  },
  {
   "cell_type": "markdown",
   "metadata": {
    "id": "QLGwGbgwK-eq"
   },
   "source": [
    "**Dica**: Sempre é bom verificar o tamanho da pilha antes de remover um item dela. Outra dica: verificar se a pilha não está vazia, antes de qualquer coisa."
   ]
  },
  {
   "cell_type": "markdown",
   "metadata": {
    "id": "pOknPfvEZfpo"
   },
   "source": [
    "###Exercicios de Fixação"
   ]
  },
  {
   "cell_type": "markdown",
   "metadata": {
    "id": "yOT_8YXuPQtC"
   },
   "source": [
    "1 - Elabore \"Python script\" e as TADs necessárias, sem usar pilha, que simule uma\n",
    "sequência de operações Empilha (push) e Desempilha (pop), e determine se está\n",
    "ocorrendo um underflow (tentativa de Desempilhar em uma pilha vazia), ou não, em\n",
    "alguma operação Desempilha."
   ]
  },
  {
   "cell_type": "code",
   "execution_count": null,
   "metadata": {
    "id": "J4BPWz_4ZqMd"
   },
   "outputs": [],
   "source": []
  },
  {
   "cell_type": "markdown",
   "metadata": {
    "id": "EdT02YrLmw57"
   },
   "source": [
    "2 - Utilizando os métodos append() e pop() de listas, escreva uma função bem_formada() que recebe um string \"s\", ou outro qualquer, contendo apenas os caracteres **(,**  **)**, **[**,  **]**,  devolve \"True\", caso a expressão estiver bem formada e \"False\", caso contrário."
   ]
  },
  {
   "cell_type": "code",
   "execution_count": null,
   "metadata": {
    "id": "GZAOHDcLZq09"
   },
   "outputs": [],
   "source": []
  },
  {
   "cell_type": "markdown",
   "metadata": {
    "id": "sE9BVulIGa5p"
   },
   "source": [
    "### Usando Queue.py"
   ]
  },
  {
   "cell_type": "markdown",
   "metadata": {
    "id": "byXUiit_Ga4H"
   },
   "source": [
    "Dica = ao usar um método, a primeira palavra é um label sobre onde devemos operar.\n",
    "Queue = pilha."
   ]
  },
  {
   "cell_type": "markdown",
   "metadata": {
    "id": "85A7w1isnrHc"
   },
   "source": [
    "Uma maneira mais segura de implementar uma pilha é usando a classe  queue.LifoQueue da library queue.py. Usamos os seguintes metodos na manipilação e verificação de pilhas.\n",
    "\n",
    "* **Queue.qsize()**: retorna o tamanho da pilha.\n",
    "* **Queue.empty()**: retorna True(verdadeiro) se a pilha estiver vazia, False(falso) caso contrario.\n",
    "* **Queue.full()**: returna True(verdadeiro) se a pilha estiver cheia, False(falso) caso contrario.\n",
    "* **Queue.put(item)**: coloca um item na pilha(topo).\n",
    "* **Queue.get()**: remove e retorna o item que esta no topo da pilha.\n",
    "\n",
    "Onde, Queue = nome da pilha, a ser usado de acordo com a situação. "
   ]
  },
  {
   "cell_type": "markdown",
   "metadata": {
    "id": "mNpFsAhgquTZ"
   },
   "source": [
    "No código abaixo criamos uma variavel do tipo queue.LifoQueue."
   ]
  },
  {
   "cell_type": "code",
   "execution_count": null,
   "metadata": {
    "id": "0F6D0TFGq-ij"
   },
   "outputs": [],
   "source": [
    "from queue import LifoQueue\n",
    "pilha = LifoQueue() # variável agora associada a operações de \"LifoQueue\""
   ]
  },
  {
   "cell_type": "markdown",
   "metadata": {
    "id": "SlpVetlsroGP"
   },
   "source": [
    "Verificando se a pilha esta vazia."
   ]
  },
  {
   "cell_type": "code",
   "execution_count": null,
   "metadata": {
    "colab": {
     "base_uri": "https://localhost:8080/",
     "height": 34
    },
    "id": "DKeyjoyMr0K0",
    "outputId": "fd403779-1142-464c-8da9-c9dd817e737f"
   },
   "outputs": [
    {
     "name": "stdout",
     "output_type": "stream",
     "text": [
      "True\n"
     ]
    }
   ],
   "source": [
    "print(pilha.empty()) # requer apenas opção binária: True or False."
   ]
  },
  {
   "cell_type": "markdown",
   "metadata": {
    "id": "WmLlS_-RsAA0"
   },
   "source": [
    "Adicionado um item ao topo da pilha."
   ]
  },
  {
   "cell_type": "code",
   "execution_count": null,
   "metadata": {
    "id": "iJRCftG_sEgH"
   },
   "outputs": [],
   "source": [
    "pilha.put(\"teste\") # \"put\" é um método."
   ]
  },
  {
   "cell_type": "markdown",
   "metadata": {
    "id": "MEOr9rH8spgY"
   },
   "source": [
    "Confirmaremos se a pilha esta vazia, depois o usar o metodo get para remover e retornar o item que esta no topo da pilha, confirmando se ela esta vazia novamente."
   ]
  },
  {
   "cell_type": "code",
   "execution_count": null,
   "metadata": {
    "colab": {
     "base_uri": "https://localhost:8080/",
     "height": 68
    },
    "id": "XNq-29ICs6QQ",
    "outputId": "9938be82-2d30-4f03-deeb-531509e69488"
   },
   "outputs": [
    {
     "name": "stdout",
     "output_type": "stream",
     "text": [
      "False\n",
      "teste\n",
      "True\n"
     ]
    }
   ],
   "source": [
    "print(pilha.empty())\n",
    "print(pilha.get())\n",
    "print(pilha.empty())"
   ]
  },
  {
   "cell_type": "markdown",
   "metadata": {
    "id": "9p9I8NtPudLy"
   },
   "source": [
    "**OBS**: não utilize o metodo **get** em uma pilha vazia."
   ]
  },
  {
   "cell_type": "markdown",
   "metadata": {
    "id": "WLFrNphluwqq"
   },
   "source": [
    "Por fim, adicionamos itens a pilha e verificamos o seu tamanho a cada adição."
   ]
  },
  {
   "cell_type": "code",
   "execution_count": null,
   "metadata": {
    "colab": {
     "base_uri": "https://localhost:8080/",
     "height": 68
    },
    "id": "IDVKpFAvu8De",
    "outputId": "cad30672-df52-44ca-f18d-ce9d2ffc324f"
   },
   "outputs": [
    {
     "name": "stdout",
     "output_type": "stream",
     "text": [
      "1\n",
      "2\n",
      "3\n"
     ]
    }
   ],
   "source": [
    "pilha.put(\"teste1\")\n",
    "print(pilha.qsize())\n",
    "pilha.put(\"teste2\")\n",
    "print(pilha.qsize())\n",
    "pilha.put(\"teste3\")\n",
    "print(pilha.qsize())"
   ]
  },
  {
   "cell_type": "markdown",
   "metadata": {
    "id": "QG_Asqm4Iojs"
   },
   "source": [
    "### Exercicios de Fixação"
   ]
  },
  {
   "cell_type": "markdown",
   "metadata": {
    "id": "d9uh5po7KWS7"
   },
   "source": [
    "1 - Crie uma função que receba um número \"n\" e armazene todos os resultados da operação fatorial, de 1 até n, em um pilha, usando a classe queue.LifoQueue.\n",
    "\n",
    "Exemplo:\n",
    "* Valor de n: 4\n",
    "* Valores armazendos: 1! , 2! , 3! , 4!\n",
    "\n",
    "**Sugestão:** Usar o Queue.get() e imprimir os valores"
   ]
  },
  {
   "cell_type": "code",
   "execution_count": null,
   "metadata": {
    "id": "RMa7MTrNJQGn"
   },
   "outputs": [],
   "source": []
  },
  {
   "cell_type": "markdown",
   "metadata": {
    "id": "jakEF9ztMl3Z"
   },
   "source": [
    "2 - Use as operações/funções Empilha (push), Desempilha (pop) e Vazia (Empty) para construir operações que façam o seguinte:\n",
    "\n",
    "* Dado um inteiro \"n\", definir o item i como o n-ésimo elemento a partir do topo da pilha, deixando a pilha sem seus \"n\" elementos superiores (obs: no final, o item i será o topo da pilha).\n",
    "* Dado um inteiro \"n\", definir o item i como o n-ésimo elemento a partir do topo da pilha, deixando a pilha inalterada.\n",
    "* Dado um item \"i\", deixar a pilha somente com o item i."
   ]
  },
  {
   "cell_type": "code",
   "execution_count": null,
   "metadata": {
    "id": "0HqfZcuWPRfT"
   },
   "outputs": [],
   "source": []
  },
  {
   "cell_type": "markdown",
   "metadata": {
    "id": "Atdthd1tjZ1b"
   },
   "source": [
    "## Importância e usos gerais\n",
    "\n",
    "Como as pilhas utilizam bibliotecas de outros tipos de dados abstratos, como as **listas**  e também sua própria biblioteca **lifoQueue()**, dizemos as pilhas servem para \"abstrair\" certos tipos de problemas/soluções em casos reais."
   ]
  },
  {
   "cell_type": "markdown",
   "metadata": {
    "id": "EyCho6tzjZmr"
   },
   "source": [
    "## Chamadas de função\n",
    "Talvez a mais famosa utilização de pilhas em computação esteja no gerenciamento de chamadas de função de um programa. Uma pilha pode ser usada para manter informações sobre as funções de um programa que estejam ativas, aguardando por serem executadas ou terminadas. Neste exemplo:"
   ]
  },
  {
   "cell_type": "code",
   "execution_count": null,
   "metadata": {
    "id": "h20mAuaEklND"
   },
   "outputs": [],
   "source": [
    "def ola(): # note que não se demanda um argumento\n",
    "    print(\"olá, \")\n",
    "    mundo()\n",
    "\n",
    "def mundo():\n",
    "    print(\"mundo!\")\n",
    "\n",
    "def olamundo():\n",
    "    ola() # note que é uma função sendo chamada dentro de uma outra função\n",
    "\n",
    "olamundo()"
   ]
  },
  {
   "cell_type": "markdown",
   "metadata": {
    "id": "0WlZ-DrNk4Vz"
   },
   "source": [
    "Pense em um sequenciamento de tarefas. A primeira função a ser chamada é a olamundo(), que por sua vez chama a função ola(), então a função olamundo() é empilhada, pois seu término depende do término da função ola().\n",
    "\n",
    "Essa, por sua vez, chama a função mundo() e é empilhada, ou colocada em uma sequencia. Assim que a função mundo() termina, a função ola() é desempilhada e sua execução termina, de onde havia parado (chamada à função mundo()).\n",
    "\n",
    "Como não há mais nada a ser executado nessa função, sua execução acaba, e a função olamundo()é desempilhada e sua execução continua, encerrando assim o script."
   ]
  },
  {
   "cell_type": "markdown",
   "metadata": {
    "id": "lySiRm1bl6xb"
   },
   "source": [
    "## Confirmação de parênteses\n",
    "Uma aplicação prática dos scripts é a confirmação da sintaxe, ou se a digitação está coerente com a estrutura da linguagem em uso. Nessa direção, há a verificação do \"balanceamento\" de parênteses. Como saber se os seguintes parênteses estão balanceados, isto é, se para cada abre-parênteses, existe um fecha-parênteses correspondente? Lembre-se que números ímpares de parênteses significam que alguma instrução não foi devida escrita.\n",
    "\n",
    "((( a ))\n",
    "\n",
    "Uma forma bem simples de resolver esse problema é ler a sequência de parênteses, um por um e, a cada abre-parênteses que encontrarmos, vamos empilhá-lo. Nota-se que se procura um número par de parenteses.\n",
    "Quando encontrarmos um fecha-parênteses, devemos desempilhar um abre-parênteses, pois encontramos um fecha-parênteses correspondente a ele.\n",
    "\n",
    "Assim, ao final da avaliação da sequência acima, se ela estiver balanceada corretamente, não restarão elementos na pilha."
   ]
  },
  {
   "cell_type": "markdown",
   "metadata": {
    "id": "PS2DgbYZ_r4R"
   },
   "source": [
    "## Exercícios"
   ]
  },
  {
   "cell_type": "markdown",
   "metadata": {
    "id": "2Z49BLX9AGn-"
   },
   "source": [
    "1 - Utilizando uma pilha, escreva \"Python script\" que recebe um número inteiro positivo e converte para binário puro.\n",
    "\n",
    "Exemplos:\n",
    "\n",
    "5 → 101\n",
    "\n",
    "13 → 1101\n",
    "\n",
    "1 → 1"
   ]
  },
  {
   "cell_type": "markdown",
   "metadata": {
    "id": "EXEeuc0sxgKr"
   },
   "source": [
    "Resolução:"
   ]
  },
  {
   "cell_type": "code",
   "execution_count": null,
   "metadata": {
    "colab": {
     "base_uri": "https://localhost:8080/",
     "height": 51
    },
    "id": "Ui0VbK3BuTMY",
    "outputId": "4ce3a316-67fe-4c0f-807a-94ac51be1924"
   },
   "outputs": [
    {
     "name": "stdout",
     "output_type": "stream",
     "text": [
      "Digite um número inteiro: 13\n",
      "O número 13 em binario: 1101"
     ]
    }
   ],
   "source": [
    "import queue\n",
    "\n",
    "binario = queue.LifoQueue()\n",
    "n = int(input(\"Digite um número inteiro: \"))\n",
    "print(\"O número {} em binario:\".format(n), end=\" \")\n",
    "\n",
    "while n >= 2:\n",
    "  binario.put(n % 2)\n",
    "  n = n // 2 # o que significa esse comando? Qual a sua utilidade?\n",
    "binario.put(1)\n",
    "\n",
    "while not binario.empty():\n",
    "  print(binario.get(), end=\"\")"
   ]
  },
  {
   "cell_type": "markdown",
   "metadata": {
    "id": "bsER7jm7zLdc"
   },
   "source": [
    "2 - Utilizando as operações de manipulação de pilhas vistas em sala, uma pilha auxiliar e\n",
    "uma variável do tipo TipoItem, escreva um procedimento que remove um item com\n",
    "chave \"c\" de uma posição qualquer de uma pilha.\n",
    "\n",
    "Note que não se tem acesso à\n",
    "estrutura interna da pilha (topo, item, etc), apenas às operações de manipulação."
   ]
  },
  {
   "cell_type": "code",
   "execution_count": null,
   "metadata": {
    "id": "CTAYFr7xzLAR"
   },
   "outputs": [],
   "source": []
  },
  {
   "cell_type": "markdown",
   "metadata": {
    "id": "zK7wL76rDBiZ"
   },
   "source": [
    "3 - Considere que um editor de texto representa os caracteres digitados como uma\n",
    "pilha, sendo que o último caracter lido fica no topo. Adicionalmente:\n",
    "\n",
    "* Alguns comandos apagam caracteres. Por exemplo, o \"backspace\" apaga o último caractere\n",
    "lido\n",
    "\n",
    "* Alguns comandos apagam tudo o que já foi lido anteriormente\n",
    "\n",
    "* Considere que, no seu editor, \"#\" representa backspace e \"@\" indica “apagar tudo”\n",
    "\n",
    "* Faça um Python script que execute essas ações usando o TAD pilha"
   ]
  },
  {
   "cell_type": "code",
   "execution_count": null,
   "metadata": {
    "id": "ZU2TqJq0DOrN"
   },
   "outputs": [],
   "source": []
  },
  {
   "cell_type": "markdown",
   "metadata": {
    "id": "5yKsy4b7DQtI"
   },
   "source": [
    "4 - Às vezes, na aritmética tradicional, usam-se parênteses para dar o significado\n",
    "correto às expressões específicas, como por exemplo:\n",
    "\n",
    "* A*B-C/D equivale a: (A*B)-(C/D) # prioridade de execução de tarefas matemáticas.\n",
    "\n",
    "\n",
    "Na notação polonesa reversa (posfixa), os operadores aparecem depois dos operandos e dispensa parênteses. Esse tipo de notação é usado em algumas calculadoras eletrônicas.\n",
    "\n",
    " * Exemplo: AB*CD/-\n",
    "\n",
    "Interpretação da notação posfixa usando pilha:\n",
    "\n",
    "* Empilha operandos até encontrar um operador;\n",
    "* Retira os operandos, calcula e empilha o resultado;\n",
    "* Até que se chegue ao final da expressão.\n",
    "\n",
    "Implemente uma função/ Python Script que calcule o valor de uma expressão posfixa passada\n",
    "por parâmetro utilizando uma pilha"
   ]
  },
  {
   "cell_type": "code",
   "execution_count": null,
   "metadata": {
    "id": "v6WJUB2rE7SN"
   },
   "outputs": [],
   "source": []
  }
 ],
 "metadata": {
  "colab": {
   "provenance": [],
   "toc_visible": true
  },
  "kernelspec": {
   "display_name": "Python 3",
   "language": "python",
   "name": "python3"
  },
  "language_info": {
   "codemirror_mode": {
    "name": "ipython",
    "version": 3
   },
   "file_extension": ".py",
   "mimetype": "text/x-python",
   "name": "python",
   "nbconvert_exporter": "python",
   "pygments_lexer": "ipython3",
   "version": "3.7.4"
  }
 },
 "nbformat": 4,
 "nbformat_minor": 4
}
