{
  "nbformat": 4,
  "nbformat_minor": 0,
  "metadata": {
    "colab": {
      "provenance": []
    },
    "kernelspec": {
      "name": "python3",
      "display_name": "Python 3"
    },
    "language_info": {
      "name": "python"
    }
  },
  "cells": [
    {
      "cell_type": "markdown",
      "source": [
        "**List Comprehension -- avoid to use \"For Loops\" and code quickly**"
      ],
      "metadata": {
        "id": "L2KmdwTlNwpP"
      }
    },
    {
      "cell_type": "markdown",
      "source": [
        "https://book.pythontips.com/en/latest/comprehensions.html"
      ],
      "metadata": {
        "id": "M7-UVqDWS6CP"
      }
    },
    {
      "cell_type": "markdown",
      "source": [
        "List comprehensions provide a short and concise way to create lists. It consists of square brackets containing an expression followed by a for clause, then zero or more for or if clauses.\n",
        "The expressions can be anything, meaning you can put in all kinds of objects in lists.\n",
        "The result would be a new list made after the evaluation of the expression in context of the if and for clauses."
      ],
      "metadata": {
        "id": "cvdRLdfbS5jh"
      }
    },
    {
      "cell_type": "code",
      "source": [
        "# What are the main issues this code do?\n",
        "# What can be improved?\n",
        "squares = []\n",
        "for i in range(5):\n",
        "    squares.append(i * i)\n",
        "print(squares)"
      ],
      "metadata": {
        "id": "uluxxQW0N9v8"
      },
      "execution_count": null,
      "outputs": []
    },
    {
      "cell_type": "markdown",
      "source": [
        "**Another way to do the same with fewer code lines**"
      ],
      "metadata": {
        "id": "UUJ5_L6bOeuF"
      }
    },
    {
      "cell_type": "code",
      "source": [
        "# new_list = [expression for member in iterable]\n",
        "squares = [i * i for i in range(5)] # list comprehension\n",
        "print(squares)\n",
        "# What is the data pattern structure done?"
      ],
      "metadata": {
        "id": "9g9kTKplOqwD"
      },
      "execution_count": null,
      "outputs": []
    },
    {
      "cell_type": "markdown",
      "source": [
        "**Other applications of List Comprehension**"
      ],
      "metadata": {
        "id": "b3B7C4mGO3OG"
      }
    },
    {
      "cell_type": "code",
      "source": [
        "# Compare the codes below, which one is more effective?\n",
        "\n",
        "def cube(i):\n",
        "    return i*i*i\n",
        "\n",
        "cubes = [cube(i) for i in range(5)]\n",
        "print(cubes)"
      ],
      "metadata": {
        "id": "V2bmRIPkPJns"
      },
      "execution_count": null,
      "outputs": []
    },
    {
      "cell_type": "markdown",
      "source": [
        "**Filtering examples using list Comprehension**  "
      ],
      "metadata": {
        "id": "EQl26MPyTNrT"
      }
    },
    {
      "cell_type": "code",
      "source": [
        "# Filtering examples using List Comprehension\n",
        "\n",
        "# new_list = [expression for member in iterable (if conditional)]\n",
        "# even = par //// odd = ímpar\n",
        "\n",
        "evens = [i for i in range(20) if i%2 == 0]\n",
        "print(evens)\n",
        "\n",
        "def is_even(i):\n",
        "    return i%2 == 0\n",
        "\n",
        "evens = [i for i in range(20) if is_even(i)]\n",
        "print(evens)"
      ],
      "metadata": {
        "id": "SxFoUFIOPczz"
      },
      "execution_count": null,
      "outputs": []
    },
    {
      "cell_type": "markdown",
      "source": [
        "**Substituting elements in a quicker way**"
      ],
      "metadata": {
        "id": "QV61pLuiQRqX"
      }
    },
    {
      "cell_type": "code",
      "source": [
        "# new_list = [expression (if else conditional) for member in iterable]\n",
        "a = [1, 2, 3, 4, 5, 6, 7, 8, 9]\n",
        "b = [10 if i > 5 else 0 for i in a]\n",
        "print(b)\n",
        "\n",
        "# How to use the command \"np.where\" to do the same job?"
      ],
      "metadata": {
        "id": "LP5hr8wfQGLP"
      },
      "execution_count": null,
      "outputs": []
    },
    {
      "cell_type": "markdown",
      "source": [
        "**Comprehension setting -- specific reasoning**"
      ],
      "metadata": {
        "id": "ChWOtf_MQjIB"
      }
    },
    {
      "cell_type": "code",
      "source": [
        "quote = \"hello everybody\"\n",
        "unique_vowels = {i for i in quote if i in 'aeiou'}\n",
        "print(unique_vowels)\n",
        "\n",
        "squares = {i: i * i for i in range(5)}\n",
        "print(squares)"
      ],
      "metadata": {
        "id": "leVDNiLSQwt2"
      },
      "execution_count": null,
      "outputs": []
    },
    {
      "cell_type": "markdown",
      "source": [
        "**List comprehension as a generator -- compare the two examples**"
      ],
      "metadata": {
        "id": "XK_nPSqiQ1Rs"
      }
    },
    {
      "cell_type": "code",
      "source": [
        "# new_generator = (expression for i in iterable)\n",
        "# What are the differences between the codes below?\n",
        "# Do they the same output?\n",
        "\n",
        "s = sum([i * i for i in range(1000)])\n",
        "print(s)\n",
        "\n",
        "s = sum((i * i for i in range(1000)))\n",
        "print(s)\n",
        "\n",
        "import sys # why do we need this command?\n",
        "\n",
        "l = [i * i for i in range(1000)]\n",
        "print(sys.getsizeof(l), \"bytes\")\n",
        "g = (i * i for i in range(1000))\n",
        "print(sys.getsizeof(g), \"bytes\")"
      ],
      "metadata": {
        "id": "03b4caCLRQJg"
      },
      "execution_count": null,
      "outputs": []
    },
    {
      "cell_type": "markdown",
      "source": [
        "**Compare these two examples. Which should you choose?**"
      ],
      "metadata": {
        "id": "CzWdyfqnRjtU"
      }
    },
    {
      "cell_type": "code",
      "source": [
        "from timeit import default_timer as timer\n",
        "start = timer()\n",
        "a = [i*i for i in range(1_000_000)]\n",
        "stop = timer()\n",
        "print(f'{stop-start:.4f} seconds')\n",
        "\n",
        "start = timer()\n",
        "a = []\n",
        "for i in range(1_000_000):\n",
        "    a.append(i*i)\n",
        "stop = timer()\n",
        "print(f'{stop-start:.4f} seconds')"
      ],
      "metadata": {
        "id": "qohNM7AOR6Ds"
      },
      "execution_count": null,
      "outputs": []
    }
  ]
}