{
  "nbformat": 4,
  "nbformat_minor": 0,
  "metadata": {
    "colab": {
      "provenance": []
    },
    "kernelspec": {
      "name": "python3",
      "display_name": "Python 3"
    },
    "language_info": {
      "name": "python"
    }
  },
  "cells": [
    {
      "cell_type": "markdown",
      "source": [
        "**Dictionaries are data structure useful for many applications. Compare to lists or tuples, they have more detail and dimensions, explaining data features easily.**"
      ],
      "metadata": {
        "id": "pTwu57HUALgk"
      }
    },
    {
      "cell_type": "markdown",
      "source": [
        "They can be ordered or not. In today´s Python version, they are ordered automatically, no matter the data input method. However, it may be necessary to order the dictionary terms, following a sequence chosen specifically."
      ],
      "metadata": {
        "id": "DypvC-WiAdD9"
      }
    },
    {
      "cell_type": "code",
      "source": [
        "# Simple example of a dictionary -- note the two types of data inside the structure\n",
        "# Why need we use the 'string' data type??\n",
        "dict1 = {'id': A, 'name':'Paulo Silva', 'email':'paulo.silva@dnn.org','salary':5000.00}\n",
        "dict1"
      ],
      "metadata": {
        "id": "fK8RI3izAcm8"
      },
      "execution_count": null,
      "outputs": []
    },
    {
      "cell_type": "code",
      "execution_count": null,
      "metadata": {
        "id": "cnp9wM49ADgf"
      },
      "outputs": [],
      "source": [
        "# What kind of data structure does this script enroll?\n",
        "list(dict1.keys())"
      ]
    },
    {
      "cell_type": "markdown",
      "source": [
        "**Like the list comprehension, Python Dictionaries can also be 'comprehensive', following the same script structure already seen.**"
      ],
      "metadata": {
        "id": "4U3u9qGoBh_N"
      }
    },
    {
      "cell_type": "code",
      "source": [
        "# What´s the main result of the Python scrypt below?\n",
        "{x: x**2 for x in range(10) if x%2 == 0}\n"
      ],
      "metadata": {
        "id": "JJyvT-_SAK5z"
      },
      "execution_count": null,
      "outputs": []
    },
    {
      "cell_type": "markdown",
      "source": [
        "**How do you measure the efficiency of the Python script code below?**"
      ],
      "metadata": {
        "id": "boQlRShzCKx8"
      }
    },
    {
      "cell_type": "code",
      "source": [
        "people = {'name':'John','email':'john@example.com'}\n",
        "for k,v in people.items():\n",
        "    print(k, v)"
      ],
      "metadata": {
        "id": "QyjzoADdCYwt"
      },
      "execution_count": null,
      "outputs": []
    },
    {
      "cell_type": "code",
      "source": [
        "for value in people.values():\n",
        "    print(value)"
      ],
      "metadata": {
        "id": "aT5WC30uClkE"
      },
      "execution_count": null,
      "outputs": []
    },
    {
      "cell_type": "markdown",
      "source": [
        "**Working with two dictionaries at the same type. Useful when iterating with two different data structures or data sources in paralell.**"
      ],
      "metadata": {
        "id": "UZ7jcF9yCvE3"
      }
    },
    {
      "cell_type": "code",
      "source": [
        "countries = ['Brasil',\"USA\",\"France\",\"India\",\"Japan\"]\n",
        "capital_cities = [\"Brasilia','Washington\",\"London\",\"Paris\",\"New Delhi\",\"Tokyo\"]\n",
        "\n",
        "Countries = {'a': \"Brasil\", 'b': \"France\", 'c': \"Israel\"}\n",
        "Capital_cities= {'a': \"Brasilia\", 'b': \"Paris\", 'c': \"Tel_Aviv\"}\n",
        "\n",
        "for key in countries.keys() & capital_cities.keys():\n",
        "    print(key, Countries[key], Capital_cities[key])"
      ],
      "metadata": {
        "id": "xk8IEc-bCoOc"
      },
      "execution_count": null,
      "outputs": []
    }
  ]
}