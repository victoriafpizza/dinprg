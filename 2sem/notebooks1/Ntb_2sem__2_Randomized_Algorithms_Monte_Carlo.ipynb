{
  "nbformat": 4,
  "nbformat_minor": 0,
  "metadata": {
    "colab": {
      "provenance": []
    },
    "kernelspec": {
      "name": "python3",
      "display_name": "Python 3"
    },
    "language_info": {
      "name": "python"
    }
  },
  "cells": [
    {
      "cell_type": "markdown",
      "source": [
        "### Randomized algorithms are algorithms that use randomness as part of their logic to achieve efficiency and simplicity in solving computational problems."
      ],
      "metadata": {
        "id": "MfdDzSsuuiYI"
      }
    },
    {
      "cell_type": "markdown",
      "source": [
        "### These algorithms have applications: computer science, cryptography, machine learning, and optimization. Here the example is Monte_Carlo to assess the size of the 'Pi' constante."
      ],
      "metadata": {
        "id": "nLQeUQery-wE"
      }
    },
    {
      "cell_type": "markdown",
      "source": [
        "### General Warning: Randomized algorithms may produce different outputs for the same input due to the involvement of randomness. This can improve code quality (time and memory use)."
      ],
      "metadata": {
        "id": "a4YLEE1vzQ3B"
      }
    },
    {
      "cell_type": "markdown",
      "source": [
        "## Import libraries"
      ],
      "metadata": {
        "id": "CHv2W-c0_zNP"
      }
    },
    {
      "cell_type": "code",
      "source": [
        "import numpy as np # library for number management\n",
        "import pandas as pd\n",
        "import time # library for time management\n",
        "import random\n",
        "import time\n",
        "import matplotlib.pyplot as plt\n",
        "import matplotlib as mpl"
      ],
      "metadata": {
        "id": "uil9pI-Q_2UP"
      },
      "execution_count": 6,
      "outputs": []
    },
    {
      "cell_type": "markdown",
      "source": [
        "## Function_Definition"
      ],
      "metadata": {
        "id": "F_ibVEr-FygS"
      }
    },
    {
      "cell_type": "code",
      "source": [
        "def mc_pi(num):\n",
        "  # num = quantity of samples to be generated\n",
        "\n",
        "    # 1. Use the point count inside a circle.\n",
        "    # 2. Initialize counters for points inside and outside the circle.\n",
        "    inside_circle = 0 # it works like a counter\n",
        "\n",
        "    # 3. Perform the specified number of random trials.\n",
        "    for _ in range(num):\n",
        "    # 4. Generate random coordinates (x, y) within the unit square.\n",
        "    # Assume a basic dimension of 1 u.length\n",
        "        x = random.uniform(0, 1)\n",
        "        y = random.uniform(0, 1)\n",
        "\n",
        "    # 5. Check whether the point is inside the unit circle (x^2 + y^2 <= 1).\n",
        "        if x**2 + y**2 <= 1:\n",
        "            inside_circle += 1 # update the counter\n",
        "            # if not ok, then the sample is outside the circle and it does not matter.\n",
        "\n",
        "    # 6. Evalute the pi constant by the ratio of points inside the circle\n",
        "    # to the total number of trials.\n",
        "    return 4 * inside_circle / num, inside_circle, num\n",
        "    # return 3 factors: estimate of pi, number of trials inside e total number of trials."
      ],
      "metadata": {
        "id": "TNvTnFbH0LQ-"
      },
      "execution_count": 2,
      "outputs": []
    },
    {
      "cell_type": "code",
      "source": [
        "start = time.time()\n",
        "array_points = [4,40,160,1600,6400,8000,9000,10000,12000,\n",
        "                13000,15000,16000,18000,19000,20000,22000,\n",
        "                24000,25000,28000]\n",
        "x = []\n",
        "y = []\n",
        "for z in array_points:\n",
        "  p,i,n = mc_pi(z)\n",
        "  print (round(p,4),i,n)\n",
        "  x.append(n)\n",
        "  y.append(p)\n",
        "stop = time.time()\n",
        "formatter = mpl.ticker.EngFormatter()\n",
        "interval = stop - start\n",
        "inter_time = formatter(interval)\n",
        "print('time to mc_random =', inter_time,'seconds')"
      ],
      "metadata": {
        "colab": {
          "base_uri": "https://localhost:8080/"
        },
        "id": "qZ9Id-1829Sh",
        "outputId": "5dee2985-f3bf-4c32-8627-1fccbb5bd308"
      },
      "execution_count": 17,
      "outputs": [
        {
          "output_type": "stream",
          "name": "stdout",
          "text": [
            "3.0 3 4\n",
            "3.1 31 40\n",
            "2.925 117 160\n",
            "3.14 1256 1600\n",
            "3.1362 5018 6400\n",
            "3.1165 6233 8000\n",
            "3.1489 7085 9000\n",
            "3.13 7825 10000\n",
            "3.1347 9404 12000\n",
            "3.1348 10188 13000\n",
            "3.1363 11761 15000\n",
            "3.152 12608 16000\n",
            "3.1329 14098 18000\n",
            "3.1505 14965 19000\n",
            "3.1602 15801 20000\n",
            "3.1427 17285 22000\n",
            "3.154 18924 24000\n",
            "3.1389 19618 25000\n",
            "3.1416 21991 28000\n",
            "time to mc_random = 253.388 m seconds\n"
          ]
        }
      ]
    },
    {
      "cell_type": "code",
      "source": [
        "plt.scatter(x = x, y = y, color = 'green')\n",
        "plt.grid(True)"
      ],
      "metadata": {
        "colab": {
          "base_uri": "https://localhost:8080/",
          "height": 430
        },
        "id": "6qWXPTIO8fO3",
        "outputId": "355bb2db-fc6e-4027-d260-6a1e5f44c239"
      },
      "execution_count": 18,
      "outputs": [
        {
          "output_type": "display_data",
          "data": {
            "text/plain": [
              "<Figure size 640x480 with 1 Axes>"
            ],
            "image/png": "[encoded data removed]"
          },
          "metadata": {}
        }
      ]
    },
    {
      "cell_type": "code",
      "source": [],
      "metadata": {
        "id": "MHurgZyZ_tz3"
      },
      "execution_count": null,
      "outputs": []
    }
  ]
}