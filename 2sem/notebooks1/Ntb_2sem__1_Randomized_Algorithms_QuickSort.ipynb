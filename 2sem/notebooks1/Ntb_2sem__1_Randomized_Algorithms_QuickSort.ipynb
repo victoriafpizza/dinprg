{
  "nbformat": 4,
  "nbformat_minor": 0,
  "metadata": {
    "colab": {
      "provenance": []
    },
    "kernelspec": {
      "name": "python3",
      "display_name": "Python 3"
    },
    "language_info": {
      "name": "python"
    }
  },
  "cells": [
    {
      "cell_type": "markdown",
      "source": [
        "### Randomized algorithms are algorithms that use randomness as part of their logic to achieve efficiency and simplicity in solving computational problems."
      ],
      "metadata": {
        "id": "MfdDzSsuuiYI"
      }
    },
    {
      "cell_type": "markdown",
      "source": [
        "### These algorithms have applications: computer science, cryptography, machine learning, and optimization. The Random Forest Algorithm is one example. Another example here: Randomized QuickSort."
      ],
      "metadata": {
        "id": "nLQeUQery-wE"
      }
    },
    {
      "cell_type": "markdown",
      "source": [
        "### General Warning: Randomized algorithms may produce different outputs for the same input due to the involvement of randomness. This can improve code quality (time and memory use)."
      ],
      "metadata": {
        "id": "a4YLEE1vzQ3B"
      }
    },
    {
      "cell_type": "markdown",
      "source": [
        "## Import libraries"
      ],
      "metadata": {
        "id": "CHv2W-c0_zNP"
      }
    },
    {
      "cell_type": "code",
      "source": [
        "import numpy as np # library for number management\n",
        "import time # library for time management\n",
        "import random\n",
        "import time\n",
        "import matplotlib.pyplot as plt\n",
        "import matplotlib as mpl"
      ],
      "metadata": {
        "id": "uil9pI-Q_2UP"
      },
      "execution_count": 12,
      "outputs": []
    },
    {
      "cell_type": "markdown",
      "source": [
        "## Function_Definition"
      ],
      "metadata": {
        "id": "F_ibVEr-FygS"
      }
    },
    {
      "cell_type": "code",
      "source": [
        "def quicksort(arr):\n",
        "  # arr = array, or data structure\n",
        "  # Sorts an array using the randomized Quicksort algorithm.\n",
        "\n",
        "    # 1. Trivial case: If the array has 1 element, it's already sorted.\n",
        "    if len(arr) <= 1:\n",
        "        return arr # there is nothing to do, already done in fact.\n",
        "\n",
        "    # 2. Classic case: choose a random pivot element from the array.\n",
        "    # index = data type as 'INT'.\n",
        "    pivot_index = random.randint(0, len(arr) - 1)\n",
        "    pivot = arr[pivot_index]\n",
        "\n",
        "    # 3. Basic conpect -- Partition the array around the pivot:\n",
        "    #   - Create three sub-arrays:\n",
        "        # left (elements smaller than pivot),\n",
        "        # middle (element equal to pivot),\n",
        "        # right (elements greater than pivot).\n",
        "    left = [x for x in arr if x < pivot] # first sub_array\n",
        "    middle = [x for x in arr if x == pivot] # second sub_array\n",
        "    right = [x for x in arr if x > pivot] # third sub_array\n",
        "\n",
        "    # 4. Recursion: sort the left and right sub-arrays.\n",
        "    return quicksort(left) + middle + quicksort(right)"
      ],
      "metadata": {
        "id": "TNvTnFbH0LQ-"
      },
      "execution_count": 13,
      "outputs": []
    },
    {
      "cell_type": "code",
      "source": [
        "array_1 = [19,89,2,57,32,3,5,7,1]"
      ],
      "metadata": {
        "id": "q49XSLOF2jnq"
      },
      "execution_count": 14,
      "outputs": []
    },
    {
      "cell_type": "code",
      "source": [
        "start = time.time()\n",
        "array_r = quicksort(array_1)\n",
        "stop = time.time()\n",
        "formatter = mpl.ticker.EngFormatter()\n",
        "interval = stop - start\n",
        "inter_time = formatter(interval)\n",
        "print('time to array sorting =', inter_time,'seconds')\n",
        "print (array_r)"
      ],
      "metadata": {
        "colab": {
          "base_uri": "https://localhost:8080/"
        },
        "id": "qZ9Id-1829Sh",
        "outputId": "46cbc0f5-61d5-468b-86f3-72d528d69d4d"
      },
      "execution_count": 15,
      "outputs": [
        {
          "output_type": "stream",
          "name": "stdout",
          "text": [
            "time to array sorting = 298.5 µ seconds\n",
            "[1, 2, 3, 5, 7, 19, 32, 57, 89]\n"
          ]
        }
      ]
    },
    {
      "cell_type": "code",
      "source": [],
      "metadata": {
        "id": "kccfEL3Q3C3Z"
      },
      "execution_count": null,
      "outputs": []
    }
  ]
}