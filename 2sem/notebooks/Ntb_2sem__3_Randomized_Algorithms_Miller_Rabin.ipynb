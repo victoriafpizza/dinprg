{
  "nbformat": 4,
  "nbformat_minor": 0,
  "metadata": {
    "colab": {
      "provenance": []
    },
    "kernelspec": {
      "name": "python3",
      "display_name": "Python 3"
    },
    "language_info": {
      "name": "python"
    }
  },
  "cells": [
    {
      "cell_type": "markdown",
      "source": [
        "### Randomized algorithms are algorithms that use randomness as part of their logic to achieve efficiency and simplicity in solving computational problems."
      ],
      "metadata": {
        "id": "MfdDzSsuuiYI"
      }
    },
    {
      "cell_type": "markdown",
      "source": [
        "### These algorithms have applications: computer science, cryptography, machine learning, and optimization. Here the example is the Miller-Rabin algorithm to detect prime numbers ."
      ],
      "metadata": {
        "id": "nLQeUQery-wE"
      }
    },
    {
      "cell_type": "markdown",
      "source": [
        "### General Warning: Randomized algorithms may produce different outputs for the same input due to the involvement of randomness. This can improve code quality (time and memory use)."
      ],
      "metadata": {
        "id": "a4YLEE1vzQ3B"
      }
    },
    {
      "cell_type": "markdown",
      "source": [
        "## Import libraries"
      ],
      "metadata": {
        "id": "CHv2W-c0_zNP"
      }
    },
    {
      "cell_type": "code",
      "source": [
        "import numpy as np # library for number management\n",
        "import pandas as pd\n",
        "import time # library for time management\n",
        "import random\n",
        "import time\n",
        "import matplotlib.pyplot as plt\n",
        "import matplotlib as mpl"
      ],
      "metadata": {
        "id": "uil9pI-Q_2UP"
      },
      "execution_count": 1,
      "outputs": []
    },
    {
      "cell_type": "markdown",
      "source": [
        "## Function_Definition"
      ],
      "metadata": {
        "id": "F_ibVEr-FygS"
      }
    },
    {
      "cell_type": "code",
      "source": [
        "def m_rab(n, k):\n",
        "  # n = given number\n",
        "  # k = number of iterations\n",
        "\n",
        "    # 1. Trivial_initial_cases: 0, 1, 4 are not prime.\n",
        "    if n <= 1 or n == 4:\n",
        "        return False\n",
        "\n",
        "    # 2. Find d and s such that:\n",
        "    # [n - 1 = (2^s * d)]\n",
        "    # d is odd (odd = ímpar)\n",
        "    d = n - 1\n",
        "    s = 0\n",
        "    while d % 2 == 0:\n",
        "        d //= 2\n",
        "        s += 1\n",
        "\n",
        "    # 3. Perform k iterations of the test.\n",
        "    for _ in range(k):\n",
        "    # 4. Choose a random integer a between 2 and n-2.\n",
        "        a = random.randint(2, n - 2)\n",
        "\n",
        "    # 5. Calculate x = a^d mod n.\n",
        "        x = pow(a, d, n)\n",
        "\n",
        "    # 6. Check if x is 1 or n-1:\n",
        "    #   If x is 1, the test is inconclusive.\n",
        "    #   If x is n-1, the test is inconclusive.\n",
        "        if x == 1 or x == n - 1:\n",
        "            continue\n",
        "\n",
        "    # 7. Repeat steps 5 and 6 for s-1 times.\n",
        "        for _ in range(s - 1):\n",
        "            x = pow(x, 2, n)\n",
        "            if x == n - 1:\n",
        "                break\n",
        "\n",
        "    # 8. If x is not n-1 after s-1 iterations, n is composite (not prime)\n",
        "        if x != n - 1:\n",
        "            return False\n",
        "\n",
        "    # 9. If all iterations pass, n is probably prime.\n",
        "    return True"
      ],
      "metadata": {
        "id": "KA_tCE3nBWYe"
      },
      "execution_count": 2,
      "outputs": []
    },
    {
      "cell_type": "code",
      "source": [
        "start = time.time()\n",
        "iterations = [4,40,160,600]\n",
        "n = 696729599\n",
        "for z in iterations:\n",
        " print(z,m_rab(n,z))\n",
        "stop = time.time()\n",
        "formatter = mpl.ticker.EngFormatter()\n",
        "interval = stop - start\n",
        "inter_time = formatter(interval)\n",
        "print('time to m_rab =', inter_time,'seconds')"
      ],
      "metadata": {
        "colab": {
          "base_uri": "https://localhost:8080/"
        },
        "id": "qZ9Id-1829Sh",
        "outputId": "eaad2ffd-bdc9-47dd-f009-c41b3db88633"
      },
      "execution_count": 7,
      "outputs": [
        {
          "output_type": "stream",
          "name": "stdout",
          "text": [
            "4 True\n",
            "40 True\n",
            "160 True\n",
            "600 True\n",
            "time to m_rab = 21.0209 m seconds\n"
          ]
        }
      ]
    },
    {
      "cell_type": "code",
      "source": [],
      "metadata": {
        "id": "MHurgZyZ_tz3"
      },
      "execution_count": null,
      "outputs": []
    }
  ]
}