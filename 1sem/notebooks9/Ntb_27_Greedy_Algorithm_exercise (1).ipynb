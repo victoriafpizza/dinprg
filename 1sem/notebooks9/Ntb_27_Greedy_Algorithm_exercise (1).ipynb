{
  "nbformat": 4,
  "nbformat_minor": 0,
  "metadata": {
    "colab": {
      "provenance": []
    },
    "kernelspec": {
      "name": "python3",
      "display_name": "Python 3"
    },
    "language_info": {
      "name": "python"
    }
  },
  "cells": [
    {
      "cell_type": "markdown",
      "source": [
        "1 - Read the code below and indicate what it can achieve.\n",
        "2 - Start setting comments on the lines to help your understanding.\n",
        "3 - Take explanations from the tech documentation as you need from the web."
      ],
      "metadata": {
        "id": "WMf6HJiyHQJA"
      }
    },
    {
      "cell_type": "code",
      "source": [
        "def max_profit(jobs):\n",
        "    jobs.sort(reverse=True)\n",
        "    n = len(jobs)\n",
        "    scheduled = [False] * n\n",
        "    max_profit = 0\n",
        "\n",
        "    for i in range(n):\n",
        "        for j in range(min(n, i + 1) - 1, -1, -1):\n",
        "            if not scheduled[j]:\n",
        "                max_profit += jobs[j]\n",
        "                scheduled[j] = True\n",
        "                break\n",
        "\n",
        "    return max_profit\n",
        "\n",
        "# jobs = [10, 34, 78, 21, 4, 55,5, 20, 15, 30]\n",
        "# print(\"Maximum profit:\", max_profit(jobs))"
      ],
      "metadata": {
        "id": "GzsuozobHOHi"
      },
      "execution_count": null,
      "outputs": []
    }
  ]
}