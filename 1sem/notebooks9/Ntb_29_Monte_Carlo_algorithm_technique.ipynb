{
  "nbformat": 4,
  "nbformat_minor": 0,
  "metadata": {
    "colab": {
      "provenance": []
    },
    "kernelspec": {
      "name": "python3",
      "display_name": "Python 3"
    },
    "language_info": {
      "name": "python"
    }
  },
  "cells": [
    {
      "cell_type": "markdown",
      "source": [
        "1 - The Monte Carlo technique is a code way to solve complex problems.  It is based on randomness.  As you become more familiar with the method, you'll discover its wide-ranging applications."
      ],
      "metadata": {
        "id": "eqIoDiIkG7Gj"
      }
    },
    {
      "cell_type": "markdown",
      "source": [
        "2 - Suppose we need to determine the value of `pi`. One way may take the circle area and its link to `pi`. Check the code below, adding your comments to the command lines, and in the end confirm the code provides an idea about `pi`."
      ],
      "metadata": {
        "id": "P3TUNqhTIOkO"
      }
    },
    {
      "cell_type": "code",
      "source": [
        "import random\n",
        "\n",
        "def monte_carlo_pi(num_points):\n",
        "    points_inside_circle = 0\n",
        "    total_points = num_points\n",
        "\n",
        "    for _ in range(num_points):\n",
        "        x = random.uniform(0, 1)\n",
        "        y = random.uniform(0, 1)\n",
        "        distance = x**2 + y**2\n",
        "\n",
        "        if distance <= 1:\n",
        "            points_inside_circle += 1\n",
        "\n",
        "    pi_estimate = 4 * (points_inside_circle / total_points)\n",
        "    return pi_estimate\n",
        "\n",
        "if __name__ == \"__main__\":\n",
        "    num_points = 100\n",
        "    estimated_pi = monte_carlo_pi(num_points)\n",
        "    print(f\"Assessment of π using Monte Carlo method with {num_points} points: {estimated_pi}\")"
      ],
      "metadata": {
        "id": "yOr0vHYPG4R3"
      },
      "execution_count": null,
      "outputs": []
    },
    {
      "cell_type": "markdown",
      "source": [
        "Check the randomness in action. Question = if we have fewer try points, will be the result the same? In the opposite, with more points will the result be better necessarily?"
      ],
      "metadata": {
        "id": "b5Mg5E6II269"
      }
    },
    {
      "cell_type": "markdown",
      "source": [
        "3 - Exercise: make a code, based on the above, checking 5 possibilities in terms of try points quantities. Measure the code performance for each case, as we have seen during the course, and reach a conclusion on the Monte Carlo algorithm for `pi` assessment."
      ],
      "metadata": {
        "id": "YrHbq1KBJ2wc"
      }
    },
    {
      "cell_type": "markdown",
      "source": [
        "4 - Another example of the Monte Carlos technique. The math operation called `ìntegration` is a summation in fact.\n",
        "Nevertheless, the `integration` is an analog operation, taking every possible value to be added, no matter the number of decimals."
      ],
      "metadata": {
        "id": "HxNRIzipLcXR"
      }
    },
    {
      "cell_type": "markdown",
      "source": [
        "Check the output of the code below, adding your comments to the command lines. Make an evaluation whether the code runs ok and provides an ideal about a real `integration`. In your view, what can be improved in the code provided?"
      ],
      "metadata": {
        "id": "aRAKM_A1McD0"
      }
    },
    {
      "cell_type": "code",
      "source": [
        "import random\n",
        "\n",
        "def monte_carlo_integral(func, a, b, num_points):\n",
        "    total_area = (b - a) * max(func(x) for x in range(a, b))\n",
        "    points_under_curve = 0\n",
        "\n",
        "    for _ in range(num_points):\n",
        "        x = random.uniform(a, b)\n",
        "        y = random.uniform(0, total_area)\n",
        "\n",
        "        if y <= func(x):\n",
        "            points_under_curve += 1\n",
        "\n",
        "    estimated_area = total_area * (points_under_curve / num_points)\n",
        "    return estimated_area\n",
        "\n",
        "# Example function: f(x) = x^2\n",
        "def square_func(x):\n",
        "    return x ** 2\n",
        "\n",
        "if __name__ == \"__main__\":\n",
        "    a = 0\n",
        "    b = 1\n",
        "    num_points = 1000000\n",
        "    estimated_integral = monte_carlo_integral(square_func, a, b, num_points)\n",
        "    print(f\"Integration assessment using Monte Carlo method with {num_points} points: {estimated_integral}\")"
      ],
      "metadata": {
        "id": "Ozlm058QJymj"
      },
      "execution_count": null,
      "outputs": []
    }
  ]
}