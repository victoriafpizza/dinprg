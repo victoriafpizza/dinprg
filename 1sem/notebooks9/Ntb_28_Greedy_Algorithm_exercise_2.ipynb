{
  "nbformat": 4,
  "nbformat_minor": 0,
  "metadata": {
    "colab": {
      "provenance": []
    },
    "kernelspec": {
      "name": "python3",
      "display_name": "Python 3"
    },
    "language_info": {
      "name": "python"
    }
  },
  "cells": [
    {
      "cell_type": "markdown",
      "source": [
        "1 - The code below is said to be linked to a graph, generating a special one in the end.\n",
        "2 - After reading the code, try to add comment on the lines, explaining what it really makes.\n",
        "3 - In the end, try some examples to test what is the final result."
      ],
      "metadata": {
        "id": "RvHOtTsoOdVV"
      }
    },
    {
      "cell_type": "code",
      "source": [
        "import sys\n",
        "\n",
        "class Graph:\n",
        "    def __init__(self, vertices):\n",
        "        self.V = vertices\n",
        "        self.graph = [[0 for _ in range(vertices)] for _ in range(vertices)]\n",
        "\n",
        "    def min_key(self, key, mst_set):\n",
        "        min_val = sys.maxsize\n",
        "        min_index = -1\n",
        "\n",
        "        for v in range(self.V):\n",
        "            if key[v] < min_val and not mst_set[v]:\n",
        "                min_val = key[v]\n",
        "                min_index = v\n",
        "\n",
        "        return min_index\n",
        "\n",
        "    def prim_mst(self):\n",
        "        parent = [-1] * self.V\n",
        "        key = [sys.maxsize] * self.V\n",
        "        key[0] = 0\n",
        "        mst_set = [False] * self.V\n",
        "\n",
        "        parent[0] = -1\n",
        "\n",
        "        for _ in range(self.V):\n",
        "            u = self.min_key(key, mst_set)\n",
        "            mst_set[u] = True\n",
        "\n",
        "            for v in range(self.V):\n",
        "                if self.graph[u][v] > 0 and not mst_set[v] and key[v] > self.graph[u][v]:\n",
        "                    key[v] = self.graph[u][v]\n",
        "                    parent[v] = u\n",
        "\n",
        "        print(\"Edge \\tWeight\")\n",
        "        for i in range(1, self.V):\n",
        "            print(parent[i], \"-\", i, \"\\t\", self.graph[i][parent[i]])\n",
        "\n",
        "# Example usage:\n",
        "g = Graph(5)\n",
        "g.graph = [\n",
        "    [0, 2, 0, 6, 0],\n",
        "    [2, 0, 3, 8, 5],\n",
        "    [0, 3, 0, 0, 7],\n",
        "    [6, 8, 0, 0, 9],\n",
        "    [0, 5, 7, 9, 0]\n",
        "]\n",
        "\n",
        "g.prim_mst()"
      ],
      "metadata": {
        "id": "Y59ELu_oOXD8"
      },
      "execution_count": null,
      "outputs": []
    }
  ]
}