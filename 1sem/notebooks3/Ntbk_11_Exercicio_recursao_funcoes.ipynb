{
  "nbformat": 4,
  "nbformat_minor": 0,
  "metadata": {
    "colab": {
      "provenance": []
    },
    "kernelspec": {
      "name": "python3",
      "display_name": "Python 3"
    },
    "language_info": {
      "name": "python"
    }
  },
  "cells": [
    {
      "cell_type": "markdown",
      "source": [
        "1 - In this notebook, there are commands to operate a function.\n",
        "Try to understand what is done and propose upgrades to the commands.\n",
        "Use the concept of recursion as much as possible.\n"
      ],
      "metadata": {
        "id": "wzCTvbvUi82E"
      }
    },
    {
      "cell_type": "markdown",
      "source": [
        "2 -  Indicate what´s needed to execute the notebook fully."
      ],
      "metadata": {
        "id": "JZ7EMOxLkSHu"
      }
    },
    {
      "cell_type": "code",
      "source": [
        "import os # why do we need this command?\n",
        "\n",
        "arquivos_extraidos = [] # what´s the function of this list?"
      ],
      "metadata": {
        "id": "BUPGXpBCi60S"
      },
      "execution_count": null,
      "outputs": []
    },
    {
      "cell_type": "code",
      "execution_count": null,
      "metadata": {
        "id": "PLULIAUVisyj"
      },
      "outputs": [],
      "source": [
        "def pegar_arquivos_pasta(pasta):\n",
        "    lista_arquivos = os.listdir(pasta)\n",
        "    # se tiver txt e vendas no nome do arquivo, então eu vou pegar o nome do mês\n",
        "    for arquivos_especificos in lista_arquivos:\n",
        "        if '.txt' in arquivos_especificos and 'Vendas' in arquivos_especificos:\n",
        "            #significa que eu quero pegar só o nome do mês\n",
        "            arquivos_extraidos.append(arquivos_especificos.split()[2].replace('.txt', ''))\n",
        "    # caso contrario se for uma pasta\n",
        "        elif '.txt' not in arquivos_especificos:\n",
        "            pegar_arquivos_pasta(f'{pasta}/{arquivos_especificos}')\n"
      ]
    },
    {
      "cell_type": "code",
      "source": [
        "if __name__ == \"__main__\":\n",
        "    pegar_arquivos_pasta('Arquivos')\n",
        "    for arquivo in arquivos_extraidos:\n",
        "        print('-=-' * 5)\n",
        "        print(arquivo)"
      ],
      "metadata": {
        "id": "ELCai87RjcaT"
      },
      "execution_count": null,
      "outputs": []
    }
  ]
}