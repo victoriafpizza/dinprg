{
  "cells": [
    {
      "cell_type": "markdown",
      "metadata": {
        "id": "DpqsiGDUkxrC"
      },
      "source": [
        "# 1 - In this notebook, a set of exercises are proposed. Solve them using the concept of recursion."
      ]
    },
    {
      "cell_type": "markdown",
      "metadata": {
        "id": "VxQk8XE_k5Pv"
      },
      "source": [
        "# 2 - Indicate what kind of upgrades you should use."
      ]
    },
    {
      "cell_type": "markdown",
      "metadata": {
        "id": "VT4dQWfTlDEH"
      },
      "source": [
        "# coding: utf-8 -- what´s the meaning of this command?\n"
      ]
    },
    {
      "cell_type": "markdown",
      "metadata": {
        "id": "BLP3QlQwm9u1"
      },
      "source": [
        "# Exercise # 1"
      ]
    },
    {
      "cell_type": "code",
      "execution_count": null,
      "metadata": {
        "id": "EeF8or_Qkuw4"
      },
      "outputs": [],
      "source": [
        "\"\"\" 1. O fatorial de um número natural n é o produto de todos os inteiros positivos menores ou iguais a n.\n",
        "   Crie a chamada recursiva de n fatorial\"\"\"\n",
        "\n",
        "def fatorial(n):\n",
        "\tif n == 1:\n",
        "\t\treturn 1\n",
        "\n",
        "\treturn n* fatorial(n - 1)"
      ]
    },
    {
      "cell_type": "markdown",
      "metadata": {
        "id": "lQsqAUt2l22A"
      },
      "source": [
        "# Try yourself the above function, with the numbers: 2, 4,7. Set the results into an array."
      ]
    },
    {
      "cell_type": "markdown",
      "metadata": {
        "id": "UC8n4BewmHSQ"
      },
      "source": [
        "# Exercise # 2 - Use the above function, with the numbers: 3, 2,9. Make an ordered list."
      ]
    },
    {
      "cell_type": "markdown",
      "metadata": {
        "id": "OE_3QWKdmY-r"
      },
      "source": [
        "# Exercise # 3 - Using the function below, make a function to make an array from two previous lists. The first shall consider the sum of the numbers up to 12. The second list shall take the sum of the numbers up to 7. The target array shall have the second result first."
      ]
    },
    {
      "cell_type": "code",
      "execution_count": null,
      "metadata": {
        "id": "1rFwWgIRoOVf"
      },
      "outputs": [],
      "source": [
        "\"\"\"Usando recursividade, calcule a soma de todos os valores de um array de reais\"\"\"\n",
        "\n",
        "def soma(a, n):\n",
        "\tif n == len(a):\n",
        "\t\treturn 0\n",
        "\n",
        "\treturn a[n] + soma(a, n + 1)"
      ]
    },
    {
      "cell_type": "markdown",
      "metadata": {
        "id": "koErA77RofSW"
      },
      "source": [
        "# Exercise #4 - In a commercial operation, we need to compute the multiplication of numbers. Let´s start with the multiplication of the number by 'n' times. The first number will be basis, and the second will be the exponent. Use the function below to create an array with 5 items: 3 and 2, 3 and 4, 2 and 5, 5 and 3, 3 and 2. The array shall have the numbers in reverse order."
      ]
    },
    {
      "cell_type": "code",
      "execution_count": null,
      "metadata": {
        "id": "JvWE3ToSmDWK"
      },
      "outputs": [],
      "source": [
        "\"\"\"implemente uma função reccursiva que, dados dois números inteiros x e n, calcula o valor de x ** n\"\"\"\n",
        "\n",
        "def exponencial(x, n):\n",
        "\tif n == 0:\n",
        "\t\treturn 1\n",
        "\n",
        "\treturn x * exponencial(x, n - 1)"
      ]
    },
    {
      "cell_type": "markdown",
      "metadata": {
        "id": "JW5KF4zspuih"
      },
      "source": [
        "# Exercise #5 - Make yourself an input case for the function below."
      ]
    },
    {
      "cell_type": "code",
      "execution_count": null,
      "metadata": {
        "id": "yPMHYm4GqB6D"
      },
      "outputs": [],
      "source": [
        "\"\"\"Dado um array de inteiros, inverta a posição dos seus elementos\"\"\"\n",
        "\n",
        "def inverte(a, i):\n",
        "\tif i == len(a) / 2:\n",
        "\t\treturn a\n",
        "\n",
        "\ta[i], a[len(a) - i - 1] = a[len(a) - i - 1], a[i]\n",
        "\treturn inverte(a, i + 1)"
      ]
    },
    {
      "cell_type": "markdown",
      "metadata": {
        "id": "N6pwXxrMqBGE"
      },
      "source": [
        "# Exercise 6 - We have the following array: [2,3,5,8,12,32,4,5,10,11]. Using recursion, how the array order can be inverse?"
      ]
    },
    {
      "cell_type": "code",
      "execution_count": null,
      "metadata": {
        "id": "PonUvyxVqjZG"
      },
      "outputs": [],
      "source": [
        "\"\"\"Dado um array de inteiros inverta a posição dos seus elementos\"\"\"\n",
        "\n",
        "def inverte(a, i):\n",
        "\tif i == len(a) / 2:\n",
        "\t\treturn a\n",
        "\n",
        "\ta[i], a[len(a) - i - 1] = a[len(a) - i - 1], a[i]\n",
        "\treturn inverte(a, i + 1)"
      ]
    },
    {
      "cell_type": "markdown",
      "metadata": {
        "id": "JIZKjpFvqrZn"
      },
      "source": [
        "# Exercise #7 In text check points, we need to know how many times a certain digit appears within a number. How to use recursion to operate over the number 1020345903?"
      ]
    },
    {
      "cell_type": "code",
      "execution_count": null,
      "metadata": {
        "id": "SnDgxMr8luup"
      },
      "outputs": [],
      "source": [
        "\"\"\"Em uma função recursiva determine quantas vezes um digito k ocorre em um numero natural n.\"\"\"\n",
        "\n",
        "def conta_digito(d, n, i):\n",
        "\tn = str(n)\n",
        "\td = str(d)\n",
        "\n",
        "\tif i == len(n):\n",
        "\t\treturn 0\n",
        "\n",
        "\tif n[i] == d:\n",
        "\t\treturn 1 + conta_digito(d, n, i + 1)\n",
        "\n",
        "\treturn conta_digito(d, n, i + 1)\n",
        "\n"
      ]
    },
    {
      "cell_type": "markdown",
      "metadata": {
        "id": "wvMaXY29rH1p"
      },
      "source": [
        "# Exercise #8 - Use the function below with the following numbers:\n",
        "a) 3 and 87\n",
        "b) 24 and 108\n",
        "c) 33, 45 and 99.\n",
        "d) 16 and 89."
      ]
    },
    {
      "cell_type": "code",
      "execution_count": null,
      "metadata": {
        "id": "B8QA-lukrGQ3"
      },
      "outputs": [],
      "source": [
        "\"\"\"O máximo divisor comum de dois números inteiros x e y pode ser calculado usando-se uma definição recursiva:\n",
        " mdc(x, y) = mdc(x - y, y) , se x > y\n",
        " mdc(x, y) = mdc(y,x)\n",
        " mdc(x, x) = x \"\"\"\n",
        "\n",
        "def mdc(x, y):\n",
        "\tif x == y:\n",
        "\t\treturn x\n",
        "\n",
        "\tif x > y :\n",
        "\t\treturn mdc(x - y, y)\n",
        "\n",
        "\treturn mdc(y, x)"
      ]
    }
  ],
  "metadata": {
    "colab": {
      "provenance": []
    },
    "kernelspec": {
      "display_name": "Python 3",
      "name": "python3"
    },
    "language_info": {
      "name": "python"
    }
  },
  "nbformat": 4,
  "nbformat_minor": 0
}
