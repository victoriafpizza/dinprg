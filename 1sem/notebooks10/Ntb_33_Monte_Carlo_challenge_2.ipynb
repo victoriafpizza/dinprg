{
  "nbformat": 4,
  "nbformat_minor": 0,
  "metadata": {
    "colab": {
      "provenance": []
    },
    "kernelspec": {
      "name": "python3",
      "display_name": "Python 3"
    },
    "language_info": {
      "name": "python"
    }
  },
  "cells": [
    {
      "cell_type": "markdown",
      "source": [
        "#### In a project, there are 8 tasks, with different conditions, and all them have a minimum & maximum costs, distributed in specific shapes.."
      ],
      "metadata": {
        "id": "LY7m3mCjOWoK"
      }
    },
    {
      "cell_type": "markdown",
      "source": [
        "### This challenge deals with forecasting. The subject aims to know the total cost of a project."
      ],
      "metadata": {
        "id": "3tEk8qUQOHje"
      }
    },
    {
      "cell_type": "markdown",
      "source": [
        "## Problem = estimate the total project cost, assuming the tasks are independent among them."
      ],
      "metadata": {
        "id": "SLC8dubTOecq"
      }
    },
    {
      "cell_type": "markdown",
      "source": [
        "#### Task rules: the cost distribution of tasks A, C and D follow a normal distribution. All other tasks follow an uniform distribution."
      ],
      "metadata": {
        "id": "zqs7dZuzUP2x"
      }
    },
    {
      "cell_type": "markdown",
      "source": [
        "#### Minimum & Maximum values: Task A (5500 - 15400), Task B (4300 - 89000), Task C (4500 - 57000), Task D (32000 - 56000), Task E (2200 - 7800), Task F (1200 - 15700), Task G (4500 - 65000), and H (3400 - 8000)."
      ],
      "metadata": {
        "id": "hgnrbzA8UqLQ"
      }
    },
    {
      "cell_type": "markdown",
      "source": [
        "## Challenge tasks: read the problem statement and sketch how to use the Monte Carlo technique to answer the main question. Use a task flow diagram addressing: inputs, actions and outcomes. Use Python coding to make a algorithm to forecast the total cost of the project, under the assumptions."
      ],
      "metadata": {
        "id": "QrPKx3PhW3a5"
      }
    },
    {
      "cell_type": "markdown",
      "source": [
        "### Hints: evaluate how the cost may be computed, which is a function of the tasks values. This parameter is random in the end."
      ],
      "metadata": {
        "id": "YbgLm833XVyW"
      }
    },
    {
      "cell_type": "markdown",
      "source": [
        "### Guidance: make the assumptions with a Python function, set the number and value of the sells with a random command, simulate it several times, show the results by a graphic way."
      ],
      "metadata": {
        "id": "vCM1Shd0X723"
      }
    },
    {
      "cell_type": "markdown",
      "source": [
        "#### Grades: 30% for the task flow diagram. 60% for the Python code. 10% for the graphic output."
      ],
      "metadata": {
        "id": "ud3p52m6ZYOc"
      }
    },
    {
      "cell_type": "code",
      "source": [],
      "metadata": {
        "id": "9tEtAnIsicbG"
      },
      "execution_count": null,
      "outputs": []
    }
  ]
}