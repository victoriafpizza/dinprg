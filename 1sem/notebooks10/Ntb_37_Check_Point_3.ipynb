{
  "nbformat": 4,
  "nbformat_minor": 0,
  "metadata": {
    "colab": {
      "provenance": []
    },
    "kernelspec": {
      "name": "python3",
      "display_name": "Python 3"
    },
    "language_info": {
      "name": "python"
    }
  },
  "cells": [
    {
      "cell_type": "markdown",
      "source": [
        "## PROFIT ESTIMATION\n",
        "## One of the most key task in business is to estimate the enterprise profit. One key factor is the price of the goods, which can be set by the enterprise pricing branch or the commercial team.\n",
        "### - Thus, the profit is a function of the price, as well as the demand. The higer the price, the lower will be the demand, in general.\n",
        "### Assume the following simple equation to define the profit:\n",
        "### - The profit comes from the difference between Revenue and Costs. The higher the difference, the higher the profit. Revenue comes from the product between price and demand, and cost has two parts: one linked to the demand and other known as fixed cost.\n",
        "###  - In our business, the demand has the following relationshipe = a - b.Price + e, where a and b are coefficients based on historical data, and e is random variation, which may be simulated from a Normal distribution.\n",
        "### - On the other hand, profit comes from: (Price - variable Cost) * Demand - Fixed Cost. Assume the following:\n",
        "#### Fixed Cost = 3000. a = 1000, b = 25, standard deviation = 10, mean = 0, variable cost = $ 35 per demanded unit.\n",
        "#### As seen, there are two equations and their factors.\n",
        "#### Based on Monte Carlos approach and the above, provide an estimate of the best Price we may take and the associated Profit.\n",
        "#### Explain you code as much as possible, make clear your assumptions or approximations. Explore the best practices in software engineering.\n",
        "#### Hint: Demand may be approximate by a Normal distribution, like: Demand = a - b * Price, with mean = 0 and standard deviation = 10."
      ],
      "metadata": {
        "id": "L1_LgPoMyUw7"
      }
    }
  ]
}