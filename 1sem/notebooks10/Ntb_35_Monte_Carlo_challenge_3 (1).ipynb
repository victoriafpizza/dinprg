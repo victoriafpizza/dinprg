{
  "nbformat": 4,
  "nbformat_minor": 0,
  "metadata": {
    "colab": {
      "provenance": []
    },
    "kernelspec": {
      "name": "python3",
      "display_name": "Python 3"
    },
    "language_info": {
      "name": "python"
    }
  },
  "cells": [
    {
      "cell_type": "markdown",
      "source": [
        "### In the code below, it is said to apply the Monte Carlo algorithm. You need to explain whether this make sense to your Boss, showing the main related points. If ok, run the code and show your use throughout graphs."
      ],
      "metadata": {
        "id": "MfdDzSsuuiYI"
      }
    },
    {
      "cell_type": "code",
      "source": [
        "import numpy as np\n",
        "\n",
        "# Define parameters\n",
        "num_simulations = 10000  # Number of simulations\n",
        "mean_travel_time = 30  # Mean travel time in minutes\n",
        "std_dev_travel_time = 5  # Standard deviation of travel time in minutes\n",
        "\n",
        "# Generate random samples from a normal distribution\n",
        "travel_times = np.random.normal(mean_travel_time, std_dev_travel_time, num_simulations)\n",
        "\n",
        "# Calculate average travel time\n",
        "average_travel_time = np.mean(travel_times)\n",
        "\n",
        "print(\"Estimated average travel time:\", round(average_travel_time, 2), \"minutes\")\n"
      ],
      "metadata": {
        "id": "GmyqcNDBugAo"
      },
      "execution_count": null,
      "outputs": []
    }
  ]
}