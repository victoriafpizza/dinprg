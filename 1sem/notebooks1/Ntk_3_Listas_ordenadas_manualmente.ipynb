{
 "cells": [
  {
   "cell_type": "markdown",
   "metadata": {
    "id": "Qf-GuuinMxNd"
   },
   "source": [
    "### Listas ordenadas manualmente"
   ]
  },
  {
   "cell_type": "markdown",
   "metadata": {},
   "source": [
    "#### Este notebook apresenta conceitos sobre Listas e possui exercícios a resolver"
   ]
  },
  {
   "cell_type": "markdown",
   "metadata": {
    "id": "YdsouzS_o3Vw"
   },
   "source": [
    "Uma lista em Python é um conjunto de elementos em ordem representado por um par de colchetes. Lista reúne resultados de uma operação ou conjunto de dados para processamento. Seu conteúdo é apresentado entre colchetes `[]` e, dentro deles, separado por vírgulas. Esse tipo de estruturas de dados é similar a tuplas e arrays.\n",
    "\n",
    "Listas podem conter números inteiros, reais, strings, entre outros. É possível até, fazer lista de listas. Na declaração de uma lista, evite usar o termo 'list', porque este já é cativo na linguagem Python."
   ]
  },
  {
   "cell_type": "code",
   "execution_count": null,
   "metadata": {
    "id": "B1W6xB-6rm_y"
   },
   "outputs": [],
   "source": [
    "lista = []\n",
    "print(lista)\n",
    "\n",
    "sapatos = [36, 37, 38, 39, 40, 41, 42] # número de tamanhos de sapatos - int\n",
    "print(sapatos)\n",
    "\n",
    "peso = [86.4, 53.4, 57.5, 89.5, 71.1] # peso expresso em kgf - float\n",
    "print(peso)\n",
    "\n",
    "nomes = [\"acsa\", \"anna\", \"dani\", \"gabs\", \"malu\", \"martins\"] # lista com strings\n",
    "print(nomes)\n",
    "\n",
    "listas = [sapatos, peso, nomes] # lista com listas\n",
    "print(listas)"
   ]
  },
  {
   "cell_type": "markdown",
   "metadata": {
    "id": "zPCsWHawvGPs"
   },
   "source": [
    "No caso do Python, também podemos colocar strings e números em uma mesma lista!"
   ]
  },
  {
   "cell_type": "code",
   "execution_count": null,
   "metadata": {
    "id": "xSAIz-JvwC_O"
   },
   "outputs": [],
   "source": [
    "pessoa = [1.67, 58, \"estuda no IMD\"] # int, float & string\n",
    "print(pessoa)"
   ]
  },
  {
   "cell_type": "markdown",
   "metadata": {
    "id": "yiFlHfNFS45z"
   },
   "source": [
    "Para ver quantos elementos uma lista possui, usamos o procedimento `len()`:"
   ]
  },
  {
   "cell_type": "code",
   "execution_count": null,
   "metadata": {
    "id": "3BeWC_z03-vh"
   },
   "outputs": [],
   "source": [
    "print(len(lista)) # length = len = extensão ou comprimento"
   ]
  },
  {
   "cell_type": "markdown",
   "metadata": {
    "id": "57wDcvNPucQa"
   },
   "source": [
    "Cada item da lista possui um ordenador ou índice associado, começando por 0 e terminando no número total de elementos da lista subtraído de 1. Portanto, se existir uma lista com 5 elementos, os índices serão de 0 a 4."
   ]
  },
  {
   "cell_type": "code",
   "execution_count": null,
   "metadata": {
    "id": "1Z1_-e9n353X"
   },
   "outputs": [],
   "source": [
    "comidas = [\"pizza\", \"chocolate\", \"coxinha\", \"pastel de frango\", \"hambúrguer\"]\n",
    "print(comidas[0])\n",
    "print(comidas[1])\n",
    "print(comidas[2])\n",
    "print(comidas[3])\n",
    "print(comidas[4])"
   ]
  },
  {
   "cell_type": "markdown",
   "metadata": {
    "id": "M5CVis_AS452"
   },
   "source": [
    "Uma string (str) é representada como uma lista de caracteres. Com isso, uma lista de strings é na verdade uma lista de listas:"
   ]
  },
  {
   "cell_type": "code",
   "execution_count": null,
   "metadata": {
    "id": "UZgqfvjTS452"
   },
   "outputs": [],
   "source": [
    "print(comidas[1][5])"
   ]
  },
  {
   "cell_type": "markdown",
   "metadata": {
    "id": "uXS2_l8CviGn"
   },
   "source": [
    "Em Python é possível acessar os elementos da lista por um index negativo, também. Sendo `-1` o último elemento da lista, `-2` o penúltimo e assim por diante."
   ]
  },
  {
   "cell_type": "code",
   "execution_count": null,
   "metadata": {
    "id": "qFZXuHMZwGGv"
   },
   "outputs": [],
   "source": [
    "print(comidas[-1])\n",
    "print(comidas[-2])"
   ]
  },
  {
   "cell_type": "markdown",
   "metadata": {
    "id": "x3VkIjK9wXAn"
   },
   "source": [
    "Quando tentamos acessar um index fora da lista, ocorrerá a exceção `IndexError`."
   ]
  },
  {
   "cell_type": "code",
   "execution_count": null,
   "metadata": {
    "id": "wETyjuynxF5q"
   },
   "outputs": [],
   "source": [
    "print(comidas[6])"
   ]
  },
  {
   "cell_type": "markdown",
   "metadata": {
    "id": "Um6edxYJx0BF"
   },
   "source": [
    "Para separar ou dividir listas usando o operador `:` (dois pontos).\n",
    "\n",
    "**Observação 1:** os dois pontos ':' servem para particionar também 'dataframes', outro tipo de organização de dados.\n",
    "\n",
    "**Observação 2:** Quando utilizamos o operador `:` o segundo índice não será incluso. Ou seja em `print(comidas[2:4])` os elementos mostrados são os que estão nas posições 2 e 3, apenas."
   ]
  },
  {
   "cell_type": "code",
   "execution_count": null,
   "metadata": {
    "id": "XXegW0sYyQWV"
   },
   "outputs": [],
   "source": [
    "print(comidas[1:3])\n",
    "\n",
    "print(comidas[:3])\n",
    "\n",
    "print(comidas[2:])"
   ]
  },
  {
   "cell_type": "markdown",
   "metadata": {
    "id": "2bLm7VRx0Lk_"
   },
   "source": [
    "Para concatenarmos duas listas utilizamos o operador `+`.\n",
    "\n",
    "**Observação 3:** o operador '+' também funciona na junção de strings, muito usado em títulos."
   ]
  },
  {
   "cell_type": "code",
   "execution_count": null,
   "metadata": {
    "id": "70wYmmxi0JyQ"
   },
   "outputs": [],
   "source": [
    "lista_1 = [1, 2, 3]\n",
    "lista_2 = [4, 5, 6]\n",
    "\n",
    "print(lista_1 + lista_2)"
   ]
  },
  {
   "cell_type": "markdown",
   "metadata": {
    "id": "OtBkvpe7S455"
   },
   "source": [
    "### Exercícios de fixação"
   ]
  },
  {
   "cell_type": "markdown",
   "metadata": {
    "id": "ISWeiKnUYzTU"
   },
   "source": [
    "1 - Processe a lista abaixo, substituindo todas as ocorrência de valores positivos por 1 e todos os valores negativos por 0."
   ]
  },
  {
   "cell_type": "code",
   "execution_count": null,
   "metadata": {
    "id": "4qJ-ylq4S456"
   },
   "outputs": [],
   "source": [
    "[5, -3, 4, -1, -5]"
   ]
  },
  {
   "cell_type": "markdown",
   "metadata": {
    "id": "_8jpofAqM4x2"
   },
   "source": [
    "#### Métodos e procedimentos mais empregados"
   ]
  },
  {
   "cell_type": "markdown",
   "metadata": {
    "id": "cuBBN8csHf09"
   },
   "source": [
    "As listas ordenadas manualmente têm métodos e procedimentos para sua manipulação."
   ]
  },
  {
   "cell_type": "markdown",
   "metadata": {
    "id": "dqudRZHb3KIK"
   },
   "source": [
    "#### Criar uma lista de valores númericos sequenciais com `range()`"
   ]
  },
  {
   "cell_type": "code",
   "execution_count": null,
   "metadata": {
    "id": "qw291ZIA3NOf"
   },
   "outputs": [],
   "source": [
    "valores = list(range(4,11))\n",
    "print(valores)"
   ]
  },
  {
   "cell_type": "markdown",
   "metadata": {
    "id": "430tSgB6OB8T"
   },
   "source": [
    "#### Ordenar temporariamente com `sort()`\n",
    "Esse método serve para ordenar uma lista em ordem crescente ou alfabética. 'Sort' significa selecionar ou organizar segundo um critério."
   ]
  },
  {
   "cell_type": "code",
   "execution_count": null,
   "metadata": {
    "id": "rR8DawWjOYPv"
   },
   "outputs": [],
   "source": [
    "compras = [\"óleo\", \"sal\", \"água\", \"cenoura\", \"papel\", \"algodão\"]\n",
    "compras.sort() # organização dos termos da lista segundo um critério\n",
    "print(compras)"
   ]
  },
  {
   "cell_type": "code",
   "execution_count": 2,
   "metadata": {
    "id": "u0_kE1XyO3qh"
   },
   "outputs": [
    {
     "name": "stdout",
     "output_type": "stream",
     "text": [
      "[2, 2.1, 2.4, 5, 5.6, 5.7, 6, 7, 7.5, 8, 8.4, 9.8, 10.0, 10.0, 10.0]\n"
     ]
    }
   ],
   "source": [
    "notas = [5.6, 10.0, 5.7, 7, 10.0, 10.0, 7.5, 8, 8.4, 2.4, 9.8, 2.1, 2, 5, 6]\n",
    "notas.sort() # oranização dos floats segundo um critério\n",
    "print(notas)"
   ]
  },
  {
   "cell_type": "markdown",
   "metadata": {
    "id": "-U0sKPzcS458"
   },
   "source": [
    "Entretanto, ele não pode organizar entre listas mistas (numéricos e strings)."
   ]
  },
  {
   "cell_type": "code",
   "execution_count": null,
   "metadata": {
    "id": "Uh6nFh9FlFR5"
   },
   "outputs": [],
   "source": [
    "mista = [\"juremilda\", 99.9, \"godofredo\", 101, 3]\n",
    "mistureba.sort()\n",
    "print(mista)"
   ]
  },
  {
   "cell_type": "markdown",
   "metadata": {
    "id": "rTIHFN3EQJCS"
   },
   "source": [
    "#### Contar elementos com `count()`\n",
    "Este método conta a quantidade de vezes que um dado elemento aparece e a retorna."
   ]
  },
  {
   "cell_type": "code",
   "execution_count": 3,
   "metadata": {
    "id": "WntidtczQSfz"
   },
   "outputs": [
    {
     "name": "stdout",
     "output_type": "stream",
     "text": [
      "3 alunos tiram nota 10.0 na prova\n"
     ]
    }
   ],
   "source": [
    "n = notas.count(10.0)\n",
    "print(n, \"alunos tiram nota 10.0 na prova\")\n",
    "# Há um outro método interessante para manusear listas, tuplas ou arrays: value_counts()"
   ]
  },
  {
   "cell_type": "markdown",
   "metadata": {
    "id": "a1Y5Bdjsmnuk"
   },
   "source": [
    "#### Inverter com `reverse()`\n",
    "Esse método reverte todos os valores da lista, onde o elemento no índice `0` será trocado com o elemento no índice `n`, o `1` com o elemento `n-1`, e assim por diante."
   ]
  },
  {
   "cell_type": "code",
   "execution_count": null,
   "metadata": {
    "id": "xeHPEPWJm3Qd"
   },
   "outputs": [],
   "source": [
    "alunos = [\"Acsa\", \"Anna\", \"Dani\", \"Malu\", \"Gabs\", \"Martins\"]\n",
    "alunos.reverse()\n",
    "print(alunos)"
   ]
  },
  {
   "cell_type": "markdown",
   "metadata": {
    "id": "P5UCP4R6107r"
   },
   "source": [
    "### Limpar com `clear()`\n",
    "Utilizando o método `clear` para alterar/clarear um lista."
   ]
  },
  {
   "cell_type": "code",
   "execution_count": null,
   "metadata": {
    "id": "g8lofrEt2BSn"
   },
   "outputs": [],
   "source": [
    "numeros = [10, 20, 30, 40]\n",
    "print(numeros)\n",
    "\n",
    "numeros.clear()\n",
    "print(numeros)"
   ]
  },
  {
   "cell_type": "markdown",
   "metadata": {
    "id": "IpSkutE6rdTg"
   },
   "source": [
    "#### Maior item máximo com `max()`\n",
    "Este procedimento retorna o valor máximo da lista.\n",
    "\n",
    "Sendo a lista com strings, retorna-se o elemento que possui a primeira letra: A a Z (sendo A a menor e Z a maior). Este critério segue-se para as demais letras na mesma 'string'.\n",
    "\n",
    "**Atenção**: esse comando não funciona quando a lista tem elementos de tipos diferentes (ex: `int` com `str`)."
   ]
  },
  {
   "cell_type": "code",
   "execution_count": null,
   "metadata": {
    "id": "npnMMpk9rvti"
   },
   "outputs": [],
   "source": [
    "sapatos = [36, 37, 38, 39, 40, 41, 42]\n",
    "m = max(sapatos)\n",
    "print(\"valor máximo: \", m)\n",
    "\n",
    "alunos = [\"Acsa\", \"Dani\", \"Malu\", \"Gabs\", \"Martins\"]\n",
    "m = max(alunos)\n",
    "print(\"maior nome: \", m)"
   ]
  },
  {
   "cell_type": "markdown",
   "metadata": {
    "id": "3yZUDGfJS46D"
   },
   "source": [
    "De forma mais geral, este tipo de ordem em uma lista de listas se chama **ordem lexicográfica**:"
   ]
  },
  {
   "cell_type": "code",
   "execution_count": null,
   "metadata": {
    "id": "MuT9UIfOS46D"
   },
   "outputs": [],
   "source": [
    "pontos = [[1,3], [2,3], [1,2], [2,1]]\n",
    "m = max(pontos)\n",
    "print(\"ponto máximo:\", m)"
   ]
  },
  {
   "cell_type": "markdown",
   "metadata": {
    "id": "mg6FSsa_sCih"
   },
   "source": [
    "### Elemento mínimo com `min()`\n",
    "Essa função retorna o valor mínimo da lista.\n",
    "\n",
    "As observações apresentadas no item anterior tambem se aplicam a esse método."
   ]
  },
  {
   "cell_type": "code",
   "execution_count": null,
   "metadata": {
    "id": "ZIe_BA1wsl_Q"
   },
   "outputs": [],
   "source": [
    "sapatos = [36, 37, 38, 39, 40, 41, 42]\n",
    "m = min(sapatos)\n",
    "print (\"valor mínimo: \", m)\n",
    "\n",
    "alunos = [\"Acsa\", \"Dani\", \"Malu\", \"Gabs\", \"Martins\"]\n",
    "m = min(alunos)\n",
    "print(\"menor nome: \", m)"
   ]
  },
  {
   "cell_type": "markdown",
   "metadata": {
    "id": "LzYnXSXwtppW"
   },
   "source": [
    "### Somando elementos com `sum()`\n",
    "\n",
    "Essa função retorna a soma dos valores da lista. porém temos duas formas de escreve-lo: 1° sem parametros , 2° com um valor inicial para ser somado.\n",
    "\n",
    "Esse método não funciona com elementos do tipo string."
   ]
  },
  {
   "cell_type": "code",
   "execution_count": null,
   "metadata": {
    "id": "0aLzGuBGtwUO"
   },
   "outputs": [],
   "source": [
    "lista= [1, 2, 3, 4, 5]\n",
    "m = sum(lista)\n",
    "print (\"Soma: \", m)\n",
    "\n",
    "m = sum(lista, 10)\n",
    "print (\"Soma começando com o valor 10: \", m)"
   ]
  },
  {
   "cell_type": "markdown",
   "metadata": {
    "id": "_QXCvPPeS46E"
   },
   "source": [
    "### Exercícios: aplicação de conceitos de list e funções (def...)"
   ]
  },
  {
   "cell_type": "markdown",
   "metadata": {
    "id": "RTjem6X449Wa"
   },
   "source": [
    "2 - (PUC-RIO)  Crie uma função que process uma lista de números e:\n",
    "\n",
    "*  retorne o maior elemento\n",
    "*  retorne a soma dos elementos\n",
    "*  retorne o número de ocorrências do primeiro elemento da lista\n",
    "*  retorne a média dos elementos\n",
    "*  retorne o valor mais próximo da média dos elementos\n",
    "*  retorne a soma dos elementos com valor negativo\n",
    "*  retorne a quantidade de vizinhos iguais"
   ]
  },
  {
   "cell_type": "code",
   "execution_count": null,
   "metadata": {
    "id": "TsX4Cvt-Gd7e"
   },
   "outputs": [],
   "source": [
    "[5, -3, 4, -1, -1, -5]\n"
   ]
  },
  {
   "cell_type": "markdown",
   "metadata": {
    "id": "0CYlCfozMoHN"
   },
   "source": [
    "#### Para que servem essas listas?"
   ]
  },
  {
   "cell_type": "markdown",
   "metadata": {
    "id": "EnjoEjrvHTlH"
   },
   "source": [
    "\"Listas\" auxiliam na disposição organizada e ordenada dos elementos, seguindo um critério ou lugar. Elas servem para quando nós precisarmos acessar um lugar específico da lista que já sabiamos o que tinha anteriormente, por meio dos índices, ou numa situação em que a sequência dos valores está atrelada a outros dados e precisamos exatamente dessa sequência, ou simplesmente para não perdemos a ordem da coleção dos objetos.\n"
   ]
  },
  {
   "cell_type": "markdown",
   "metadata": {
    "id": "a1-MtnqpHxVQ"
   },
   "source": [
    "### Adicionar um valor em determinada posição\n",
    "Usamos o método `insert(índice, valor)`, o qual toma dois argumentos:\n",
    "1. o índice da lista onde será inserido o valor\n",
    "2. o valor que será adicionado\n",
    "\n",
    "Caso já exista um valor naquela posição, a função move todos os outros valores para uma posição posterior."
   ]
  },
  {
   "cell_type": "code",
   "execution_count": null,
   "metadata": {
    "id": "w6Hlt-Y1JpH7"
   },
   "outputs": [],
   "source": [
    "lista = [10, 20, 30, 40, 50, 60]\n",
    "print(\"lista original:\", lista)"
   ]
  },
  {
   "cell_type": "code",
   "execution_count": null,
   "metadata": {
    "id": "QYt_NbgcInQ5"
   },
   "outputs": [],
   "source": [
    "lista.insert(0, 0)\n",
    "print(\"primeira lista:\", lista)\n",
    "lista.insert(0, -10)\n",
    "print(\"nova lista:\", lista)\n",
    "lista.insert(8, 70)\n",
    "print(\"mais uma lista:\", lista)"
   ]
  },
  {
   "cell_type": "markdown",
   "metadata": {
    "id": "3XAazxT34Z9m"
   },
   "source": [
    "### Adicionando um ou mais valores ao final da lista\n",
    "\n",
    "Para adicionarmos um elemento ao final da lista utilizamos o método `append()`.\n",
    "\n",
    "Caso queira ser feita a adição de mais de um elemento utilizamos o método `extend()`."
   ]
  },
  {
   "cell_type": "code",
   "execution_count": null,
   "metadata": {
    "id": "njjrjNk75HgM"
   },
   "outputs": [],
   "source": [
    "numeros = [1, 2, 3]\n",
    "print(numeros)\n",
    "\n",
    "numeros.append(4)\n",
    "print(numeros)\n",
    "\n",
    "numeros.extend([5,6,7])\n",
    "print(numeros)"
   ]
  },
  {
   "cell_type": "markdown",
   "metadata": {
    "id": "er3f-4a5KnIQ"
   },
   "source": [
    "### Remover elementos da lista\n",
    "\n",
    "###### `pop()`: Usando o método `pop(índice)`, o índice será passado como argumento e aquele elemento que lá estava localizado será removido e retornado.\n",
    "\n",
    "**Atenção:** Caso `pop()` não receba argumentos, ele removerá o último ítem da lista e o retornará."
   ]
  },
  {
   "cell_type": "code",
   "execution_count": null,
   "metadata": {
    "id": "uV9aavrmMqLo"
   },
   "outputs": [],
   "source": [
    "a = lista.pop()\n",
    "print(\"a lista agora é\", lista, \"e o ítem removido foi:\", a)"
   ]
  },
  {
   "cell_type": "code",
   "execution_count": null,
   "metadata": {
    "id": "5bgO4MXaNBLR"
   },
   "outputs": [],
   "source": [
    "b = lista.pop(0)\n",
    "print(\"a lista agora é\", lista, \"e o ítem removido foi:\", b)"
   ]
  },
  {
   "cell_type": "markdown",
   "metadata": {
    "id": "T62FFko2S46H"
   },
   "source": [
    "#### `remove()`\n",
    "Caso seja necessário remover um elemento de índice desconhecido, utiliza-se o método `remove(elemento)`.\n",
    "\n",
    "Se o valor removido não existir naquela lista, o programa retornará um erro."
   ]
  },
  {
   "cell_type": "code",
   "execution_count": null,
   "metadata": {
    "id": "wupRiSfzNPFV"
   },
   "outputs": [],
   "source": [
    "lista.remove(20)\n",
    "print(\"a lista agora é\", lista)"
   ]
  },
  {
   "cell_type": "markdown",
   "metadata": {
    "id": "O0gtcJsZS46H"
   },
   "source": [
    "#### `del`\n",
    "Pode ser utilizado para deletar um elemento, uma sequencia de elementos, ou a própria lista."
   ]
  },
  {
   "cell_type": "code",
   "execution_count": null,
   "metadata": {
    "id": "j8-GGp7N6bJF"
   },
   "outputs": [],
   "source": [
    "del lista[0]\n",
    "print(\"a lista agora é\", lista)"
   ]
  },
  {
   "cell_type": "code",
   "execution_count": null,
   "metadata": {
    "id": "71rkiya27fTU"
   },
   "outputs": [],
   "source": [
    "del lista[2:4]\n",
    "print(\"a lista agora é\", lista)"
   ]
  },
  {
   "cell_type": "code",
   "execution_count": null,
   "metadata": {
    "id": "sMDl9Z1D793D"
   },
   "outputs": [],
   "source": [
    "del lista #irá deletar a lista por completo\n",
    "print(lista) #como a lista foi deletada, ela não estará mais definida. Ocasionando o erro: 'lista' is not defined"
   ]
  },
  {
   "cell_type": "markdown",
   "metadata": {
    "id": "D0yM5bbJ1BEm"
   },
   "source": [
    "### Listas dentro da teoria de conjuntos\n",
    "\n",
    "Também é possível verificar se um elemento está presente em uma lista usando o operador `in`, assim como em conjuntos:"
   ]
  },
  {
   "cell_type": "code",
   "execution_count": null,
   "metadata": {
    "id": "PpOoybH9Zy8A"
   },
   "outputs": [],
   "source": [
    "lista = [10,20,30,40]\n",
    "10 in lista"
   ]
  },
  {
   "cell_type": "markdown",
   "metadata": {
    "id": "0S5f8CCuS46I"
   },
   "source": [
    "### Exercícios"
   ]
  },
  {
   "cell_type": "markdown",
   "metadata": {
    "id": "4HaUvn0uft9i"
   },
   "source": [
    "3 - Leia duas listas com 10 elementos cada. Gere uma terceira lista de 20 elementos, cujos valores deverão ser compostos pelos elementos intercalados das duas outras listas.\n",
    "\n",
    "**Exemplo**\n",
    "\n",
    "Entrada\n",
    "```python\n",
    "lista1 = [1, 3, 5, 7, 9]\n",
    "lista2 = [2, 4, 6, 8]\n",
    "```\n",
    "\n",
    "Saída\n",
    "```python\n",
    "[1, 2, 3, 4, 5, 6, 7, 8, 9]\n",
    "```"
   ]
  },
  {
   "cell_type": "code",
   "execution_count": null,
   "metadata": {
    "id": "MGO8zb0MQS6Y"
   },
   "outputs": [],
   "source": []
  },
  {
   "cell_type": "markdown",
   "metadata": {
    "id": "MimB-dKce0yi"
   },
   "source": [
    "4 - Leia a idade e a altura de 5 pessoas, armazenando cada informação na sua respectiva lista. Imprima a idade e a altura na ordem inversa a ordem lida. Exemplo:\n",
    "\n",
    "Entrada\n",
    "```python\n",
    "idades = [20, 15, 53, 18, 32]\n",
    "alturas = [1.80, 1.51, 1.68, 1.65, 1.77]\n",
    "```\n",
    "\n",
    "Saída\n",
    "\n",
    "```python\n",
    "[32, 18, 53, 15, 20]\n",
    "[1.77, 1.65, 1.68, 1.51, 1.80]\n",
    "```"
   ]
  },
  {
   "cell_type": "code",
   "execution_count": null,
   "metadata": {
    "id": "IjCXrr2rgo_T"
   },
   "outputs": [],
   "source": [
    "idades = [20, 15, 53, 18, 32]\n",
    "idades.reverse()\n",
    "print(idades)"
   ]
  },
  {
   "cell_type": "markdown",
   "metadata": {
    "id": "l7FTlyfVZw00"
   },
   "source": [
    "5 - (PUC-RIO) Dada uma lista, identifique o valor mais próximo da média dos valores presentes nela.\n",
    "\n",
    "> O procedimento `mean()` é um dos procedimentos-padrão do Python 👍🏻\n",
    "\n",
    "**Exemplo**\n",
    "\n",
    "Entrada\n",
    "```python\n",
    "lista = [2.5, 7.5, 10.0, 4.0] # média = 6.0\n",
    "```\n",
    "\n",
    "Saída\n",
    "```python\n",
    "Valor mais próximo da média = 7.5\n",
    "```"
   ]
  },
  {
   "cell_type": "code",
   "execution_count": null,
   "metadata": {
    "id": "7qpIy346Z22e"
   },
   "outputs": [],
   "source": []
  },
  {
   "cell_type": "markdown",
   "metadata": {
    "id": "1HXJ1tTmdTp9"
   },
   "source": [
    "6 - (PUC - editada) Receba uma lista de strings e:\n",
    "1.   retorne o elemento com mais caracteres;\n",
    "2.   retorne o elemento com menos caracteres;\n",
    "3.   retorne o número de ocorrências do primeiro elemento da lista.\n",
    "\n",
    "> Os procedimentos `min()` e `max()` podem ser adaptados para isto 👍🏻\n",
    "\n",
    "**Exemplo**\n",
    "\n",
    "Entrada\n",
    "```python\n",
    "lista = [\"arlindo\", \"jurema\", \"josefina\", \"josicleydson\", \"bob\", \"arlindo\"]\n",
    "```\n",
    "\n",
    "Saída\n",
    "```python\n",
    "Elemento com mais carateres: \"josicleydson\"\n",
    "Elemento com menos caracteres: \"bob\"\n",
    "Número de ocorrências do primeiro elemento da lista: 2\n",
    "```"
   ]
  },
  {
   "cell_type": "code",
   "execution_count": null,
   "metadata": {
    "id": "e_NSvUaad0F2"
   },
   "outputs": [],
   "source": []
  },
  {
   "cell_type": "markdown",
   "metadata": {
    "id": "gU5Y_V_1M_Lh"
   },
   "source": [
    "## Exercícios:"
   ]
  },
  {
   "cell_type": "markdown",
   "metadata": {
    "id": "QtDY3SOQQtLX"
   },
   "source": [
    "7 - (PUC-RIO) Duas amigas estabeleceram o código abaixo para que suas mensagens não fossem lidas pelas\n",
    "demais pessoas:\n",
    "\n",
    "| Código | Caracter |\n",
    "| --- | --- |\n",
    "| 0 | ' ' |\n",
    "| 1 | a |\n",
    "| 2 | b |\n",
    "| 3 | c |\n",
    "| 4 | d |\n",
    "| 5 | e |\n",
    "| 6 | f |\n",
    "| 7 | g |\n",
    "| 8 | h |\n",
    "| 9 | i |\n",
    "| 10 | j |\n",
    "| 11 | k |\n",
    "| 12 | l |\n",
    "| 13 | m |\n",
    "| 14 | n |\n",
    "| 15 | o |\n",
    "| 16 | p |\n",
    "| 17 | q |\n",
    "| 18 | r |\n",
    "| 19 | s |\n",
    "| 20 | t |\n",
    "| 21 | u |\n",
    "| 22 | v |\n",
    "| 23 | w |\n",
    "| 24 | x |\n",
    "| 25 | y |\n",
    "| 26 | z |\n",
    "\n",
    "Observe que cada letra equivale a um número entre 1 e 26 e o espaço ao 0.\n",
    "\n",
    "Escreva procedimentos para cifrar e decifrar mensagens destas amigas."
   ]
  },
  {
   "cell_type": "code",
   "execution_count": null,
   "metadata": {
    "id": "F-6RZfqIQuQK"
   },
   "outputs": [],
   "source": []
  },
  {
   "cell_type": "markdown",
   "metadata": {
    "id": "5P_-GT5pSJGc"
   },
   "source": [
    "8 - Construa um lançador de dados em que o usuário possa escolher a quantidade de faces e a quantidade de dados lançados. Armazene todos os resultados em uma lista na qual o índice corresponde a face do dado, e mostre o resultado de cada lançameto e a soma das faces. "
   ]
  },
  {
   "cell_type": "code",
   "execution_count": null,
   "metadata": {
    "id": "VbjyAojZQTpy"
   },
   "outputs": [],
   "source": []
  },
  {
   "cell_type": "markdown",
   "metadata": {
    "id": "qyJl-gYu47b-"
   },
   "source": [
    "9 - Faça uma função que receba uma lista de números armazenados de forma\n",
    "crescente, e dois\n",
    "valores ( limite inferior e limite superior), e\n",
    "exiba\n",
    "a sublista cujos elementos são maiores ou iguais  ao  \n",
    "limite inferior e menores ou iguais ao limite superior\n",
    "\n",
    "Exemplo:\n",
    "\n",
    "lista inicial=[12,14,15,16,18,20,24,26,28,32,34,38]\n",
    "\n",
    "limite inferior=13\n",
    "\n",
    "limite superior = 26\n",
    "\n",
    "lista\n",
    "exibida:\n",
    "[14,15,16,18,20,24,26] ##Martins"
   ]
  },
  {
   "cell_type": "code",
   "execution_count": null,
   "metadata": {
    "id": "yRhOZC6U8qh2"
   },
   "outputs": [],
   "source": []
  },
  {
   "cell_type": "markdown",
   "metadata": {
    "id": "lUycSudNQLwL"
   },
   "source": [
    "11 - Uma empresa de pesquisas precisa tabular os resultados da seguinte enquete feita a um grande quantidade de organizações:\n",
    "\"Qual o melhor Sistema Operacional para uso em servidores?\"\n",
    "\n",
    "As possíveis respostas são:\n",
    "\n",
    "1. Windows Server\n",
    "2. Unix\n",
    "3. Linux\n",
    "4. Netware\n",
    "5. Mac OS\n",
    "6. Outro\n",
    "\n",
    "Você foi contratado para desenvolver um programa que leia o resultado da enquete e informe ao final o resultado da mesma. O programa deverá ler os valores até ser informado o valor 0, que encerra a entrada dos dados. Não deverão ser aceitos valores além dos válidos para o programa (0 a 6). Após os dados terem sido completamente informados, o programa deverá calcular a percentual de cada um dos concorrentes e informar o vencedor da enquete. O formato da saída foi dado pela empresa, e é o seguinte:\n",
    "\n",
    "\n",
    "Sistema Operacional /  Votos / %\n",
    "\n",
    "* Windows Server / 1500 / 17%\n",
    "* Unix / 3500 / 40%\n",
    "* Linux / 3000 / 34%\n",
    "* Netware / 500 / 5%\n",
    "* Mac OS / 150 / 2%\n",
    "* Outro / 150 / 2%\n",
    "\n",
    "Total = 8800\n",
    "\n",
    "O Sistema Operacional mais votado foi o Unix, com 3500 votos, correspondendo a 40% dos votos."
   ]
  },
  {
   "cell_type": "code",
   "execution_count": null,
   "metadata": {
    "id": "cRBgBk3oQUNW"
   },
   "outputs": [],
   "source": []
  }
 ],
 "metadata": {
  "colab": {
   "name": "Listas.ipynb",
   "provenance": [],
   "toc_visible": true
  },
  "kernelspec": {
   "display_name": "Python 3",
   "language": "python",
   "name": "python3"
  },
  "language_info": {
   "codemirror_mode": {
    "name": "ipython",
    "version": 3
   },
   "file_extension": ".py",
   "mimetype": "text/x-python",
   "name": "python",
   "nbconvert_exporter": "python",
   "pygments_lexer": "ipython3",
   "version": "3.7.4"
  }
 },
 "nbformat": 4,
 "nbformat_minor": 4
}
