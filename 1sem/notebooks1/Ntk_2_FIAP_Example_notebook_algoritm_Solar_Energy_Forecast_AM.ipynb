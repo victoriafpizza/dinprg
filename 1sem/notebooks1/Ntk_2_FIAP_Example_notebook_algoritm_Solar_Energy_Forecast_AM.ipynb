{
 "cells": [
  {
   "cell_type": "markdown",
   "metadata": {},
   "source": [
    "### This notebook deals with neural networks to forecast solar irradiation in a specific city -- Prof. André Marques -- Feb24 -- FIAP"
   ]
  },
  {
   "cell_type": "markdown",
   "metadata": {},
   "source": [
    "### Input_parameters"
   ]
  },
  {
   "cell_type": "code",
   "execution_count": 223,
   "metadata": {},
   "outputs": [],
   "source": [
    "file_path = 'bar.csv' # input data source label\n",
    "forecast_number = 30 # number of days to consider in the forecasting\n",
    "file_output = 'sgc_30dA.csv' # name of the output file\n",
    "station = 'Barcelos_30d' # name of the city"
   ]
  },
  {
   "cell_type": "markdown",
   "metadata": {},
   "source": [
    "### Import_libraries"
   ]
  },
  {
   "cell_type": "code",
   "execution_count": 224,
   "metadata": {},
   "outputs": [],
   "source": [
    "import pandas as pd # dataframe tool handler\n",
    "import numpy as np # numeric tool handler\n",
    "import matplotlib.pyplot as plt # figure plot function\n",
    "import seaborn as sns # figure plot function\n",
    "import time # to compute processing time\n",
    "from sklearn.preprocessing import MinMaxScaler\n",
    "from sklearn.neural_network import MLPRegressor\n",
    "from sklearn.model_selection import train_test_split # for dataset division\n",
    "from sklearn.metrics import mean_absolute_error, mean_squared_error, r2_score\n",
    "from sklearn.model_selection import GridSearchCV\n",
    "import gc # to clean up the local memory\n",
    "from pylab import rcParams # for figure plot"
   ]
  },
  {
   "cell_type": "markdown",
   "metadata": {},
   "source": [
    "### Functions_definition"
   ]
  },
  {
   "cell_type": "code",
   "execution_count": 225,
   "metadata": {},
   "outputs": [],
   "source": [
    "def calc_metrics(a,b):\n",
    "    # function to compute some errors based on a and b\n",
    "    # a = reference list or array\n",
    "    # b = forecast list or array\n",
    "    return {'mae' : mean_absolute_error(a, b),\n",
    "            'rmse' : mean_squared_error(a, b) ** 0.5,\n",
    "            'r2' : r2_score(a,b),\n",
    "            'mae' : mean_absolute_error(a, b)*100}\n",
    "sc1 = MinMaxScaler(feature_range=(0,1)) # math data transformation - values between 0 and 1"
   ]
  },
  {
   "cell_type": "code",
   "execution_count": 226,
   "metadata": {},
   "outputs": [],
   "source": [
    "def mape(y_true, y_pred): \n",
    "    # Mean Absolute Percentage Error (MAPE)\n",
    "    # y_true: reference value\n",
    "    # y_pred: forecast value\n",
    "    y_true, y_pred = np.array(y_true), np.array(y_pred)\n",
    "    return np.mean(np.abs((y_true - y_pred) / y_true)) * 100"
   ]
  },
  {
   "cell_type": "code",
   "execution_count": 227,
   "metadata": {},
   "outputs": [],
   "source": [
    "# Function to Calculate Result Metrics\n",
    "def result_metrics_forecast(test_series,forecast_series,model_name):\n",
    "    # model_name: math model used for forecast\n",
    "    print('Result Metrics for ' +  str(model_name))\n",
    "    print('R2 Score : ',round(r2_score(test_series,forecast_series),3))\n",
    "    print('Mean Squared Error : ',round(mean_squared_error(test_series,forecast_series),3))\n",
    "    print('Mean Absolute Error : ',round(mean_absolute_error(test_series,forecast_series),3))"
   ]
  },
  {
   "cell_type": "code",
   "execution_count": 228,
   "metadata": {},
   "outputs": [],
   "source": [
    "def plot_result(test_series,forecast_series,model_name):\n",
    "    # function to plot a figure with results\n",
    "    fig = plt.figure(figsize=(20,10))\n",
    "    sns.set(font_scale = 1.5) # size of the font\n",
    "    plt.plot (test_series.index,test_series,label='Actual')\n",
    "    plt.plot (test_series.index,forecast_series,label='Predicted')\n",
    "    plt.title(str(model_name) + ' - Forecasting'+' '+station)\n",
    "    plt.ylabel('ALLSKy_SFC_SW_DWN - kW.h/m² (day)')\n",
    "    plt.xlabel('Time - Day')\n",
    "    plt.grid(True)\n",
    "    plt.legend()\n",
    "    plt.show()"
   ]
  },
  {
   "cell_type": "code",
   "execution_count": 229,
   "metadata": {},
   "outputs": [],
   "source": [
    "# Function to compute statistics based on two reference lists\n",
    "# a = original target, b = predicted_standard, c = predicted_reconv\n",
    "def reconv (a,b):\n",
    "    mean = np.mean(a)\n",
    "    stdv = np.std(a)\n",
    "    c = b * stdv + mean\n",
    "    c = round(c,3)\n",
    "    return c"
   ]
  },
  {
   "cell_type": "code",
   "execution_count": 230,
   "metadata": {},
   "outputs": [],
   "source": [
    "# Function to evalute the overfitting\n",
    "def ovft(a,b,c,d):\n",
    "    o_train = mean_squared_error(a,b)\n",
    "    o_test = mean_squared_error (c,d)\n",
    "    if o_train > 1.25 * o_test:\n",
    "        print ('No overfitting concern')\n",
    "    else:\n",
    "        print ('Overfitting demands attention')"
   ]
  },
  {
   "cell_type": "code",
   "execution_count": 231,
   "metadata": {},
   "outputs": [],
   "source": [
    "# Function to compute the number of a specific value or position\n",
    "def data_count(df):\n",
    "    # df = df.set_index(\"date_m\", inplace = True)\n",
    "    for a in df.columns:\n",
    "        b =-999.0\n",
    "        print(a,df[a].value_counts()[b])\n",
    "    #df = df.reset_index(inplace = True)"
   ]
  },
  {
   "cell_type": "code",
   "execution_count": 232,
   "metadata": {},
   "outputs": [],
   "source": [
    "# Function to replace or substitute a specific value\n",
    "def data_replace(df):\n",
    "    # df = df.set_index(\"date_m\", inplace = True)\n",
    "    for a in df.columns:\n",
    "        z = df[a].median()\n",
    "        print(a,z)\n",
    "        b =-999.0\n",
    "        df[a] = df[a].replace(b,z)\n",
    "    # df = df.reset_index(inplace = True)"
   ]
  },
  {
   "cell_type": "markdown",
   "metadata": {},
   "source": [
    "### Plot_parameter"
   ]
  },
  {
   "cell_type": "code",
   "execution_count": 233,
   "metadata": {},
   "outputs": [
    {
     "data": {
      "text/plain": [
       "<contextlib._GeneratorContextManager at 0x21dea07a208>"
      ]
     },
     "execution_count": 233,
     "metadata": {},
     "output_type": "execute_result"
    }
   ],
   "source": [
    "rcParams['axes.labelsize'] = 12\n",
    "rcParams['xtick.labelsize'] = 12\n",
    "rcParams['ytick.labelsize'] = 12\n",
    "plt.style.context('fivethirtyeight')"
   ]
  },
  {
   "cell_type": "code",
   "execution_count": 234,
   "metadata": {},
   "outputs": [
    {
     "data": {
      "text/plain": [
       "80"
      ]
     },
     "execution_count": 234,
     "metadata": {},
     "output_type": "execute_result"
    }
   ],
   "source": [
    "gc.collect() # memory refresh"
   ]
  },
  {
   "cell_type": "markdown",
   "metadata": {},
   "source": [
    "### Data_preparation"
   ]
  },
  {
   "cell_type": "code",
   "execution_count": 235,
   "metadata": {},
   "outputs": [],
   "source": [
    "df = pd.read_csv(file_path)\n",
    "df[['date_m']] = df[['date_m']].apply(pd.to_datetime)\n",
    "df['Year'] = df['date_m'].dt.year\n",
    "df['Month'] = df['date_m'].dt.month"
   ]
  },
  {
   "cell_type": "code",
   "execution_count": 236,
   "metadata": {},
   "outputs": [
    {
     "data": {
      "text/html": [
       "<div>\n",
       "<style scoped>\n",
       "    .dataframe tbody tr th:only-of-type {\n",
       "        vertical-align: middle;\n",
       "    }\n",
       "\n",
       "    .dataframe tbody tr th {\n",
       "        vertical-align: top;\n",
       "    }\n",
       "\n",
       "    .dataframe thead th {\n",
       "        text-align: right;\n",
       "    }\n",
       "</style>\n",
       "<table border=\"1\" class=\"dataframe\">\n",
       "  <thead>\n",
       "    <tr style=\"text-align: right;\">\n",
       "      <th></th>\n",
       "      <th>level_0</th>\n",
       "      <th>index</th>\n",
       "      <th>date_m</th>\n",
       "      <th>ALLSKY_SFC_SW_DWN</th>\n",
       "      <th>ALLSKY_KT</th>\n",
       "      <th>T2M</th>\n",
       "      <th>PRECTOTCORR</th>\n",
       "      <th>RH2M</th>\n",
       "      <th>PS</th>\n",
       "      <th>WS10M</th>\n",
       "      <th>WD10M</th>\n",
       "      <th>Year</th>\n",
       "      <th>Month</th>\n",
       "    </tr>\n",
       "  </thead>\n",
       "  <tbody>\n",
       "    <tr>\n",
       "      <th>0</th>\n",
       "      <td>0</td>\n",
       "      <td>0</td>\n",
       "      <td>2013-01-01</td>\n",
       "      <td>4.09</td>\n",
       "      <td>0.41</td>\n",
       "      <td>25.98</td>\n",
       "      <td>5.67</td>\n",
       "      <td>92.12</td>\n",
       "      <td>100.02</td>\n",
       "      <td>0.59</td>\n",
       "      <td>100.88</td>\n",
       "      <td>2013</td>\n",
       "      <td>1</td>\n",
       "    </tr>\n",
       "    <tr>\n",
       "      <th>1</th>\n",
       "      <td>1</td>\n",
       "      <td>1</td>\n",
       "      <td>2013-01-02</td>\n",
       "      <td>4.29</td>\n",
       "      <td>0.43</td>\n",
       "      <td>25.44</td>\n",
       "      <td>11.37</td>\n",
       "      <td>95.50</td>\n",
       "      <td>100.00</td>\n",
       "      <td>0.59</td>\n",
       "      <td>219.19</td>\n",
       "      <td>2013</td>\n",
       "      <td>1</td>\n",
       "    </tr>\n",
       "  </tbody>\n",
       "</table>\n",
       "</div>"
      ],
      "text/plain": [
       "   level_0  index     date_m  ALLSKY_SFC_SW_DWN  ALLSKY_KT    T2M  \\\n",
       "0        0      0 2013-01-01               4.09       0.41  25.98   \n",
       "1        1      1 2013-01-02               4.29       0.43  25.44   \n",
       "\n",
       "   PRECTOTCORR   RH2M      PS  WS10M   WD10M  Year  Month  \n",
       "0         5.67  92.12  100.02   0.59  100.88  2013      1  \n",
       "1        11.37  95.50  100.00   0.59  219.19  2013      1  "
      ]
     },
     "execution_count": 236,
     "metadata": {},
     "output_type": "execute_result"
    }
   ],
   "source": [
    "df.head(2)"
   ]
  },
  {
   "cell_type": "code",
   "execution_count": 237,
   "metadata": {},
   "outputs": [
    {
     "name": "stdout",
     "output_type": "stream",
     "text": [
      "<class 'pandas.core.frame.DataFrame'>\n",
      "RangeIndex: 3741 entries, 0 to 3740\n",
      "Data columns (total 13 columns):\n",
      " #   Column             Non-Null Count  Dtype         \n",
      "---  ------             --------------  -----         \n",
      " 0   level_0            3741 non-null   int64         \n",
      " 1   index              3741 non-null   int64         \n",
      " 2   date_m             3741 non-null   datetime64[ns]\n",
      " 3   ALLSKY_SFC_SW_DWN  3741 non-null   float64       \n",
      " 4   ALLSKY_KT          3741 non-null   float64       \n",
      " 5   T2M                3741 non-null   float64       \n",
      " 6   PRECTOTCORR        3741 non-null   float64       \n",
      " 7   RH2M               3741 non-null   float64       \n",
      " 8   PS                 3741 non-null   float64       \n",
      " 9   WS10M              3741 non-null   float64       \n",
      " 10  WD10M              3741 non-null   float64       \n",
      " 11  Year               3741 non-null   int64         \n",
      " 12  Month              3741 non-null   int64         \n",
      "dtypes: datetime64[ns](1), float64(8), int64(4)\n",
      "memory usage: 380.1 KB\n"
     ]
    }
   ],
   "source": [
    "df.info()"
   ]
  },
  {
   "cell_type": "code",
   "execution_count": 256,
   "metadata": {},
   "outputs": [
    {
     "data": {
      "text/html": [
       "<div>\n",
       "<style scoped>\n",
       "    .dataframe tbody tr th:only-of-type {\n",
       "        vertical-align: middle;\n",
       "    }\n",
       "\n",
       "    .dataframe tbody tr th {\n",
       "        vertical-align: top;\n",
       "    }\n",
       "\n",
       "    .dataframe thead th {\n",
       "        text-align: right;\n",
       "    }\n",
       "</style>\n",
       "<table border=\"1\" class=\"dataframe\">\n",
       "  <thead>\n",
       "    <tr style=\"text-align: right;\">\n",
       "      <th></th>\n",
       "      <th>level_0</th>\n",
       "      <th>index</th>\n",
       "      <th>ALLSKY_SFC_SW_DWN</th>\n",
       "      <th>ALLSKY_KT</th>\n",
       "      <th>T2M</th>\n",
       "      <th>PRECTOTCORR</th>\n",
       "      <th>RH2M</th>\n",
       "      <th>PS</th>\n",
       "      <th>WS10M</th>\n",
       "      <th>WD10M</th>\n",
       "      <th>Year</th>\n",
       "      <th>Month</th>\n",
       "    </tr>\n",
       "  </thead>\n",
       "  <tbody>\n",
       "    <tr>\n",
       "      <th>count</th>\n",
       "      <td>3741.000000</td>\n",
       "      <td>3741.000000</td>\n",
       "      <td>3741.000000</td>\n",
       "      <td>3741.000000</td>\n",
       "      <td>3741.000000</td>\n",
       "      <td>3741.000000</td>\n",
       "      <td>3741.000000</td>\n",
       "      <td>3741.000000</td>\n",
       "      <td>3741.000000</td>\n",
       "      <td>3741.000000</td>\n",
       "      <td>3741.000000</td>\n",
       "      <td>3741.000000</td>\n",
       "    </tr>\n",
       "    <tr>\n",
       "      <th>mean</th>\n",
       "      <td>1870.000000</td>\n",
       "      <td>1870.000000</td>\n",
       "      <td>4.826538</td>\n",
       "      <td>0.484542</td>\n",
       "      <td>26.205825</td>\n",
       "      <td>5.883708</td>\n",
       "      <td>89.148161</td>\n",
       "      <td>100.102163</td>\n",
       "      <td>0.719244</td>\n",
       "      <td>130.052876</td>\n",
       "      <td>2017.631115</td>\n",
       "      <td>6.415664</td>\n",
       "    </tr>\n",
       "    <tr>\n",
       "      <th>std</th>\n",
       "      <td>1080.078006</td>\n",
       "      <td>1080.078006</td>\n",
       "      <td>1.147928</td>\n",
       "      <td>0.106920</td>\n",
       "      <td>1.365059</td>\n",
       "      <td>7.264232</td>\n",
       "      <td>7.838259</td>\n",
       "      <td>0.166393</td>\n",
       "      <td>0.123436</td>\n",
       "      <td>51.717751</td>\n",
       "      <td>2.959122</td>\n",
       "      <td>3.479452</td>\n",
       "    </tr>\n",
       "    <tr>\n",
       "      <th>min</th>\n",
       "      <td>0.000000</td>\n",
       "      <td>0.000000</td>\n",
       "      <td>0.800000</td>\n",
       "      <td>0.080000</td>\n",
       "      <td>23.210000</td>\n",
       "      <td>0.000000</td>\n",
       "      <td>43.560000</td>\n",
       "      <td>99.600000</td>\n",
       "      <td>0.310000</td>\n",
       "      <td>23.250000</td>\n",
       "      <td>2013.000000</td>\n",
       "      <td>1.000000</td>\n",
       "    </tr>\n",
       "    <tr>\n",
       "      <th>25%</th>\n",
       "      <td>935.000000</td>\n",
       "      <td>935.000000</td>\n",
       "      <td>4.160000</td>\n",
       "      <td>0.430000</td>\n",
       "      <td>25.430000</td>\n",
       "      <td>0.990000</td>\n",
       "      <td>88.250000</td>\n",
       "      <td>99.990000</td>\n",
       "      <td>0.630000</td>\n",
       "      <td>95.500000</td>\n",
       "      <td>2015.000000</td>\n",
       "      <td>3.000000</td>\n",
       "    </tr>\n",
       "    <tr>\n",
       "      <th>50%</th>\n",
       "      <td>1870.000000</td>\n",
       "      <td>1870.000000</td>\n",
       "      <td>4.960000</td>\n",
       "      <td>0.480000</td>\n",
       "      <td>25.930000</td>\n",
       "      <td>3.690000</td>\n",
       "      <td>91.310000</td>\n",
       "      <td>100.100000</td>\n",
       "      <td>0.720000</td>\n",
       "      <td>116.560000</td>\n",
       "      <td>2018.000000</td>\n",
       "      <td>6.000000</td>\n",
       "    </tr>\n",
       "    <tr>\n",
       "      <th>75%</th>\n",
       "      <td>2805.000000</td>\n",
       "      <td>2805.000000</td>\n",
       "      <td>5.680000</td>\n",
       "      <td>0.560000</td>\n",
       "      <td>26.510000</td>\n",
       "      <td>8.080000</td>\n",
       "      <td>93.560000</td>\n",
       "      <td>100.210000</td>\n",
       "      <td>0.800000</td>\n",
       "      <td>154.880000</td>\n",
       "      <td>2020.000000</td>\n",
       "      <td>9.000000</td>\n",
       "    </tr>\n",
       "    <tr>\n",
       "      <th>max</th>\n",
       "      <td>3740.000000</td>\n",
       "      <td>3740.000000</td>\n",
       "      <td>7.140000</td>\n",
       "      <td>0.710000</td>\n",
       "      <td>34.060000</td>\n",
       "      <td>94.750000</td>\n",
       "      <td>99.000000</td>\n",
       "      <td>100.640000</td>\n",
       "      <td>1.160000</td>\n",
       "      <td>332.440000</td>\n",
       "      <td>2023.000000</td>\n",
       "      <td>12.000000</td>\n",
       "    </tr>\n",
       "  </tbody>\n",
       "</table>\n",
       "</div>"
      ],
      "text/plain": [
       "           level_0        index  ALLSKY_SFC_SW_DWN    ALLSKY_KT          T2M  \\\n",
       "count  3741.000000  3741.000000        3741.000000  3741.000000  3741.000000   \n",
       "mean   1870.000000  1870.000000           4.826538     0.484542    26.205825   \n",
       "std    1080.078006  1080.078006           1.147928     0.106920     1.365059   \n",
       "min       0.000000     0.000000           0.800000     0.080000    23.210000   \n",
       "25%     935.000000   935.000000           4.160000     0.430000    25.430000   \n",
       "50%    1870.000000  1870.000000           4.960000     0.480000    25.930000   \n",
       "75%    2805.000000  2805.000000           5.680000     0.560000    26.510000   \n",
       "max    3740.000000  3740.000000           7.140000     0.710000    34.060000   \n",
       "\n",
       "       PRECTOTCORR         RH2M           PS        WS10M        WD10M  \\\n",
       "count  3741.000000  3741.000000  3741.000000  3741.000000  3741.000000   \n",
       "mean      5.883708    89.148161   100.102163     0.719244   130.052876   \n",
       "std       7.264232     7.838259     0.166393     0.123436    51.717751   \n",
       "min       0.000000    43.560000    99.600000     0.310000    23.250000   \n",
       "25%       0.990000    88.250000    99.990000     0.630000    95.500000   \n",
       "50%       3.690000    91.310000   100.100000     0.720000   116.560000   \n",
       "75%       8.080000    93.560000   100.210000     0.800000   154.880000   \n",
       "max      94.750000    99.000000   100.640000     1.160000   332.440000   \n",
       "\n",
       "              Year        Month  \n",
       "count  3741.000000  3741.000000  \n",
       "mean   2017.631115     6.415664  \n",
       "std       2.959122     3.479452  \n",
       "min    2013.000000     1.000000  \n",
       "25%    2015.000000     3.000000  \n",
       "50%    2018.000000     6.000000  \n",
       "75%    2020.000000     9.000000  \n",
       "max    2023.000000    12.000000  "
      ]
     },
     "execution_count": 256,
     "metadata": {},
     "output_type": "execute_result"
    }
   ],
   "source": [
    "df.describe()"
   ]
  },
  {
   "cell_type": "code",
   "execution_count": 257,
   "metadata": {},
   "outputs": [],
   "source": [
    "df1 = df\n",
    "df1 = df1.set_index('date_m')\n",
    "df1 = df1[['ALLSKY_SFC_SW_DWN', 'ALLSKY_KT','T2M','PRECTOTCORR','RH2M','PS','WS10M','WD10M','Year','Month']]"
   ]
  },
  {
   "cell_type": "code",
   "execution_count": 258,
   "metadata": {},
   "outputs": [
    {
     "data": {
      "text/html": [
       "<div>\n",
       "<style scoped>\n",
       "    .dataframe tbody tr th:only-of-type {\n",
       "        vertical-align: middle;\n",
       "    }\n",
       "\n",
       "    .dataframe tbody tr th {\n",
       "        vertical-align: top;\n",
       "    }\n",
       "\n",
       "    .dataframe thead th {\n",
       "        text-align: right;\n",
       "    }\n",
       "</style>\n",
       "<table border=\"1\" class=\"dataframe\">\n",
       "  <thead>\n",
       "    <tr style=\"text-align: right;\">\n",
       "      <th></th>\n",
       "      <th>ALLSKY_SFC_SW_DWN</th>\n",
       "      <th>ALLSKY_KT</th>\n",
       "      <th>T2M</th>\n",
       "      <th>PRECTOTCORR</th>\n",
       "      <th>RH2M</th>\n",
       "      <th>PS</th>\n",
       "      <th>WS10M</th>\n",
       "      <th>WD10M</th>\n",
       "      <th>Year</th>\n",
       "      <th>Month</th>\n",
       "    </tr>\n",
       "    <tr>\n",
       "      <th>date_m</th>\n",
       "      <th></th>\n",
       "      <th></th>\n",
       "      <th></th>\n",
       "      <th></th>\n",
       "      <th></th>\n",
       "      <th></th>\n",
       "      <th></th>\n",
       "      <th></th>\n",
       "      <th></th>\n",
       "      <th></th>\n",
       "    </tr>\n",
       "  </thead>\n",
       "  <tbody>\n",
       "    <tr>\n",
       "      <th>2013-01-01</th>\n",
       "      <td>4.09</td>\n",
       "      <td>0.41</td>\n",
       "      <td>25.98</td>\n",
       "      <td>5.67</td>\n",
       "      <td>92.12</td>\n",
       "      <td>100.02</td>\n",
       "      <td>0.59</td>\n",
       "      <td>100.88</td>\n",
       "      <td>2013</td>\n",
       "      <td>1</td>\n",
       "    </tr>\n",
       "    <tr>\n",
       "      <th>2013-01-02</th>\n",
       "      <td>4.29</td>\n",
       "      <td>0.43</td>\n",
       "      <td>25.44</td>\n",
       "      <td>11.37</td>\n",
       "      <td>95.50</td>\n",
       "      <td>100.00</td>\n",
       "      <td>0.59</td>\n",
       "      <td>219.19</td>\n",
       "      <td>2013</td>\n",
       "      <td>1</td>\n",
       "    </tr>\n",
       "  </tbody>\n",
       "</table>\n",
       "</div>"
      ],
      "text/plain": [
       "            ALLSKY_SFC_SW_DWN  ALLSKY_KT    T2M  PRECTOTCORR   RH2M      PS  \\\n",
       "date_m                                                                        \n",
       "2013-01-01               4.09       0.41  25.98         5.67  92.12  100.02   \n",
       "2013-01-02               4.29       0.43  25.44        11.37  95.50  100.00   \n",
       "\n",
       "            WS10M   WD10M  Year  Month  \n",
       "date_m                                  \n",
       "2013-01-01   0.59  100.88  2013      1  \n",
       "2013-01-02   0.59  219.19  2013      1  "
      ]
     },
     "execution_count": 258,
     "metadata": {},
     "output_type": "execute_result"
    }
   ],
   "source": [
    "df1.head(2)"
   ]
  },
  {
   "cell_type": "code",
   "execution_count": 259,
   "metadata": {},
   "outputs": [
    {
     "name": "stdout",
     "output_type": "stream",
     "text": [
      "ALLSKY_SFC_SW_DWN 4.96\n",
      "ALLSKY_KT 0.48\n",
      "T2M 25.93\n",
      "PRECTOTCORR 3.69\n",
      "RH2M 91.31\n",
      "PS 100.1\n",
      "WS10M 0.72\n",
      "WD10M 116.56\n",
      "Year 2018.0\n",
      "Month 6.0\n"
     ]
    }
   ],
   "source": [
    "data_replace(df1)"
   ]
  },
  {
   "cell_type": "markdown",
   "metadata": {},
   "source": [
    "### Train_test_split"
   ]
  },
  {
   "cell_type": "code",
   "execution_count": 260,
   "metadata": {},
   "outputs": [
    {
     "name": "stdout",
     "output_type": "stream",
     "text": [
      "3741 3711 30\n"
     ]
    }
   ],
   "source": [
    "a = forecast_number\n",
    "train = int(len(df) - a)\n",
    "test = a\n",
    "print(len(df), train,test)"
   ]
  },
  {
   "cell_type": "code",
   "execution_count": 261,
   "metadata": {},
   "outputs": [],
   "source": [
    "train = df1.iloc[0:3711, :]\n",
    "test = df1.iloc[3711:, :]"
   ]
  },
  {
   "cell_type": "code",
   "execution_count": 262,
   "metadata": {},
   "outputs": [
    {
     "data": {
      "text/html": [
       "<div>\n",
       "<style scoped>\n",
       "    .dataframe tbody tr th:only-of-type {\n",
       "        vertical-align: middle;\n",
       "    }\n",
       "\n",
       "    .dataframe tbody tr th {\n",
       "        vertical-align: top;\n",
       "    }\n",
       "\n",
       "    .dataframe thead th {\n",
       "        text-align: right;\n",
       "    }\n",
       "</style>\n",
       "<table border=\"1\" class=\"dataframe\">\n",
       "  <thead>\n",
       "    <tr style=\"text-align: right;\">\n",
       "      <th></th>\n",
       "      <th>ALLSKY_SFC_SW_DWN</th>\n",
       "      <th>ALLSKY_KT</th>\n",
       "      <th>T2M</th>\n",
       "      <th>PRECTOTCORR</th>\n",
       "      <th>RH2M</th>\n",
       "      <th>PS</th>\n",
       "      <th>WS10M</th>\n",
       "      <th>WD10M</th>\n",
       "      <th>Year</th>\n",
       "      <th>Month</th>\n",
       "    </tr>\n",
       "    <tr>\n",
       "      <th>date_m</th>\n",
       "      <th></th>\n",
       "      <th></th>\n",
       "      <th></th>\n",
       "      <th></th>\n",
       "      <th></th>\n",
       "      <th></th>\n",
       "      <th></th>\n",
       "      <th></th>\n",
       "      <th></th>\n",
       "      <th></th>\n",
       "    </tr>\n",
       "  </thead>\n",
       "  <tbody>\n",
       "    <tr>\n",
       "      <th>2023-03-29</th>\n",
       "      <td>4.96</td>\n",
       "      <td>0.48</td>\n",
       "      <td>25.93</td>\n",
       "      <td>3.69</td>\n",
       "      <td>91.31</td>\n",
       "      <td>100.1</td>\n",
       "      <td>0.72</td>\n",
       "      <td>116.56</td>\n",
       "      <td>2023</td>\n",
       "      <td>3</td>\n",
       "    </tr>\n",
       "    <tr>\n",
       "      <th>2023-03-30</th>\n",
       "      <td>4.96</td>\n",
       "      <td>0.48</td>\n",
       "      <td>25.93</td>\n",
       "      <td>3.69</td>\n",
       "      <td>91.31</td>\n",
       "      <td>100.1</td>\n",
       "      <td>0.72</td>\n",
       "      <td>116.56</td>\n",
       "      <td>2023</td>\n",
       "      <td>3</td>\n",
       "    </tr>\n",
       "  </tbody>\n",
       "</table>\n",
       "</div>"
      ],
      "text/plain": [
       "            ALLSKY_SFC_SW_DWN  ALLSKY_KT    T2M  PRECTOTCORR   RH2M     PS  \\\n",
       "date_m                                                                       \n",
       "2023-03-29               4.96       0.48  25.93         3.69  91.31  100.1   \n",
       "2023-03-30               4.96       0.48  25.93         3.69  91.31  100.1   \n",
       "\n",
       "            WS10M   WD10M  Year  Month  \n",
       "date_m                                  \n",
       "2023-03-29   0.72  116.56  2023      3  \n",
       "2023-03-30   0.72  116.56  2023      3  "
      ]
     },
     "execution_count": 262,
     "metadata": {},
     "output_type": "execute_result"
    }
   ],
   "source": [
    "test.tail(2)"
   ]
  }
 ],
 "metadata": {
  "kernelspec": {
   "display_name": "Python 3",
   "language": "python",
   "name": "python3"
  },
  "language_info": {
   "codemirror_mode": {
    "name": "ipython",
    "version": 3
   },
   "file_extension": ".py",
   "mimetype": "text/x-python",
   "name": "python",
   "nbconvert_exporter": "python",
   "pygments_lexer": "ipython3",
   "version": "3.7.4"
  }
 },
 "nbformat": 4,
 "nbformat_minor": 2
}
