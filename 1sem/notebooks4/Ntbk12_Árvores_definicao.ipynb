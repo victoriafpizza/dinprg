{
  "cells": [
    {
      "cell_type": "markdown",
      "metadata": {
        "id": "LFquYPImCGo4"
      },
      "source": [
        "# Árvores em Python: O que são e como se organizam."
      ]
    },
    {
      "cell_type": "markdown",
      "metadata": {
        "id": "gcGOl22GGzWv"
      },
      "source": [
        "  Em computação, o termo 'Tree' é uma estrutura de dados que tem como principal utilidade o fato de cada dado estar ligado a outro de forma hierarquica.\n",
        "De certa forma, as Trees se organizam como as árvores da natureza, tanto que daí vem o nome \"Tree\", com a diferença de começarem a partir das raízes e irem descendo até as folhas.\n",
        "As relações entre os itens podem ser operações booleanas, matemáticas ou mistas.\n",
        "\n",
        "\n",
        "![Upside down tree model](https://cdn-images-1.medium.com/max/347/1*h3koGce0YA7XP_xuAcZisg.png \"Exemplo ilustratório\")\n",
        "\n",
        "Em computação, a palavra \"árvore\" (\"*tree*\", em inglês) é usada para uma organização em hierarquia dos dados.\n",
        "Nas árvores, temos nódulos (\"*nodes*\", em inglês) com ligações para outros nodes, e eles são os dados que queremos organizar.\n",
        "A raíz, \"*root*\", é o nódulo original, de onde todos os outros partem. Os termos \"*child*\" (plural \"*children*\"), \"*parent*\" (plural \"*parents*\") e \"sibling\" (plural \"*siblings*\") correspondem a \"filho\", \"pai\" e \"irmão\", respectivamente.\n",
        "Estes ilustram a organização vertical da arvore, onde os nodes que dão origem a outros (abaixo dele) são \"pais\", os que surgem dele, seus \"filhos\" e filhos de um mesmo pai são \"irmãos\".\n",
        "Por fim, \"*leaf*\" (plural \"*leaves*\") é o termo usado para um node \"final\" que não é pai de nenhum outro, da mesma forma que não surgem galhos a partir das folhas de uma árvore.  \n",
        "Nas árvores, cada node ***pode*** ter um ou mais nodes abaixo dele (filhos) mas somente um acima (pai).\n",
        "As 'Trees' representam relações matemáticas entre os itens. Quanto mais complexa é a relação, maior o número de níveis da 'Tree'.\n",
        "\n",
        "![Model](https://i.ytimg.com/vi/qH6yxkw0u78/maxresdefault.jpg \"Esquema de uma 'tree'\")\n",
        "\n",
        "Python não tem um suporte já pronto para essa estrutura de dados, então usaremos uma biblioteca para facilitar o uso de 'trees'. A biblioteca selecionada é \"*[anytree](https://pypi.org/project/anytree/)*\". ***(como python depende de bibliotecas para usar trees, os comandos variam dependendo de sua escolha e são de menor importância para seu aprendizado)***\n",
        "\n",
        "*** INSTALE A BIBLIOTECA INDICADA\n",
        "documentacao = https://anytree.readthedocs.io/en/latest/***"
      ]
    },
    {
      "cell_type": "markdown",
      "metadata": {},
      "source": [
        "As arvores são estruturas de decisoões em consequencias. Elas são usadas para organizar dados entre eles.\n",
        "Eles tem hierarquia de operações. Começando com o arquivo inicializador. \n",
        "Na horizontal eles tem a mesma hierarquia. Mas na vetical a hierarquia deles muda. \n",
        "As arvores permitem a gente a trabalhar com dimensões. \n",
        "As matrizes ajudam a colocar as dimensões nos dados \n",
        "As opçoes são binarias, porque depende de quantas opções temos em cada divisão. \n",
        "\n",
        "Podemos colocar uma regra binaria, onde ele pode orgnizar os dados em formas de tamanho. \n",
        "Podemos montar um banco de dados \n",
        "Puxamos um banco de dados que são organizados em uma arvore de decisão.\n",
        "Não se usa listas pois elas são unidimensionais. \n",
        "PREDIÇÃO OU CLASSIFICAÇÃO  \n",
        "\n",
        "DATAFRAMES - duas ou mais dimensões. As arvores sçao boas para trabalharmos com uma ou mais dimensões. \n",
        "É importante estabelercer colunas como as mais importantes. Junto com as probabilidades, a maior probabilidade é a que manda mais. \n",
        "- TENTAR TODAS AS OUTRAS COMBINAÇÕES \n",
        "- Necessário definir as raizes\n",
        "\n",
        "Probabilidade - futuro \n",
        "Estatisticas - passado \n",
        "\n",
        "TEOREMA DE BAYES \n",
        "\n",
        "P(a) = Pb * P(A/B) #A só acontece porque B não aconteceu \n",
        "\n",
        "MATRIZ DE CONFUSÃO - QUANTOS % ELE ACERTA\n",
        "\n",
        "Os galhos não se encontram, nem se juntam. Eles sempre estão divididos. "
      ]
    },
    {
      "cell_type": "code",
      "execution_count": null,
      "metadata": {
        "id": "O1RvDxkuRSjg"
      },
      "outputs": [],
      "source": [
        "# SEMPRE rode isso quando abrir o notebook para garantir que irá funcionar apropriadamente\n",
        "# !pip install anytree\n",
        "# !pip install --user anytree  [for the case without any privelege or action.]"
      ]
    },
    {
      "cell_type": "markdown",
      "metadata": {
        "id": "TAo0w9-Nf9_F"
      },
      "source": [
        "# Métodos"
      ]
    },
    {
      "cell_type": "markdown",
      "metadata": {
        "id": "PvIFsqmpgFbk"
      },
      "source": [
        "Importemos alguns elementos de nossa biblioteca, no comando abaixo."
      ]
    },
    {
      "cell_type": "code",
      "execution_count": null,
      "metadata": {
        "id": "Z8OvrC-cgtoW"
      },
      "outputs": [],
      "source": [
        "from anytree import Node, RenderTree"
      ]
    },
    {
      "cell_type": "markdown",
      "metadata": {
        "id": "8I5uYB48gtK8"
      },
      "source": [
        "Criemos um *node*. A sintaxe usada pela \"anytree\" é:\n",
        "> node_name = Node(node_data, parent = node_parent)\n",
        "\n"
      ]
    },
    {
      "cell_type": "code",
      "execution_count": null,
      "metadata": {
        "id": "OY_6oXdDiKis"
      },
      "outputs": [],
      "source": [
        "pessoas = Node(\"Pessoas\") #criando o node root"
      ]
    },
    {
      "cell_type": "markdown",
      "metadata": {
        "id": "eZFFmL3pi4E0"
      },
      "source": [
        "Atenção:'pessoas' [minúsculo] é o nome pelo qual iremos identificar o node dentro do código, e a string 'Pessoas' é o conteúdo de tal node. Percebeu que faltou a parte\n",
        "> ' `, parent = ~node-parent~` ' ?\n",
        "\n",
        "Como estamos criando o primeiro node, o root, ele não pode/deve ter nenhum pai.\n",
        "\n",
        "Agora, criaremos mais nodes para a árvore!"
      ]
    },
    {
      "cell_type": "markdown",
      "metadata": {},
      "source": [
        "ASSOCIAÇÃO \n",
        "\n",
        "pais, filhos, irmaos e etc \n"
      ]
    },
    {
      "cell_type": "code",
      "execution_count": null,
      "metadata": {
        "id": "IgmNNR5Qn22D"
      },
      "outputs": [],
      "source": [
        "estudantes = Node(\"Estudantes\", parent = pessoas)                           #\n",
        "\n",
        "aluno_1 = Node(\"Aluno 1\", parent = estudantes)                              #\n",
        "\n",
        "elementos_pessoais = Node(\"Informações pessoais\", parent = aluno_1)         #\n",
        "elementos_academicos = Node(\"Dados academicos\", parent = aluno_1)           #\n",
        "\n",
        "matricula = Node(123456789, parent = elementos_pessoais)                    #\n",
        "nome = Node(\"Joãozinho\", parent = elementos_pessoais)                       #\n",
        "endereco = Node(\"Rua dos bobos nº0\", parent = elementos_pessoais)           #\n",
        "\n",
        "cursos = Node(\"Disciplinas\", parent = elementos_academicos)                 #\n",
        "projetos = Node(\"Projetos acadêmicos\", parent = elementos_academicos)       #\n",
        "\n",
        "edb =  Node(\"Estrutura de Dados Básicas\", parent = cursos)                  #\n",
        "fmc2 = Node(\"FMC II\", parent = cursos)\n",
        "lp1 = Node(\"Linguagem de Programação I\", parent = cursos)                   #"
      ]
    },
    {
      "cell_type": "markdown",
      "metadata": {
        "id": "bDi-sRVgW7Jp"
      },
      "source": [
        "Vejamos como ficou nossa 'Tree' estudantes"
      ]
    },
    {
      "cell_type": "code",
      "execution_count": null,
      "metadata": {
        "id": "9nzDeNO0XCWy"
      },
      "outputs": [],
      "source": [
        "print(RenderTree(estudantes)) #usamos a função RenderTree para printar nossa Tree. Usamos como parâmetro o primeiro Node que desejamos printar, e a função vai printar ele e todas as suas Children"
      ]
    },
    {
      "cell_type": "markdown",
      "metadata": {
        "id": "qmepfQ2NnQMq"
      },
      "source": [
        "Adicionemos um outro tipo de Node, o AnyNode. A única diferença em relação a estrutura é que enquanto o 'Node' demanda obrigatoriamente um nome, o AnyNode não o faz. Além disso o AnyNode tem uma forma de 'printar' um pouco diferente."
      ]
    },
    {
      "cell_type": "markdown",
      "metadata": {
        "id": "Rm5C260jYCNT"
      },
      "source": [
        "Neste outro exemplo, atribuimos outros atributos aos Nodes. Podemos atribuir quantos atributos quisermos  e podemos usar qualquer tipo, seja int, float, string, lista..."
      ]
    },
    {
      "cell_type": "code",
      "execution_count": null,
      "metadata": {
        "id": "-DdnUSgWnmhn"
      },
      "outputs": [],
      "source": [
        "from anytree import AnyNode"
      ]
    },
    {
      "cell_type": "code",
      "execution_count": null,
      "metadata": {
        "id": "PvQI80pGXtep"
      },
      "outputs": [],
      "source": [
        "subtenente=AnyNode(Patente=\"Subtenente\",salario=\"6169,00\",categoria=\"Praças\",tarefas=[\"Orientar o treino\",\"Receber o general\"])\n",
        "\n",
        "sargento=AnyNode(Patente=\"Primeiro Sargento\",salario=\"5483,00\",categoria=\"Praças\",parent=subtenente)\n",
        "\n",
        "taifeiro_mor=AnyNode(Patente=\"taifeiro_mor\",salario=\"2627,00\",categoria=\"Praças\",parent=sargento)\n",
        "cabo=AnyNode(Patente=\"cabo\",salario=\"2627,00\",categoria=\"Praças\",parent=sargento)\n",
        "\n",
        "taifeiro_1classe=AnyNode(Patente=\"taifeiro de primeira classe\",salario=\"2325,00\",categoria=\"Praças\",parent=taifeiro_mor)\n",
        "taifeiro_2classe=AnyNode(Patente=\"taifeiro de segunda classe\",salario=\"2210,00\",categoria=\"Praças\",parent=taifeiro_1classe)\n",
        "soldado=AnyNode(Patente=\"Soldado\",salario=\"1560,00\",categoria=\"Praças\",parent=cabo)"
      ]
    },
    {
      "cell_type": "markdown",
      "metadata": {
        "id": "-JOumxbba9em"
      },
      "source": [
        "Vejamos como ficou:\n",
        "(lembrando que isso é só uma aproximação da hierarquia, no caso -  militar)"
      ]
    },
    {
      "cell_type": "code",
      "execution_count": null,
      "metadata": {
        "id": "P_Y7uDLIa17n"
      },
      "outputs": [],
      "source": [
        "print(RenderTree(subtenente))"
      ]
    },
    {
      "cell_type": "markdown",
      "metadata": {
        "id": "Q6SXp9YYbgOd"
      },
      "source": [
        "Precisando considerar um node de maior hierarquia, como se fosse um novo 'pai', devemos adicionar um Parent ao Node subtenente."
      ]
    },
    {
      "cell_type": "code",
      "execution_count": null,
      "metadata": {
        "id": "1gUdGYGQcM77"
      },
      "outputs": [],
      "source": [
        "primeiro_tenente=AnyNode(Patente=\"Primeiro tenente\",salario=\"7796,00\",categoria=\"Oficiais subalternos\",tarefas=[\"Comandar o pelotão\",\"gerenciar o quartel número 4\"])\n",
        "segundo_tenente=AnyNode(Patente=\"Segundo tenente\",salario=\"7490,00\",categoria=\"Oficiais subalternos\",parent=primeiro_tenente, taferas=[\"Auxiliar na gerencia do quartel número 4\"])\n",
        "aspirante_a_oficial=AnyNode(Patente=\"Aspirante a oficial\",salario=\"6993,00\",categoria=\"Oficiais subalternos\",parent=primeiro_tenente, taferas=[\"Auxiliar no comando do pelotão\"])\n",
        "#agora adicionando os oficiais à nossa tree:\n",
        "subtenente.parent=aspirante_a_oficial\n"
      ]
    },
    {
      "cell_type": "code",
      "execution_count": null,
      "metadata": {
        "id": "zjG7zo8Fddra"
      },
      "outputs": [],
      "source": [
        "print(RenderTree(primeiro_tenente))"
      ]
    },
    {
      "cell_type": "markdown",
      "metadata": {
        "id": "AD9Pi5N-duHP"
      },
      "source": [
        "Vejamos a linha hierárquica abaixo de 'sargento', desejando saber em quem se pode comandar, vejamos:"
      ]
    },
    {
      "cell_type": "code",
      "execution_count": null,
      "metadata": {
        "id": "2noauV58evVk"
      },
      "outputs": [],
      "source": [
        "print(RenderTree(sargento))"
      ]
    },
    {
      "cell_type": "markdown",
      "metadata": {
        "id": "UraK709OelTk"
      },
      "source": [
        "# Exercícios de fixação"
      ]
    },
    {
      "cell_type": "markdown",
      "metadata": {
        "id": "-_Siobi-Jx-E"
      },
      "source": [
        "Criemos uma árvore simples, importando os seguintes elementos:"
      ]
    },
    {
      "cell_type": "markdown",
      "metadata": {
        "id": "r4k2b4qYhsMb"
      },
      "source": [
        " ***Primeiro exercício: ***\n",
        "\n",
        "   Faça uma Tree com as últimas três gerações masculinas de sua família (seu avô, tios-avô, pai, tios, etc...)"
      ]
    },
    {
      "cell_type": "code",
      "execution_count": null,
      "metadata": {
        "id": "fHPiKNjiRYEn"
      },
      "outputs": [],
      "source": [
        "#primeiro exercício"
      ]
    },
    {
      "cell_type": "markdown",
      "metadata": {
        "id": "Er0LmB5rpM--"
      },
      "source": [
        "Agora vamos aprender outra forma, uma mais rápida, de criar Trees.\n",
        "\n",
        "\n",
        "O método children (usando como exemplo uma versão simplificada  da hierarquia católica). Observa a estruturação dos parênteses e colchetes:\n"
      ]
    },
    {
      "cell_type": "code",
      "execution_count": null,
      "metadata": {
        "id": "1hA7X2HQll8U"
      },
      "outputs": [],
      "source": [
        "Papa = AnyNode(nome=\"Papa\",children=[\n",
        "    AnyNode(nome=\"Arcebispo\",children=[\n",
        "        AnyNode(nome=\"Bispo\",children=[\n",
        "            AnyNode(nome=\"Padre Vigário\"),AnyNode(nome=\"Padre Paroco\",children=[AnyNode(nome=\"fiéis\")\n",
        "            ])\n",
        "        ])\n",
        "    ])\n",
        "])\n",
        "print(RenderTree(Papa))"
      ]
    },
    {
      "cell_type": "markdown",
      "metadata": {
        "id": "8eB4Y_NRh03S"
      },
      "source": [
        "***Segundo exercício:***\n",
        "\n",
        "Monte uma Tree, usando os Nodes e a técnica que preferir, baseado no diagrama a seguir, contendo a hierarquia de um grupo 'Triad'.\n",
        "\n",
        "![exercicio2](https://i2.wp.com/www.estilogangster.com.br/wp-content/uploads/2017/12/mafia-chinesa-triade.jpg?resize=662%2C473 \"hierarquia triad\")"
      ]
    },
    {
      "cell_type": "code",
      "execution_count": null,
      "metadata": {
        "id": "j0q3Ql7ZRbUQ"
      },
      "outputs": [],
      "source": [
        "#segundo exercício"
      ]
    },
    {
      "cell_type": "markdown",
      "metadata": {
        "id": "wLdc58AxHIvK"
      },
      "source": [
        "**Terceiro exercício:**\n",
        "\n",
        "Elabore uma Tree com todas as disciplinas/cursos que você completou até aqui e seus pre-requisitos (cursos relacioanados prévios necessários).\n",
        "\n",
        "*Dica:* Comece usando seu nome como Root, depois coloque as matérias introdutórias tendo como parent seu nome e assim por diante."
      ]
    },
    {
      "cell_type": "code",
      "execution_count": null,
      "metadata": {
        "id": "Sjs5r9wDH_gV"
      },
      "outputs": [],
      "source": [
        "#terceiro exercício"
      ]
    },
    {
      "cell_type": "markdown",
      "metadata": {
        "id": "Ltl4I57Xi4n0"
      },
      "source": [
        "# Respostas"
      ]
    },
    {
      "cell_type": "markdown",
      "metadata": {
        "id": "50jVmzxgi6yd"
      },
      "source": [
        "### Exercício 3:"
      ]
    },
    {
      "cell_type": "markdown",
      "metadata": {
        "id": "J6H-JGJ835c-"
      },
      "source": []
    },
    {
      "cell_type": "code",
      "execution_count": null,
      "metadata": {
        "id": "oz73lbk_i-g0"
      },
      "outputs": [],
      "source": [
        "from anytree import Node,AnyNode, RenderTree\n",
        "\n",
        "dragon_head = AnyNode(nome = \"Mestre da montanha\", cargo = \"Líder\")\n",
        "vanguardista = AnyNode(nome = \"Vanguardista\", cargo = \"Chefe de operações\", parent = dragon_head)\n",
        "dep_mestre_montanha = AnyNode(nome = \"Deputado do mestre da montanha\", cargo = \"Representante\", parent = dragon_head)\n",
        "mestre_incesario = AnyNode(nome = \"Mestre incesário\", cargo = \"Mestre de cerimônias\", parent = dragon_head)\n",
        "helice_de_papel_branco = AnyNode(nome = \"Hélice de papel branco\", cargo = \"Administrador\", parent = dep_mestre_montanha)\n",
        "trave_vermelha = AnyNode(nome = \"Trave vermelha\", cargo = \"Soldado\", parent = dep_mestre_montanha)\n",
        "sandalia_de_palha = AnyNode(nome = \"Sandália de Palha\", cargo = \"Chefe de comunicações\", parent = dep_mestre_montanha)\n",
        "os49 = AnyNode(nome = \"49'ers o(s) 49\", cargo = \"Membros comuns\", parent = trave_vermelha)\n",
        "lanternas_azuis = AnyNode(nome = \"Lanternas azuis\", cargo = \"Membros ainda não iniciados\", parent = trave_vermelha)\n",
        "\n",
        "print(RenderTree(dragon_head))"
      ]
    },
    {
      "cell_type": "markdown",
      "metadata": {
        "id": "P42blwaujUeP"
      },
      "source": [
        "### Exercício 4:"
      ]
    },
    {
      "cell_type": "code",
      "execution_count": null,
      "metadata": {
        "id": "mC1H3fZdi_hC"
      },
      "outputs": [],
      "source": [
        "from anytree import Node,AnyNode, RenderTree\n",
        "\n",
        "RPMTI = AnyNode(desc = \"Resoluções e Problemas Matemáticos para Tecnologia da Informação\", car_horaria = \"180h\")\n",
        "PLEI = AnyNode(desc = \"Práticas de leitura e escrita I\", carg_horaria = \"30h\")\n",
        "PLI = AnyNode(desc = \"Práticas de leitura em inglês\", carg_horaria = \"30h\")\n",
        "TIS = AnyNode(desc = \"Tecnologia da infromação e socidade\", carg_horaria = \"30h\")\n",
        "CI = AnyNode(desc = \"Cálculo diferencial e integral I\", car_horaria = \"90h\", parent = RPMTI)\n",
        "ITP = AnyNode(desc = \"Introdução as Técnicas de Programação\", car_horaria = \"60h\", parent = RPMTI)\n",
        "PTP = AnyNode(desc = \"prática de Técnicas de Programação\", car_horaria = \"30h\", parent = RPMTI)\n",
        "VGA = AnyNode(desc = \"Vetores e Geometria Análita\", car_horaria = \"60h\", parent = RPMTI)\n",
        "FMCI = AnyNode(desc = \"Fundamentos matemáticos da computação I\", car_horaria = \"90h\", parent = RPMTI)\n",
        "PLEII = AnyNode(desc = \"Práticas de leitura e escrita II\", carg_horaria = \"30h\", parent = PLEI)\n",
        "ALC = AnyNode(desc = \"Àlgebra Linear para computação\", carg_horaria = \"60h\", parent = VGA)\n",
        "MEII = AnyNode(desc = \"Matemática para engenharia II\", carg_horaria = \"90h\", parent = CI)\n",
        "PF = AnyNode(desc = \"Programação Funcional\", carg_horaria = \"60h\", parent = RPMTI)\n",
        "FMCII = AnyNode(desc = \"Fundamentos matemáticos da computação II\", carg_horaria = \"90h\", parent = FMCI)\n",
        "MEIII = AnyNode(desc = \"Matemática para engenharia III\", carg_horaria = \"90h\", parent = MEII)\n",
        "FMCIII = AnyNode(desc = \"Fundamentos matemáticos da computação III\", carg_horaria = \"90h\", parent = FMCII)\n",
        "\n",
        "print(RenderTree(RPMTI),RenderTree(PLEI),RenderTree(PLI),RenderTree(TIS))"
      ]
    }
  ],
  "metadata": {
    "colab": {
      "provenance": []
    },
    "kernelspec": {
      "display_name": "Python 3",
      "language": "python",
      "name": "python3"
    },
    "language_info": {
      "codemirror_mode": {
        "name": "ipython",
        "version": 3
      },
      "file_extension": ".py",
      "mimetype": "text/x-python",
      "name": "python",
      "nbconvert_exporter": "python",
      "pygments_lexer": "ipython3",
      "version": "3.6.8"
    }
  },
  "nbformat": 4,
  "nbformat_minor": 0
}
